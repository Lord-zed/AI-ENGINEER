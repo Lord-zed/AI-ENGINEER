{
 "cells": [
  {
   "cell_type": "markdown",
   "id": "b1709efa",
   "metadata": {},
   "source": [
    "### Creating series and DataFrames"
   ]
  },
  {
   "cell_type": "code",
   "execution_count": null,
   "id": "0dd71cbc",
   "metadata": {},
   "outputs": [],
   "source": [
    "import pandas as pd\n",
    "import numpy as np\n",
    "data=[1,2,3,4,5,6,7,8,9,10]\n",
    "df=pd.DataFrame(data)\n",
    "df.head()\n",
    "\n",
    "daa=np.arange(1,12)\n",
    "daf=pd.DataFrame(daa)\n",
    "print('daf data frame:\\n',daf)\n",
    "\n",
    "series=pd.Series(data)\n",
    "print('Series:\\n',series.head())\n",
    "\n",
    "print(type(series))"
   ]
  },
  {
   "cell_type": "code",
   "execution_count": 9,
   "id": "685df65f",
   "metadata": {},
   "outputs": [
    {
     "data": {
      "text/plain": [
       "pandas.core.series.Series"
      ]
     },
     "execution_count": 9,
     "metadata": {},
     "output_type": "execute_result"
    }
   ],
   "source": [
    "# lets confirm to be sure we had created a pandas series\n",
    "type(series)"
   ]
  },
  {
   "cell_type": "code",
   "execution_count": 10,
   "id": "846d0aa3",
   "metadata": {},
   "outputs": [
    {
     "data": {
      "text/plain": [
       "a    1\n",
       "b    2\n",
       "c    3\n",
       "d    4\n",
       "e    5\n",
       "dtype: int64"
      ]
     },
     "execution_count": 10,
     "metadata": {},
     "output_type": "execute_result"
    }
   ],
   "source": [
    "# lets create a series using the same list but now we will be adding our own serial numbering in python \n",
    "series=pd.Series(data, index=['a','b',\"c\",\"d\",\"e\",\"f\",\"g\",\"h\",\"i\",\"j\"])\n",
    "series.head()"
   ]
  },
  {
   "cell_type": "code",
   "execution_count": 12,
   "id": "0af38c81",
   "metadata": {},
   "outputs": [
    {
     "data": {
      "text/plain": [
       "a    10\n",
       "b    20\n",
       "c    30\n",
       "d    40\n",
       "e    50\n",
       "dtype: int64"
      ]
     },
     "execution_count": 12,
     "metadata": {},
     "output_type": "execute_result"
    }
   ],
   "source": [
    "# lets create a series using python dictionary\n",
    "\n",
    "# lets create python dictionary\n",
    "data2={'a':10,'b':20,'c':30,'d':40,'e':50}\n",
    "series=pd.Series(data2)\n",
    "series"
   ]
  },
  {
   "cell_type": "code",
   "execution_count": 14,
   "id": "c4829faa",
   "metadata": {},
   "outputs": [
    {
     "name": "stdout",
     "output_type": "stream",
     "text": [
      "Queston2:\n",
      " Name             Zacheaus\n",
      "Age                    26\n",
      "Track         AI-Engineer\n",
      "Hobby               Movie\n",
      "Occupation       Engineer\n",
      "p.Foot              Right\n",
      "dtype: object\n"
     ]
    }
   ],
   "source": [
    "# Hands on practice\n",
    "\n",
    "data3=['Biro','Chalk','sweet','Cup','Book','Cable']\n",
    "df=pd.Series(data3, index=['a','b','c','d','e','f'])\n",
    "df\n",
    "\n",
    "# 2\n",
    "data={'Name':'Zacheaus','Age':26,'Track':'AI-Engineer','Hobby':'Movie','Occupation':'Engineer','p.Foot':'Right'}\n",
    "df=pd.Series(data)\n",
    "print('Queston2:\\n',df)"
   ]
  },
  {
   "cell_type": "code",
   "execution_count": null,
   "id": "f7ef0477",
   "metadata": {},
   "outputs": [
    {
     "name": "stdout",
     "output_type": "stream",
     "text": [
      "    Name  Age   Town\n",
      "0    Ayo   20    Abk\n",
      "1   Dayo   21  Benin\n",
      "2  Juwon   24  Ikeja\n",
      "checking for series:\n",
      " Name     [Ayo, Dayo, Juwon]\n",
      "Age            [20, 21, 24]\n",
      "Town    [Abk, Benin, Ikeja]\n",
      "dtype: object\n",
      "Showing for shape:\n",
      " (3,)\n",
      "Showing for info:\n",
      " <bound method Series.info of Name     [Ayo, Dayo, Juwon]\n",
      "Age            [20, 21, 24]\n",
      "Town    [Abk, Benin, Ikeja]\n",
      "dtype: object>\n",
      "showing for describe:\n",
      " <bound method NDFrame.describe of Name     [Ayo, Dayo, Juwon]\n",
      "Age            [20, 21, 24]\n",
      "Town    [Abk, Benin, Ikeja]\n",
      "dtype: object>\n"
     ]
    }
   ],
   "source": [
    "# Creating dataframe\n",
    "my_data={'Name':['Ayo', 'Dayo', 'Juwon'],\n",
    "         'Age':[20, 21,24],\n",
    "         'Town':['Abk','Benin','Ikeja']}\n",
    "df=pd.DataFrame(my_data)\n",
    "print(df)\n",
    "\n",
    "# checking for series\n",
    "df=pd.Series(my_data)\n",
    "print('checking for series:\\n',df)\n",
    "print('Showing for shape:\\n',df.shape)\n",
    "print('Showing for info:\\n',df.info)\n",
    "print('showing for describe:\\n',df.describe)"
   ]
  },
  {
   "cell_type": "markdown",
   "id": "23181987",
   "metadata": {},
   "source": [
    "### B. Data input and output"
   ]
  },
  {
   "cell_type": "code",
   "execution_count": 54,
   "id": "976b2e49",
   "metadata": {},
   "outputs": [
    {
     "name": "stdout",
     "output_type": "stream",
     "text": [
      "showing:\n",
      "   First_Name Last_Name  Gender  Seat_No    City     Course_Track PC_make  \\\n",
      "0      Emeka    Julius    Male      101   Lagos     Data Science      HP   \n",
      "1      Aisha     Bello  Female      102   Abuja  Cloud Computing    Dell   \n",
      "2        Ayo   Adewale    Male      103  Ibadan    Cybersecurity      HP   \n",
      "3    Chinedu  Godswill    Male      104   Enugu               AI    Asus   \n",
      "4     Fatima  Abubakar  Female      105    Kano     Data Science   Apple   \n",
      "\n",
      "     PC_Os   Feedback  \n",
      "0  Windows       Good  \n",
      "1    Linux  Excellent  \n",
      "2  Windows  Excellent  \n",
      "3  Windows       Good  \n",
      "4    Linux       Poor  \n"
     ]
    },
    {
     "data": {
      "text/plain": [
       "'Lagos'"
      ]
     },
     "execution_count": 54,
     "metadata": {},
     "output_type": "execute_result"
    }
   ],
   "source": [
    "# saving data to csv\n",
    "\n",
    "\n",
    "#pd.read_csv('class_data.csv')\n",
    "df=pd.read_csv('created_data.csv')\n",
    "doo=pd.DataFrame(df)\n",
    "print('showing:\\n',df.head())\n",
    "# print('Description:\\n',df.describe())\n",
    "# print('Information:\\n',df.info())\n",
    "# print('Column:\\n',df.columns)\n",
    "\n",
    "# print('Crafting a column:\\n',df['Seat_No'])\n",
    "# df.isna().sum()\n",
    "#df.duplicated()\n",
    "\n",
    "# selecting multiple column\n",
    "df[['Last_Name','Seat_No']]\n",
    "\n",
    "# cell selection\n",
    "df['City'][0]\n"
   ]
  },
  {
   "cell_type": "markdown",
   "id": "2dbeb908",
   "metadata": {},
   "source": [
    "Conditional filltering"
   ]
  },
  {
   "cell_type": "code",
   "execution_count": 60,
   "id": "c8a21c51",
   "metadata": {},
   "outputs": [
    {
     "name": "stdout",
     "output_type": "stream",
     "text": [
      "Rows where City is Lagos\n",
      "    First_Name Last_Name  Gender  Seat_No   City   Course_Track PC_make  \\\n",
      "0       Emeka    Julius    Male      101  Lagos   Data Science      HP   \n",
      "10        Ada      Umeh  Female      111  Lagos   Data Science      HP   \n",
      "12      Mercy      Musa  Female      113  Lagos  Cybersecurity  Lenovo   \n",
      "\n",
      "      PC_Os Feedback  \n",
      "0   Windows     Good  \n",
      "10    Linux     Good  \n",
      "12  Windows  Average  \n"
     ]
    }
   ],
   "source": [
    "# Filter rows where Gender is 'Female'. This is going to return dataframe\n",
    "filtered_male=df[df['City']=='Lagos']\n",
    "print('Rows where City is Lagos\\n',filtered_male)\n",
    "\n"
   ]
  },
  {
   "cell_type": "code",
   "execution_count": null,
   "id": "a8876d32",
   "metadata": {},
   "outputs": [],
   "source": [
    "# conditional filtering\n",
    "filtre_female=df[df['Gender']=='Female']\n",
    "print(filtre_female)"
   ]
  },
  {
   "cell_type": "code",
   "execution_count": 62,
   "id": "3989bae7",
   "metadata": {},
   "outputs": [
    {
     "name": "stdout",
     "output_type": "stream",
     "text": [
      "   First_Name Last_Name  Gender  Seat_No   City   Course_Track PC_make  \\\n",
      "10        Ada      Umeh  Female      111  Lagos   Data Science      HP   \n",
      "12      Mercy      Musa  Female      113  Lagos  Cybersecurity  Lenovo   \n",
      "\n",
      "      PC_Os Feedback  \n",
      "10    Linux     Good  \n",
      "12  Windows  Average  \n"
     ]
    }
   ],
   "source": [
    "# filter row where gender is female and city is lagos\n",
    "two_col=df[(df['Gender']=='Female') & (df['City']=='Lagos')]\n",
    "print(two_col)"
   ]
  },
  {
   "cell_type": "code",
   "execution_count": 64,
   "id": "5e95d341",
   "metadata": {},
   "outputs": [
    {
     "name": "stdout",
     "output_type": "stream",
     "text": [
      "   First_Name Last_Name  Gender  Seat_No   City     Course_Track PC_make  \\\n",
      "1       Aisha     Bello  Female      102  Abuja  Cloud Computing    Dell   \n",
      "10        Ada      Umeh  Female      111  Lagos     Data Science      HP   \n",
      "12      Mercy      Musa  Female      113  Lagos    Cybersecurity  Lenovo   \n",
      "14     Zainab  Mohammed  Female      115  Abuja  Cloud Computing    Dell   \n",
      "\n",
      "      PC_Os   Feedback  \n",
      "1     Linux  Excellent  \n",
      "10    Linux       Good  \n",
      "12  Windows    Average  \n",
      "14    MacOS       Good  \n"
     ]
    }
   ],
   "source": [
    "cities=['Lagos','Abuja']\n",
    "filter=df[(df['Gender']=='Female') & (df['City'].isin(cities))]\n",
    "print(filter)"
   ]
  },
  {
   "cell_type": "markdown",
   "id": "1020fc1e",
   "metadata": {},
   "source": [
    "Using the query method to filter"
   ]
  },
  {
   "cell_type": "code",
   "execution_count": 71,
   "id": "fbd987a3",
   "metadata": {},
   "outputs": [
    {
     "name": "stdout",
     "output_type": "stream",
     "text": [
      "   First_Name Last_Name  Gender  Seat_No   City     Course_Track PC_make  \\\n",
      "1       Aisha     Bello  Female      102  Abuja  Cloud Computing    Dell   \n",
      "10        Ada      Umeh  Female      111  Lagos     Data Science      HP   \n",
      "12      Mercy      Musa  Female      113  Lagos    Cybersecurity  Lenovo   \n",
      "14     Zainab  Mohammed  Female      115  Abuja  Cloud Computing    Dell   \n",
      "\n",
      "      PC_Os   Feedback  \n",
      "1     Linux  Excellent  \n",
      "10    Linux       Good  \n",
      "12  Windows    Average  \n",
      "14    MacOS       Good  \n"
     ]
    }
   ],
   "source": [
    "query=df.query('Gender == \"Female\" and City in [\"Lagos\",\"Abuja\"]')\n",
    "print(query)"
   ]
  },
  {
   "cell_type": "code",
   "execution_count": null,
   "id": "c3ed5333",
   "metadata": {},
   "outputs": [],
   "source": [
    "city=['Lagos', 'Abuja']\n",
    "aquery=df.query('City == @city')\n",
    "print(aquery)"
   ]
  },
  {
   "cell_type": "code",
   "execution_count": null,
   "id": "4d17d93b",
   "metadata": {},
   "outputs": [],
   "source": [
    "# fillo=df.query('Gender == \"Female\" and City in [\"Benin\",\"Abuja\"]')\n",
    "# print(fillo)\n",
    "\n",
    "filla=df[(df['Gender']=='Male') & (df['City']=='Benin')]\n",
    "print(filla)"
   ]
  },
  {
   "cell_type": "markdown",
   "id": "856cb6c9",
   "metadata": {},
   "source": [
    "### Data Transformation"
   ]
  },
  {
   "cell_type": "code",
   "execution_count": 84,
   "id": "41b792ac",
   "metadata": {},
   "outputs": [
    {
     "data": {
      "text/html": [
       "<div>\n",
       "<style scoped>\n",
       "    .dataframe tbody tr th:only-of-type {\n",
       "        vertical-align: middle;\n",
       "    }\n",
       "\n",
       "    .dataframe tbody tr th {\n",
       "        vertical-align: top;\n",
       "    }\n",
       "\n",
       "    .dataframe thead th {\n",
       "        text-align: right;\n",
       "    }\n",
       "</style>\n",
       "<table border=\"1\" class=\"dataframe\">\n",
       "  <thead>\n",
       "    <tr style=\"text-align: right;\">\n",
       "      <th></th>\n",
       "      <th>First_Name</th>\n",
       "      <th>Last_Name</th>\n",
       "      <th>Gender</th>\n",
       "      <th>Seat_No</th>\n",
       "      <th>City</th>\n",
       "      <th>Course_Track</th>\n",
       "      <th>PC_make</th>\n",
       "      <th>PC_Os</th>\n",
       "      <th>Feedback</th>\n",
       "    </tr>\n",
       "  </thead>\n",
       "  <tbody>\n",
       "    <tr>\n",
       "      <th>0</th>\n",
       "      <td>Emeka</td>\n",
       "      <td>Julius</td>\n",
       "      <td>MALE</td>\n",
       "      <td>101</td>\n",
       "      <td>Lagos</td>\n",
       "      <td>NaN</td>\n",
       "      <td>HP</td>\n",
       "      <td>Windows</td>\n",
       "      <td>Good</td>\n",
       "    </tr>\n",
       "    <tr>\n",
       "      <th>1</th>\n",
       "      <td>Aisha</td>\n",
       "      <td>Bello</td>\n",
       "      <td>FEMALE</td>\n",
       "      <td>102</td>\n",
       "      <td>Abuja</td>\n",
       "      <td>NaN</td>\n",
       "      <td>Dell</td>\n",
       "      <td>Linux</td>\n",
       "      <td>Excellent</td>\n",
       "    </tr>\n",
       "    <tr>\n",
       "      <th>2</th>\n",
       "      <td>Ayo</td>\n",
       "      <td>Adewale</td>\n",
       "      <td>MALE</td>\n",
       "      <td>103</td>\n",
       "      <td>Ibadan</td>\n",
       "      <td>NaN</td>\n",
       "      <td>HP</td>\n",
       "      <td>Windows</td>\n",
       "      <td>Excellent</td>\n",
       "    </tr>\n",
       "    <tr>\n",
       "      <th>3</th>\n",
       "      <td>Chinedu</td>\n",
       "      <td>Godswill</td>\n",
       "      <td>MALE</td>\n",
       "      <td>104</td>\n",
       "      <td>Enugu</td>\n",
       "      <td>NaN</td>\n",
       "      <td>Asus</td>\n",
       "      <td>Windows</td>\n",
       "      <td>Good</td>\n",
       "    </tr>\n",
       "    <tr>\n",
       "      <th>4</th>\n",
       "      <td>Fatima</td>\n",
       "      <td>Abubakar</td>\n",
       "      <td>FEMALE</td>\n",
       "      <td>105</td>\n",
       "      <td>Kano</td>\n",
       "      <td>NaN</td>\n",
       "      <td>Apple</td>\n",
       "      <td>Linux</td>\n",
       "      <td>Poor</td>\n",
       "    </tr>\n",
       "  </tbody>\n",
       "</table>\n",
       "</div>"
      ],
      "text/plain": [
       "  First_Name Last_Name  Gender  Seat_No    City  Course_Track PC_make  \\\n",
       "0      Emeka    Julius    MALE      101   Lagos           NaN      HP   \n",
       "1      Aisha     Bello  FEMALE      102   Abuja           NaN    Dell   \n",
       "2        Ayo   Adewale    MALE      103  Ibadan           NaN      HP   \n",
       "3    Chinedu  Godswill    MALE      104   Enugu           NaN    Asus   \n",
       "4     Fatima  Abubakar  FEMALE      105    Kano           NaN   Apple   \n",
       "\n",
       "     PC_Os   Feedback  \n",
       "0  Windows       Good  \n",
       "1    Linux  Excellent  \n",
       "2  Windows  Excellent  \n",
       "3  Windows       Good  \n",
       "4    Linux       Poor  "
      ]
     },
     "execution_count": 84,
     "metadata": {},
     "output_type": "execute_result"
    }
   ],
   "source": [
    "# Lets apply some of the methods to our dataset\n",
    "df['Gender']=df['Gender'].str.upper()\n",
    "df.head()\n"
   ]
  },
  {
   "cell_type": "markdown",
   "id": "ab466020",
   "metadata": {},
   "source": [
    "Sorting values"
   ]
  },
  {
   "cell_type": "code",
   "execution_count": 85,
   "id": "81c62545",
   "metadata": {},
   "outputs": [
    {
     "data": {
      "text/html": [
       "<div>\n",
       "<style scoped>\n",
       "    .dataframe tbody tr th:only-of-type {\n",
       "        vertical-align: middle;\n",
       "    }\n",
       "\n",
       "    .dataframe tbody tr th {\n",
       "        vertical-align: top;\n",
       "    }\n",
       "\n",
       "    .dataframe thead th {\n",
       "        text-align: right;\n",
       "    }\n",
       "</style>\n",
       "<table border=\"1\" class=\"dataframe\">\n",
       "  <thead>\n",
       "    <tr style=\"text-align: right;\">\n",
       "      <th></th>\n",
       "      <th>First_Name</th>\n",
       "      <th>Last_Name</th>\n",
       "      <th>Gender</th>\n",
       "      <th>Seat_No</th>\n",
       "      <th>City</th>\n",
       "      <th>Course_Track</th>\n",
       "      <th>PC_make</th>\n",
       "      <th>PC_Os</th>\n",
       "      <th>Feedback</th>\n",
       "    </tr>\n",
       "  </thead>\n",
       "  <tbody>\n",
       "    <tr>\n",
       "      <th>10</th>\n",
       "      <td>Ada</td>\n",
       "      <td>Umeh</td>\n",
       "      <td>FEMALE</td>\n",
       "      <td>111</td>\n",
       "      <td>Lagos</td>\n",
       "      <td>NaN</td>\n",
       "      <td>HP</td>\n",
       "      <td>Linux</td>\n",
       "      <td>Good</td>\n",
       "    </tr>\n",
       "    <tr>\n",
       "      <th>1</th>\n",
       "      <td>Aisha</td>\n",
       "      <td>Bello</td>\n",
       "      <td>FEMALE</td>\n",
       "      <td>102</td>\n",
       "      <td>Abuja</td>\n",
       "      <td>NaN</td>\n",
       "      <td>Dell</td>\n",
       "      <td>Linux</td>\n",
       "      <td>Excellent</td>\n",
       "    </tr>\n",
       "    <tr>\n",
       "      <th>2</th>\n",
       "      <td>Ayo</td>\n",
       "      <td>Adewale</td>\n",
       "      <td>MALE</td>\n",
       "      <td>103</td>\n",
       "      <td>Ibadan</td>\n",
       "      <td>NaN</td>\n",
       "      <td>HP</td>\n",
       "      <td>Windows</td>\n",
       "      <td>Excellent</td>\n",
       "    </tr>\n",
       "    <tr>\n",
       "      <th>19</th>\n",
       "      <td>Chika</td>\n",
       "      <td>Micheal</td>\n",
       "      <td>MALE</td>\n",
       "      <td>120</td>\n",
       "      <td>Onitsha</td>\n",
       "      <td>NaN</td>\n",
       "      <td>Apple</td>\n",
       "      <td>Linux</td>\n",
       "      <td>Excellent</td>\n",
       "    </tr>\n",
       "    <tr>\n",
       "      <th>3</th>\n",
       "      <td>Chinedu</td>\n",
       "      <td>Godswill</td>\n",
       "      <td>MALE</td>\n",
       "      <td>104</td>\n",
       "      <td>Enugu</td>\n",
       "      <td>NaN</td>\n",
       "      <td>Asus</td>\n",
       "      <td>Windows</td>\n",
       "      <td>Good</td>\n",
       "    </tr>\n",
       "  </tbody>\n",
       "</table>\n",
       "</div>"
      ],
      "text/plain": [
       "   First_Name Last_Name  Gender  Seat_No     City  Course_Track PC_make  \\\n",
       "10        Ada      Umeh  FEMALE      111    Lagos           NaN      HP   \n",
       "1       Aisha     Bello  FEMALE      102    Abuja           NaN    Dell   \n",
       "2         Ayo   Adewale    MALE      103   Ibadan           NaN      HP   \n",
       "19      Chika   Micheal    MALE      120  Onitsha           NaN   Apple   \n",
       "3     Chinedu  Godswill    MALE      104    Enugu           NaN    Asus   \n",
       "\n",
       "      PC_Os   Feedback  \n",
       "10    Linux       Good  \n",
       "1     Linux  Excellent  \n",
       "2   Windows  Excellent  \n",
       "19    Linux  Excellent  \n",
       "3   Windows       Good  "
      ]
     },
     "execution_count": 85,
     "metadata": {},
     "output_type": "execute_result"
    }
   ],
   "source": [
    "df.sort_values(by='First_Name', ascending=True, inplace=True)\n",
    "df.head()"
   ]
  },
  {
   "cell_type": "markdown",
   "id": "d16189ec",
   "metadata": {},
   "source": [
    "### Grouping and Aggregation"
   ]
  },
  {
   "cell_type": "code",
   "execution_count": null,
   "id": "f4ee779d",
   "metadata": {},
   "outputs": [],
   "source": [
    "print('shpwing sum:\\n',df['Seat_No'].sum())\n",
    "print('showing median:\\n',df.Seat_No.median())\n",
    "print('showing describe',df.Seat_No.describe())\n",
    "print('showing variance',df.Seat_No.var())\n"
   ]
  },
  {
   "cell_type": "code",
   "execution_count": 92,
   "id": "30275500",
   "metadata": {},
   "outputs": [
    {
     "data": {
      "text/html": [
       "<div>\n",
       "<style scoped>\n",
       "    .dataframe tbody tr th:only-of-type {\n",
       "        vertical-align: middle;\n",
       "    }\n",
       "\n",
       "    .dataframe tbody tr th {\n",
       "        vertical-align: top;\n",
       "    }\n",
       "\n",
       "    .dataframe thead th {\n",
       "        text-align: right;\n",
       "    }\n",
       "</style>\n",
       "<table border=\"1\" class=\"dataframe\">\n",
       "  <thead>\n",
       "    <tr style=\"text-align: right;\">\n",
       "      <th></th>\n",
       "      <th>First_Name</th>\n",
       "      <th>Last_Name</th>\n",
       "      <th>Gender</th>\n",
       "      <th>Seat_No</th>\n",
       "      <th>City</th>\n",
       "      <th>Course_Track</th>\n",
       "      <th>PC_make</th>\n",
       "      <th>PC_Os</th>\n",
       "      <th>Feedback</th>\n",
       "    </tr>\n",
       "  </thead>\n",
       "  <tbody>\n",
       "    <tr>\n",
       "      <th>0</th>\n",
       "      <td>Emeka</td>\n",
       "      <td>Julius</td>\n",
       "      <td>Male</td>\n",
       "      <td>101</td>\n",
       "      <td>Lagos</td>\n",
       "      <td>Data Science</td>\n",
       "      <td>HP</td>\n",
       "      <td>Windows</td>\n",
       "      <td>Good</td>\n",
       "    </tr>\n",
       "    <tr>\n",
       "      <th>1</th>\n",
       "      <td>Aisha</td>\n",
       "      <td>Bello</td>\n",
       "      <td>Female</td>\n",
       "      <td>102</td>\n",
       "      <td>Abuja</td>\n",
       "      <td>Cloud Computing</td>\n",
       "      <td>Dell</td>\n",
       "      <td>Linux</td>\n",
       "      <td>Excellent</td>\n",
       "    </tr>\n",
       "    <tr>\n",
       "      <th>2</th>\n",
       "      <td>Ayo</td>\n",
       "      <td>Adewale</td>\n",
       "      <td>Male</td>\n",
       "      <td>103</td>\n",
       "      <td>Ibadan</td>\n",
       "      <td>Cybersecurity</td>\n",
       "      <td>HP</td>\n",
       "      <td>Windows</td>\n",
       "      <td>Excellent</td>\n",
       "    </tr>\n",
       "    <tr>\n",
       "      <th>3</th>\n",
       "      <td>Chinedu</td>\n",
       "      <td>Godswill</td>\n",
       "      <td>Male</td>\n",
       "      <td>104</td>\n",
       "      <td>Enugu</td>\n",
       "      <td>AI</td>\n",
       "      <td>Asus</td>\n",
       "      <td>Windows</td>\n",
       "      <td>Good</td>\n",
       "    </tr>\n",
       "    <tr>\n",
       "      <th>4</th>\n",
       "      <td>Fatima</td>\n",
       "      <td>Abubakar</td>\n",
       "      <td>Female</td>\n",
       "      <td>105</td>\n",
       "      <td>Kano</td>\n",
       "      <td>Data Science</td>\n",
       "      <td>Apple</td>\n",
       "      <td>Linux</td>\n",
       "      <td>Poor</td>\n",
       "    </tr>\n",
       "    <tr>\n",
       "      <th>5</th>\n",
       "      <td>Ibrahim</td>\n",
       "      <td>David</td>\n",
       "      <td>Male</td>\n",
       "      <td>106</td>\n",
       "      <td>Benin</td>\n",
       "      <td>Cloud Computing</td>\n",
       "      <td>HP</td>\n",
       "      <td>MacOS</td>\n",
       "      <td>Excellent</td>\n",
       "    </tr>\n",
       "    <tr>\n",
       "      <th>6</th>\n",
       "      <td>Ngozi</td>\n",
       "      <td>Collins</td>\n",
       "      <td>Female</td>\n",
       "      <td>107</td>\n",
       "      <td>Port Harcourt</td>\n",
       "      <td>Web Dev</td>\n",
       "      <td>Dell</td>\n",
       "      <td>Windows</td>\n",
       "      <td>Good</td>\n",
       "    </tr>\n",
       "    <tr>\n",
       "      <th>7</th>\n",
       "      <td>Tolu</td>\n",
       "      <td>Ogunleye</td>\n",
       "      <td>Male</td>\n",
       "      <td>108</td>\n",
       "      <td>Abeokuta</td>\n",
       "      <td>AI</td>\n",
       "      <td>Lenovo</td>\n",
       "      <td>Linux</td>\n",
       "      <td>Average</td>\n",
       "    </tr>\n",
       "    <tr>\n",
       "      <th>8</th>\n",
       "      <td>Olamide</td>\n",
       "      <td>Adepoju</td>\n",
       "      <td>Male</td>\n",
       "      <td>109</td>\n",
       "      <td>Benin</td>\n",
       "      <td>Cybersecurity</td>\n",
       "      <td>Asus</td>\n",
       "      <td>MacOS</td>\n",
       "      <td>Good</td>\n",
       "    </tr>\n",
       "    <tr>\n",
       "      <th>9</th>\n",
       "      <td>Yusuf</td>\n",
       "      <td>Garba</td>\n",
       "      <td>Male</td>\n",
       "      <td>110</td>\n",
       "      <td>Abeokuta</td>\n",
       "      <td>AI</td>\n",
       "      <td>Apple</td>\n",
       "      <td>Windows</td>\n",
       "      <td>Excellent</td>\n",
       "    </tr>\n",
       "  </tbody>\n",
       "</table>\n",
       "</div>"
      ],
      "text/plain": [
       "  First_Name Last_Name  Gender  Seat_No           City     Course_Track  \\\n",
       "0      Emeka    Julius    Male      101          Lagos     Data Science   \n",
       "1      Aisha     Bello  Female      102          Abuja  Cloud Computing   \n",
       "2        Ayo   Adewale    Male      103         Ibadan    Cybersecurity   \n",
       "3    Chinedu  Godswill    Male      104          Enugu               AI   \n",
       "4     Fatima  Abubakar  Female      105           Kano     Data Science   \n",
       "5    Ibrahim     David    Male      106          Benin  Cloud Computing   \n",
       "6      Ngozi   Collins  Female      107  Port Harcourt          Web Dev   \n",
       "7       Tolu  Ogunleye    Male      108       Abeokuta               AI   \n",
       "8    Olamide   Adepoju    Male      109          Benin    Cybersecurity   \n",
       "9      Yusuf     Garba    Male      110       Abeokuta               AI   \n",
       "\n",
       "  PC_make    PC_Os   Feedback  \n",
       "0      HP  Windows       Good  \n",
       "1    Dell    Linux  Excellent  \n",
       "2      HP  Windows  Excellent  \n",
       "3    Asus  Windows       Good  \n",
       "4   Apple    Linux       Poor  \n",
       "5      HP    MacOS  Excellent  \n",
       "6    Dell  Windows       Good  \n",
       "7  Lenovo    Linux    Average  \n",
       "8    Asus    MacOS       Good  \n",
       "9   Apple  Windows  Excellent  "
      ]
     },
     "execution_count": 92,
     "metadata": {},
     "output_type": "execute_result"
    }
   ],
   "source": [
    "bio=pd.read_csv('bio2.csv')\n",
    "bio.head(10)"
   ]
  },
  {
   "cell_type": "code",
   "execution_count": 96,
   "id": "8919b352",
   "metadata": {},
   "outputs": [
    {
     "name": "stdout",
     "output_type": "stream",
     "text": [
      "Index(['First_Name', 'Last_Name', 'Gender', 'Seat_No', 'City', 'Course_Track',\n",
      "       'PC_make', 'PC_Os', 'Feedback'],\n",
      "      dtype='object')\n",
      "['HP' 'Dell' 'Asus' 'Apple' 'Lenovo']\n",
      "['Emeka' 'Aisha' 'Ayo' 'Chinedu' 'Fatima' 'Ibrahim' 'Ngozi' 'Tolu'\n",
      " 'Olamide' 'Yusuf' 'Ada' 'Kunle' 'Mercy' 'Segun' 'Zainab' 'Donald' 'Kemi'\n",
      " 'Usman' 'Funmi' 'Chika']\n"
     ]
    }
   ],
   "source": [
    "print(bio.columns)\n",
    "print(bio['PC_make'].unique())\n",
    "print(bio.First_Name.unique())"
   ]
  },
  {
   "cell_type": "code",
   "execution_count": 98,
   "id": "af24e7e6",
   "metadata": {},
   "outputs": [
    {
     "data": {
      "text/html": [
       "<div>\n",
       "<style scoped>\n",
       "    .dataframe tbody tr th:only-of-type {\n",
       "        vertical-align: middle;\n",
       "    }\n",
       "\n",
       "    .dataframe tbody tr th {\n",
       "        vertical-align: top;\n",
       "    }\n",
       "\n",
       "    .dataframe thead th {\n",
       "        text-align: right;\n",
       "    }\n",
       "</style>\n",
       "<table border=\"1\" class=\"dataframe\">\n",
       "  <thead>\n",
       "    <tr style=\"text-align: right;\">\n",
       "      <th></th>\n",
       "      <th>Gender</th>\n",
       "    </tr>\n",
       "    <tr>\n",
       "      <th>Course_Track</th>\n",
       "      <th></th>\n",
       "    </tr>\n",
       "  </thead>\n",
       "  <tbody>\n",
       "    <tr>\n",
       "      <th>AI</th>\n",
       "      <td>4</td>\n",
       "    </tr>\n",
       "    <tr>\n",
       "      <th>Cloud Computing</th>\n",
       "      <td>4</td>\n",
       "    </tr>\n",
       "    <tr>\n",
       "      <th>Cybersecurity</th>\n",
       "      <td>3</td>\n",
       "    </tr>\n",
       "    <tr>\n",
       "      <th>Data Science</th>\n",
       "      <td>6</td>\n",
       "    </tr>\n",
       "    <tr>\n",
       "      <th>Web Dev</th>\n",
       "      <td>3</td>\n",
       "    </tr>\n",
       "  </tbody>\n",
       "</table>\n",
       "</div>"
      ],
      "text/plain": [
       "                 Gender\n",
       "Course_Track           \n",
       "AI                    4\n",
       "Cloud Computing       4\n",
       "Cybersecurity         3\n",
       "Data Science          6\n",
       "Web Dev               3"
      ]
     },
     "execution_count": 98,
     "metadata": {},
     "output_type": "execute_result"
    }
   ],
   "source": [
    "# what is the total number of student taking each track?\n",
    "track_count= bio.groupby('Course_Track').agg({'Gender':'count'})\n",
    "track_count\n"
   ]
  },
  {
   "cell_type": "code",
   "execution_count": null,
   "id": "782777cd",
   "metadata": {},
   "outputs": [],
   "source": [
    "track_count=df.groupby('City').agg({'Gender':'count'})\n",
    "track_count"
   ]
  },
  {
   "cell_type": "code",
   "execution_count": 103,
   "id": "44e4f1bd",
   "metadata": {},
   "outputs": [
    {
     "name": "stdout",
     "output_type": "stream",
     "text": [
      "   First_Name Last_Name  Gender  Seat_No           City     Course_Track  \\\n",
      "1       Aisha     Bello  Female      102          Abuja  Cloud Computing   \n",
      "4      Fatima  Abubakar  Female      105           Kano     Data Science   \n",
      "6       Ngozi   Collins  Female      107  Port Harcourt          Web Dev   \n",
      "10        Ada      Umeh  Female      111          Lagos     Data Science   \n",
      "12      Mercy      Musa  Female      113          Lagos    Cybersecurity   \n",
      "14     Zainab  Mohammed  Female      115          Abuja  Cloud Computing   \n",
      "16       Kemi   Adebayo  Female      117          Benin          Web Dev   \n",
      "18      Funmi  Williams  Female      119        Calabar     Data Science   \n",
      "\n",
      "   PC_make    PC_Os   Feedback  \n",
      "1     Dell    Linux  Excellent  \n",
      "4    Apple    Linux       Poor  \n",
      "6     Dell  Windows       Good  \n",
      "10      HP    Linux       Good  \n",
      "12  Lenovo  Windows    Average  \n",
      "14    Dell    MacOS       Good  \n",
      "16    Dell    Linux  Excellent  \n",
      "18    Asus  Windows       Good  \n"
     ]
    }
   ],
   "source": [
    "female=bio.groupby('Gender').get_group('Female')\n",
    "print(female)"
   ]
  },
  {
   "cell_type": "code",
   "execution_count": 104,
   "id": "6f722f25",
   "metadata": {},
   "outputs": [
    {
     "data": {
      "text/plain": [
       "Course_Track\n",
       "Data Science       3\n",
       "Cloud Computing    2\n",
       "Web Dev            2\n",
       "Cybersecurity      1\n",
       "Name: count, dtype: int64"
      ]
     },
     "execution_count": 104,
     "metadata": {},
     "output_type": "execute_result"
    }
   ],
   "source": [
    "female['Course_Track'].value_counts()"
   ]
  }
 ],
 "metadata": {
  "kernelspec": {
   "display_name": "Python 3",
   "language": "python",
   "name": "python3"
  },
  "language_info": {
   "codemirror_mode": {
    "name": "ipython",
    "version": 3
   },
   "file_extension": ".py",
   "mimetype": "text/x-python",
   "name": "python",
   "nbconvert_exporter": "python",
   "pygments_lexer": "ipython3",
   "version": "3.13.7"
  }
 },
 "nbformat": 4,
 "nbformat_minor": 5
}
