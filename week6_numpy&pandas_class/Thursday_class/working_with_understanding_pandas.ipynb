{
 "cells": [
  {
   "cell_type": "markdown",
   "id": "504fe08f",
   "metadata": {},
   "source": [
    "# Group of function in pandas for Data Analysis"
   ]
  },
  {
   "cell_type": "markdown",
   "id": "aedab8ee",
   "metadata": {},
   "source": [
    "A . Creating series and data frames"
   ]
  },
  {
   "cell_type": "markdown",
   "id": "cb8edaf9",
   "metadata": {},
   "source": [
    ". creating a pandas series"
   ]
  },
  {
   "cell_type": "code",
   "execution_count": 3,
   "id": "24322a2e",
   "metadata": {},
   "outputs": [
    {
     "name": "stdout",
     "output_type": "stream",
     "text": [
      "0     1\n",
      "1     2\n",
      "2     3\n",
      "3     4\n",
      "4     5\n",
      "5     6\n",
      "6     7\n",
      "7     8\n",
      "8     9\n",
      "9    10\n",
      "dtype: int64\n"
     ]
    },
    {
     "data": {
      "text/plain": [
       "pandas.core.series.Series"
      ]
     },
     "execution_count": 3,
     "metadata": {},
     "output_type": "execute_result"
    }
   ],
   "source": [
    "# Lets create a pandas Series using a python list\n",
    "\n",
    "#Step 1: Import pandas package\n",
    "\n",
    "import pandas as pd\n",
    "import warnings\n",
    "warnings.filterwarnings('ignore')\n",
    "\n",
    "# set views\n",
    "pd.set_option('display.max_columns', 100)\n",
    "pd.set_option('display.width',100)\n",
    "\n",
    "# step2: Define a list \n",
    "data = [1,2,3,4,5,6,7,8,9,10]\n",
    "\n",
    "#step3: create the series\n",
    "series= pd.Series(data)\n",
    "print(series)\n",
    "\n",
    "# lets view the series we have created\n",
    "series.head(10)\n",
    "\n",
    "# lets confirm to be sure we had created a pandas series\n",
    "type(series)"
   ]
  },
  {
   "cell_type": "code",
   "execution_count": 8,
   "id": "c06b71ba",
   "metadata": {},
   "outputs": [
    {
     "data": {
      "text/plain": [
       "a     1\n",
       "b     2\n",
       "c     3\n",
       "d     4\n",
       "e     5\n",
       "f     6\n",
       "g     7\n",
       "h     8\n",
       "i     9\n",
       "j    10\n",
       "dtype: int64"
      ]
     },
     "execution_count": 8,
     "metadata": {},
     "output_type": "execute_result"
    }
   ],
   "source": [
    "# Lets create a series using the same list, but now we will be adding our own serial numbering, in python or pandas it is called index\n",
    "series2= pd.Series(data,index=[\"a\",\"b\",\"c\",\"d\",\"e\",\"f\",\"g\",\"h\",\"i\",\"j\"])\n",
    "series2.head(10)"
   ]
  },
  {
   "cell_type": "code",
   "execution_count": 9,
   "id": "99a07fc7",
   "metadata": {},
   "outputs": [
    {
     "data": {
      "text/plain": [
       "a    10\n",
       "b    20\n",
       "c    30\n",
       "dtype: int64"
      ]
     },
     "execution_count": 9,
     "metadata": {},
     "output_type": "execute_result"
    }
   ],
   "source": [
    "# lets create a series using python dictionary\n",
    "\n",
    "# lets create a python dictionary\n",
    "data2= {'a': 10, 'b': 20, 'c': 30}\n",
    "\n",
    "# lets create the series\n",
    "series3 = pd.Series(data2)\n",
    "series3.head()"
   ]
  },
  {
   "cell_type": "markdown",
   "id": "6dc1bbf8",
   "metadata": {},
   "source": [
    "# creating a data frame"
   ]
  },
  {
   "cell_type": "code",
   "execution_count": null,
   "id": "304edbac",
   "metadata": {},
   "outputs": [],
   "source": [
    "# LEts create a dataframe\n",
    "#Step1: import pandas\n",
    "\n",
    "# Define the data using dictionary that is having its values as a list.\n",
    "data = {\n",
    "    'Name': ['Chris', 'Ayo', 'Ayo'],\n",
    "    'Age': [26, 24, 22],\n",
    "    'Home_Town': ['Benin', 'Ibadan', 'Enugu']\n",
    "}\n",
    "\n",
    "# lets create the dataframe using \"df\" as short for dataframe\n",
    "df = pd.DataFrame(data)\n",
    "df.head()"
   ]
  },
  {
   "cell_type": "code",
   "execution_count": 44,
   "id": "5c35143e",
   "metadata": {},
   "outputs": [
    {
     "data": {
      "text/html": [
       "<div>\n",
       "<style scoped>\n",
       "    .dataframe tbody tr th:only-of-type {\n",
       "        vertical-align: middle;\n",
       "    }\n",
       "\n",
       "    .dataframe tbody tr th {\n",
       "        vertical-align: top;\n",
       "    }\n",
       "\n",
       "    .dataframe thead th {\n",
       "        text-align: right;\n",
       "    }\n",
       "</style>\n",
       "<table border=\"1\" class=\"dataframe\">\n",
       "  <thead>\n",
       "    <tr style=\"text-align: right;\">\n",
       "      <th></th>\n",
       "      <th>Name</th>\n",
       "      <th>Age</th>\n",
       "      <th>Home_Town</th>\n",
       "    </tr>\n",
       "  </thead>\n",
       "  <tbody>\n",
       "    <tr>\n",
       "      <th>0</th>\n",
       "      <td>Chris</td>\n",
       "      <td>26</td>\n",
       "      <td>Benin</td>\n",
       "    </tr>\n",
       "    <tr>\n",
       "      <th>1</th>\n",
       "      <td>Ayo</td>\n",
       "      <td>24</td>\n",
       "      <td>Ibadan</td>\n",
       "    </tr>\n",
       "    <tr>\n",
       "      <th>2</th>\n",
       "      <td>Chisom</td>\n",
       "      <td>22</td>\n",
       "      <td>Enugu</td>\n",
       "    </tr>\n",
       "  </tbody>\n",
       "</table>\n",
       "</div>"
      ],
      "text/plain": [
       "     Name  Age Home_Town\n",
       "0   Chris   26     Benin\n",
       "1     Ayo   24    Ibadan\n",
       "2  Chisom   22     Enugu"
      ]
     },
     "execution_count": 44,
     "metadata": {},
     "output_type": "execute_result"
    }
   ],
   "source": [
    "# lets do the samething by using list of dictionaries\n",
    "data2 = [\n",
    "    {'Name': 'Chris', 'Age': 26, 'Home_Town': 'Benin'},\n",
    "    {'Name': 'Ayo', 'Age': 24, 'Home_Town': 'Ibadan'},\n",
    "    {'Name': 'Chisom', 'Age': 22, 'Home_Town': 'Enugu'}\n",
    "]\n",
    "# LEts define the dataframe\n",
    "df2 = pd.DataFrame(data2)\n",
    "df2.head()"
   ]
  },
  {
   "cell_type": "code",
   "execution_count": 14,
   "id": "b6357083",
   "metadata": {},
   "outputs": [
    {
     "data": {
      "text/html": [
       "<div>\n",
       "<style scoped>\n",
       "    .dataframe tbody tr th:only-of-type {\n",
       "        vertical-align: middle;\n",
       "    }\n",
       "\n",
       "    .dataframe tbody tr th {\n",
       "        vertical-align: top;\n",
       "    }\n",
       "\n",
       "    .dataframe thead th {\n",
       "        text-align: right;\n",
       "    }\n",
       "</style>\n",
       "<table border=\"1\" class=\"dataframe\">\n",
       "  <thead>\n",
       "    <tr style=\"text-align: right;\">\n",
       "      <th></th>\n",
       "      <th>Name</th>\n",
       "      <th>Age</th>\n",
       "      <th>Town</th>\n",
       "    </tr>\n",
       "  </thead>\n",
       "  <tbody>\n",
       "    <tr>\n",
       "      <th>0</th>\n",
       "      <td>chris</td>\n",
       "      <td>26</td>\n",
       "      <td>Benin</td>\n",
       "    </tr>\n",
       "    <tr>\n",
       "      <th>1</th>\n",
       "      <td>Ayo</td>\n",
       "      <td>24</td>\n",
       "      <td>Enugu</td>\n",
       "    </tr>\n",
       "    <tr>\n",
       "      <th>2</th>\n",
       "      <td>Chisom</td>\n",
       "      <td>22</td>\n",
       "      <td>Ibadan</td>\n",
       "    </tr>\n",
       "  </tbody>\n",
       "</table>\n",
       "</div>"
      ],
      "text/plain": [
       "     Name  Age    Town\n",
       "0   chris   26   Benin\n",
       "1     Ayo   24   Enugu\n",
       "2  Chisom   22  Ibadan"
      ]
     },
     "execution_count": 14,
     "metadata": {},
     "output_type": "execute_result"
    }
   ],
   "source": [
    "# lets do the same thing using lists of list\n",
    "data3=[[\"chris\",26,\"Benin\"],\n",
    "       ['Ayo', 24, 'Enugu'],\n",
    "       ['Chisom', 22, 'Ibadan']]\n",
    "df3=pd.DataFrame(data3, columns=['Name', 'Age','Town'])\n",
    "df3.head()"
   ]
  },
  {
   "cell_type": "code",
   "execution_count": 15,
   "id": "3c727152",
   "metadata": {},
   "outputs": [
    {
     "name": "stdout",
     "output_type": "stream",
     "text": [
      "<class 'pandas.core.frame.DataFrame'>\n",
      "<class 'pandas.core.frame.DataFrame'>\n",
      "<class 'pandas.core.frame.DataFrame'>\n"
     ]
    }
   ],
   "source": [
    "# lets print the types to be sure the we have defined dataframes\n",
    "print(type(df))\n",
    "print(type(df2))\n",
    "print(type(df3))"
   ]
  },
  {
   "cell_type": "markdown",
   "id": "28750f36",
   "metadata": {},
   "source": [
    "# B. Data input and output"
   ]
  },
  {
   "cell_type": "markdown",
   "id": "3d059700",
   "metadata": {},
   "source": [
    "To read in data set we use \n"
   ]
  },
  {
   "cell_type": "code",
   "execution_count": null,
   "id": "9e7d56cd",
   "metadata": {},
   "outputs": [
    {
     "name": "stdout",
     "output_type": "stream",
     "text": [
      "<class 'pandas.core.frame.DataFrame'>\n",
      "     Name  Age Home_Town\n",
      "0   Chris   26     Benin\n",
      "1     Ayo   24    Ibadan\n",
      "2  Chisom   22     Enugu\n"
     ]
    }
   ],
   "source": [
    "pd.read_csv() # for csv files\n",
    "pd.read_excel() # for excel files\n"
   ]
  },
  {
   "cell_type": "markdown",
   "id": "fd7f1123",
   "metadata": {},
   "source": [
    "To save into csv files or excel files"
   ]
  },
  {
   "cell_type": "code",
   "execution_count": null,
   "id": "2b799c6b",
   "metadata": {},
   "outputs": [],
   "source": [
    "df.to_csv()\n",
    "df.to_excel()\n",
    "\n",
    "# USE CASE EXANPLE\n",
    "bio_data.to_csv(\"bio_data.csv\", index = False)\n",
    "\n",
    "# Here we will download our generated data, then load it using pd.read_csv()\n",
    "\n",
    "df=pd.read_csv(\"bio_data.csv\")"
   ]
  },
  {
   "cell_type": "markdown",
   "id": "defabcb2",
   "metadata": {},
   "source": [
    " practicing to read and save"
   ]
  },
  {
   "cell_type": "code",
   "execution_count": null,
   "id": "c2ace6b7",
   "metadata": {},
   "outputs": [],
   "source": [
    "data1=pd.read_csv('class_data.csv')\n",
    "data1"
   ]
  },
  {
   "cell_type": "markdown",
   "id": "fb2f707d",
   "metadata": {},
   "source": [
    "# c. Data inspection and Exploration "
   ]
  },
  {
   "cell_type": "code",
   "execution_count": 57,
   "id": "d7b9a2eb",
   "metadata": {},
   "outputs": [
    {
     "name": "stdout",
     "output_type": "stream",
     "text": [
      "<class 'pandas.core.frame.DataFrame'>\n",
      "RangeIndex: 34 entries, 0 to 33\n",
      "Data columns (total 10 columns):\n",
      " #   Column        Non-Null Count  Dtype \n",
      "---  ------        --------------  ----- \n",
      " 0   Timestamp     34 non-null     object\n",
      " 1   First Name    34 non-null     object\n",
      " 2   Last Name     34 non-null     object\n",
      " 3   Course Track  34 non-null     object\n",
      " 4   City          34 non-null     object\n",
      " 5   Gender        34 non-null     object\n",
      " 6   Seat Number   34 non-null     object\n",
      " 7   PC-Make       34 non-null     object\n",
      " 8   PC - OS       34 non-null     object\n",
      " 9   Feedback      34 non-null     object\n",
      "dtypes: object(10)\n",
      "memory usage: 2.8+ KB\n"
     ]
    },
    {
     "data": {
      "text/plain": [
       "(34, 10)"
      ]
     },
     "execution_count": 57,
     "metadata": {},
     "output_type": "execute_result"
    }
   ],
   "source": [
    "data1.head()\n",
    "data1.tail()\n",
    "data1.info()\n",
    "data1.describe()\n",
    "data1.shape"
   ]
  },
  {
   "cell_type": "markdown",
   "id": "8a4e1e1e",
   "metadata": {},
   "source": [
    "# D data cleaning"
   ]
  },
  {
   "cell_type": "code",
   "execution_count": null,
   "id": "ca13a8e6",
   "metadata": {},
   "outputs": [],
   "source": [
    "#data1.isnull()\n",
    "#data1.isnull().sum()\n",
    "#data1.duplicated()\n",
    "data1.drop_duplicates()\n",
    "\n"
   ]
  },
  {
   "cell_type": "markdown",
   "id": "d4e66779",
   "metadata": {},
   "source": [
    "# E. Data Selection and Filtering"
   ]
  },
  {
   "cell_type": "markdown",
   "id": "89131635",
   "metadata": {},
   "source": [
    "Viewing data column"
   ]
  },
  {
   "cell_type": "code",
   "execution_count": null,
   "id": "22a4948e",
   "metadata": {},
   "outputs": [],
   "source": [
    "#bio_data_column = [irst_Name, Last_Name, City, Course_Track, PC_make, PC_Os, Feedback]"
   ]
  },
  {
   "cell_type": "code",
   "execution_count": 63,
   "id": "026f39be",
   "metadata": {},
   "outputs": [
    {
     "data": {
      "text/plain": [
       "Index(['Timestamp', 'First Name', 'Last Name', 'Course Track', 'City', 'Gender', 'Seat Number',\n",
       "       'PC-Make', 'PC - OS', 'Feedback'],\n",
       "      dtype='object')"
      ]
     },
     "execution_count": 63,
     "metadata": {},
     "output_type": "execute_result"
    }
   ],
   "source": [
    "data1.columns"
   ]
  },
  {
   "cell_type": "markdown",
   "id": "ddce4d51",
   "metadata": {},
   "source": [
    "# Column selection"
   ]
  },
  {
   "cell_type": "code",
   "execution_count": null,
   "id": "eddc71ba",
   "metadata": {},
   "outputs": [],
   "source": [
    "# lets look through a single column\n",
    "data1[[\"First Name\", \"Gender\"]]\n"
   ]
  },
  {
   "cell_type": "markdown",
   "id": "46e944ad",
   "metadata": {},
   "source": [
    "cell selection"
   ]
  },
  {
   "cell_type": "code",
   "execution_count": 71,
   "id": "ba4f366f",
   "metadata": {},
   "outputs": [
    {
     "data": {
      "text/plain": [
       "'Peter'"
      ]
     },
     "execution_count": 71,
     "metadata": {},
     "output_type": "execute_result"
    }
   ],
   "source": [
    "# lets select a single cell\n",
    "data1['First Name'][0]"
   ]
  },
  {
   "cell_type": "markdown",
   "id": "b7141889",
   "metadata": {},
   "source": [
    "Row selection"
   ]
  },
  {
   "cell_type": "code",
   "execution_count": null,
   "id": "258c8e5e",
   "metadata": {},
   "outputs": [],
   "source": [
    "# lets select some rows\n",
    "data1.iloc[0:5]"
   ]
  },
  {
   "cell_type": "code",
   "execution_count": null,
   "id": "ec4f6107",
   "metadata": {},
   "outputs": [],
   "source": [
    "# combination of row and column selection\n",
    "data1.iloc[0:6, 0:4]  # the first slice picks the rows and the second slice picks the columns\n"
   ]
  },
  {
   "cell_type": "markdown",
   "id": "2fb6e874",
   "metadata": {},
   "source": [
    "working with .loc"
   ]
  },
  {
   "cell_type": "code",
   "execution_count": null,
   "id": "07b14027",
   "metadata": {},
   "outputs": [],
   "source": [
    "data1.loc[0:5]"
   ]
  },
  {
   "cell_type": "markdown",
   "id": "ca66093c",
   "metadata": {},
   "source": [
    " conditional filtering\n",
    " "
   ]
  },
  {
   "cell_type": "code",
   "execution_count": null,
   "id": "4f829b0f",
   "metadata": {},
   "outputs": [],
   "source": [
    "# filtering rows where Gender is female. This is going to return dataframe\n",
    "filtered_male= data1[data1['Gender'] =='Male']\n",
    "filtered_male"
   ]
  },
  {
   "cell_type": "code",
   "execution_count": null,
   "id": "04e52980",
   "metadata": {},
   "outputs": [],
   "source": [
    "# filtering row where city is Lagos\n",
    "filtered_city=data1[data1['City']=='Lagos']\n",
    "filtered_city"
   ]
  },
  {
   "cell_type": "code",
   "execution_count": null,
   "id": "ff9e7479",
   "metadata": {},
   "outputs": [],
   "source": [
    "#fltering rows where city is either Lagos or Ogun\n",
    "cities=['Lagos', 'Ogun']\n",
    "filtered=data1[data1['City'].isin(cities)]\n",
    "filtered"
   ]
  },
  {
   "cell_type": "markdown",
   "id": "00ed12d0",
   "metadata": {},
   "source": [
    "using the .query() method\n"
   ]
  },
  {
   "cell_type": "code",
   "execution_count": null,
   "id": "ffc60d61",
   "metadata": {},
   "outputs": [],
   "source": [
    "# use query to filter rows where course_trackis AI and feedback is Execellent\n",
    "query_filtered= data1.query('Course Track==\"Web Dev\"')\n",
    "query_filtered"
   ]
  },
  {
   "cell_type": "code",
   "execution_count": null,
   "id": "a4e54b24",
   "metadata": {},
   "outputs": [],
   "source": [
    "# Define a variable for the course track\n",
    "desired_track = 'Cloud Computing'\n",
    "\n",
    "# use the variable in the query expression\n",
    "cloud=data1.query(\"Course Track == @desired_track\")\n",
    "cloud"
   ]
  },
  {
   "cell_type": "markdown",
   "id": "cc8da6ea",
   "metadata": {},
   "source": [
    "# F. Data Transformation"
   ]
  },
  {
   "cell_type": "markdown",
   "id": "7e9dfb02",
   "metadata": {},
   "source": [
    "Renaming column name"
   ]
  },
  {
   "cell_type": "code",
   "execution_count": null,
   "id": "f23996ce",
   "metadata": {},
   "outputs": [],
   "source": [
    "data1.rename(columns={\"First Name\":\"First_Name\",\"Last Name\":\"Last_Name\"})\n"
   ]
  },
  {
   "cell_type": "markdown",
   "id": "90f0b9eb",
   "metadata": {},
   "source": [
    "Applying string method"
   ]
  },
  {
   "cell_type": "code",
   "execution_count": 9,
   "id": "cda3288b",
   "metadata": {},
   "outputs": [],
   "source": [
    "data1[\"Last Name\"] = data1[\"Last Name\"].str.lower()   # Here we are converting  everything to small letters.\n"
   ]
  },
  {
   "cell_type": "code",
   "execution_count": 10,
   "id": "3e9d658a",
   "metadata": {},
   "outputs": [
    {
     "data": {
      "text/html": [
       "<div>\n",
       "<style scoped>\n",
       "    .dataframe tbody tr th:only-of-type {\n",
       "        vertical-align: middle;\n",
       "    }\n",
       "\n",
       "    .dataframe tbody tr th {\n",
       "        vertical-align: top;\n",
       "    }\n",
       "\n",
       "    .dataframe thead th {\n",
       "        text-align: right;\n",
       "    }\n",
       "</style>\n",
       "<table border=\"1\" class=\"dataframe\">\n",
       "  <thead>\n",
       "    <tr style=\"text-align: right;\">\n",
       "      <th></th>\n",
       "      <th>Timestamp</th>\n",
       "      <th>First Name</th>\n",
       "      <th>Last Name</th>\n",
       "      <th>Course Track</th>\n",
       "      <th>City</th>\n",
       "      <th>Gender</th>\n",
       "      <th>Seat Number</th>\n",
       "      <th>PC-Make</th>\n",
       "      <th>PC - OS</th>\n",
       "      <th>Feedback</th>\n",
       "    </tr>\n",
       "  </thead>\n",
       "  <tbody>\n",
       "    <tr>\n",
       "      <th>0</th>\n",
       "      <td>2025/09/11 12:55:34 PM GMT+1</td>\n",
       "      <td>Peter</td>\n",
       "      <td>okonmah</td>\n",
       "      <td>ai</td>\n",
       "      <td>Ogun</td>\n",
       "      <td>Male</td>\n",
       "      <td>28</td>\n",
       "      <td>MACBOOK</td>\n",
       "      <td>Mac OS</td>\n",
       "      <td>non</td>\n",
       "    </tr>\n",
       "    <tr>\n",
       "      <th>1</th>\n",
       "      <td>2025/09/11 12:56:11 PM GMT+1</td>\n",
       "      <td>Toyeebat</td>\n",
       "      <td>nababa</td>\n",
       "      <td>ai</td>\n",
       "      <td>Abeokuta</td>\n",
       "      <td>Female</td>\n",
       "      <td>24</td>\n",
       "      <td>HP</td>\n",
       "      <td>Windows</td>\n",
       "      <td>Excellent</td>\n",
       "    </tr>\n",
       "    <tr>\n",
       "      <th>2</th>\n",
       "      <td>2025/09/11 12:57:08 PM GMT+1</td>\n",
       "      <td>Perpetual</td>\n",
       "      <td>meninwa</td>\n",
       "      <td>ai</td>\n",
       "      <td>Lagos</td>\n",
       "      <td>Female</td>\n",
       "      <td>22</td>\n",
       "      <td>HP</td>\n",
       "      <td>Windows</td>\n",
       "      <td>Thank you so much for the opportunity.</td>\n",
       "    </tr>\n",
       "    <tr>\n",
       "      <th>3</th>\n",
       "      <td>2025/09/11 12:57:56 PM GMT+1</td>\n",
       "      <td>Mahfuz</td>\n",
       "      <td>abdulhameed</td>\n",
       "      <td>ai</td>\n",
       "      <td>Abeokuta</td>\n",
       "      <td>Male</td>\n",
       "      <td>44</td>\n",
       "      <td>HP</td>\n",
       "      <td>Windows</td>\n",
       "      <td>Amazing Shit</td>\n",
       "    </tr>\n",
       "    <tr>\n",
       "      <th>4</th>\n",
       "      <td>2025/09/11 12:58:41 PM GMT+1</td>\n",
       "      <td>Divine</td>\n",
       "      <td>gbadamosi</td>\n",
       "      <td>ai</td>\n",
       "      <td>Abeokuta</td>\n",
       "      <td>Male</td>\n",
       "      <td>35</td>\n",
       "      <td>DELL</td>\n",
       "      <td>Windows</td>\n",
       "      <td>Brain Racking</td>\n",
       "    </tr>\n",
       "    <tr>\n",
       "      <th>5</th>\n",
       "      <td>2025/09/11 12:58:55 PM GMT+1</td>\n",
       "      <td>Abdulmalik</td>\n",
       "      <td>adedotun</td>\n",
       "      <td>ai</td>\n",
       "      <td>Abeokuta</td>\n",
       "      <td>Male</td>\n",
       "      <td>200</td>\n",
       "      <td>HP</td>\n",
       "      <td>Windows</td>\n",
       "      <td>Enjoying the course so far</td>\n",
       "    </tr>\n",
       "    <tr>\n",
       "      <th>6</th>\n",
       "      <td>2025/09/11 12:58:55 PM GMT+1</td>\n",
       "      <td>Naheemot</td>\n",
       "      <td>adebiyi</td>\n",
       "      <td>ai</td>\n",
       "      <td>Abeokuta</td>\n",
       "      <td>Female</td>\n",
       "      <td>32</td>\n",
       "      <td>DELL</td>\n",
       "      <td>Windows</td>\n",
       "      <td>Grateful for the opportunity to be here.</td>\n",
       "    </tr>\n",
       "    <tr>\n",
       "      <th>7</th>\n",
       "      <td>2025/09/11 12:59:00 PM GMT+1</td>\n",
       "      <td>Kanyisola</td>\n",
       "      <td>fagbayi</td>\n",
       "      <td>ai;data science</td>\n",
       "      <td>Lagos</td>\n",
       "      <td>Female</td>\n",
       "      <td>00082</td>\n",
       "      <td>HP</td>\n",
       "      <td>Windows</td>\n",
       "      <td>One chin chin for you for this form</td>\n",
       "    </tr>\n",
       "    <tr>\n",
       "      <th>8</th>\n",
       "      <td>2025/09/11 12:59:16 PM GMT+1</td>\n",
       "      <td>Blessing</td>\n",
       "      <td>james</td>\n",
       "      <td>cyber security</td>\n",
       "      <td>Nairobi</td>\n",
       "      <td>Female</td>\n",
       "      <td>45678</td>\n",
       "      <td>HP</td>\n",
       "      <td>Windows</td>\n",
       "      <td>Thanks for creating the form.</td>\n",
       "    </tr>\n",
       "    <tr>\n",
       "      <th>9</th>\n",
       "      <td>2025/09/11 12:59:28 PM GMT+1</td>\n",
       "      <td>Hannah</td>\n",
       "      <td>tanimola</td>\n",
       "      <td>ai</td>\n",
       "      <td>Abeokuta</td>\n",
       "      <td>Male</td>\n",
       "      <td>30</td>\n",
       "      <td>HP</td>\n",
       "      <td>Windows</td>\n",
       "      <td>On God</td>\n",
       "    </tr>\n",
       "    <tr>\n",
       "      <th>10</th>\n",
       "      <td>2025/09/11 12:59:41 PM GMT+1</td>\n",
       "      <td>Deborah</td>\n",
       "      <td>adelegan</td>\n",
       "      <td>ai;data science</td>\n",
       "      <td>Abeokuta</td>\n",
       "      <td>Female</td>\n",
       "      <td>001</td>\n",
       "      <td>HP</td>\n",
       "      <td>Windows</td>\n",
       "      <td>None for now</td>\n",
       "    </tr>\n",
       "    <tr>\n",
       "      <th>11</th>\n",
       "      <td>2025/09/11 12:59:43 PM GMT+1</td>\n",
       "      <td>Esther</td>\n",
       "      <td>kudoro</td>\n",
       "      <td>ai</td>\n",
       "      <td>Abeokuta</td>\n",
       "      <td>Female</td>\n",
       "      <td>1</td>\n",
       "      <td>HP</td>\n",
       "      <td>Windows</td>\n",
       "      <td>Chill</td>\n",
       "    </tr>\n",
       "    <tr>\n",
       "      <th>12</th>\n",
       "      <td>2025/09/11 1:00:03 PM GMT+1</td>\n",
       "      <td>Opeyemi</td>\n",
       "      <td>odejimi</td>\n",
       "      <td>cloud computing</td>\n",
       "      <td>Abeokuta</td>\n",
       "      <td>Male</td>\n",
       "      <td>38</td>\n",
       "      <td>HP</td>\n",
       "      <td>Linux</td>\n",
       "      <td>Na wa</td>\n",
       "    </tr>\n",
       "    <tr>\n",
       "      <th>13</th>\n",
       "      <td>2025/09/11 1:00:13 PM GMT+1</td>\n",
       "      <td>Olasunkanmi</td>\n",
       "      <td>rasak</td>\n",
       "      <td>ai</td>\n",
       "      <td>Kobape</td>\n",
       "      <td>Male</td>\n",
       "      <td>3</td>\n",
       "      <td>HP</td>\n",
       "      <td>Windows</td>\n",
       "      <td>My gratitude to the sponsor of this program an...</td>\n",
       "    </tr>\n",
       "    <tr>\n",
       "      <th>14</th>\n",
       "      <td>2025/09/11 1:00:27 PM GMT+1</td>\n",
       "      <td>Saheed</td>\n",
       "      <td>olayinka</td>\n",
       "      <td>ai;data science;web dev</td>\n",
       "      <td>Abeokuta</td>\n",
       "      <td>Male</td>\n",
       "      <td>29</td>\n",
       "      <td>HP</td>\n",
       "      <td>Windows</td>\n",
       "      <td>None for now</td>\n",
       "    </tr>\n",
       "    <tr>\n",
       "      <th>15</th>\n",
       "      <td>2025/09/11 1:00:31 PM GMT+1</td>\n",
       "      <td>Kehinde</td>\n",
       "      <td>akindele</td>\n",
       "      <td>cloud computing</td>\n",
       "      <td>Abeokuta</td>\n",
       "      <td>Male</td>\n",
       "      <td>54</td>\n",
       "      <td>Gateway</td>\n",
       "      <td>Windows</td>\n",
       "      <td>Great</td>\n",
       "    </tr>\n",
       "    <tr>\n",
       "      <th>16</th>\n",
       "      <td>2025/09/11 1:00:43 PM GMT+1</td>\n",
       "      <td>Oluwole</td>\n",
       "      <td>oludayo</td>\n",
       "      <td>ai</td>\n",
       "      <td>Abeokuta</td>\n",
       "      <td>Male</td>\n",
       "      <td>09</td>\n",
       "      <td>HP</td>\n",
       "      <td>Windows</td>\n",
       "      <td>Good training to attend</td>\n",
       "    </tr>\n",
       "    <tr>\n",
       "      <th>17</th>\n",
       "      <td>2025/09/11 1:00:49 PM GMT+1</td>\n",
       "      <td>Samuel</td>\n",
       "      <td>oyewusi</td>\n",
       "      <td>web dev</td>\n",
       "      <td>Lagos</td>\n",
       "      <td>Male</td>\n",
       "      <td>15</td>\n",
       "      <td>HP</td>\n",
       "      <td>Windows</td>\n",
       "      <td>Satisfactory</td>\n",
       "    </tr>\n",
       "    <tr>\n",
       "      <th>18</th>\n",
       "      <td>2025/09/11 1:00:54 PM GMT+1</td>\n",
       "      <td>Ademola</td>\n",
       "      <td>akinrinde</td>\n",
       "      <td>ai</td>\n",
       "      <td>Abeokuta</td>\n",
       "      <td>Male</td>\n",
       "      <td>100</td>\n",
       "      <td>MACBOOK</td>\n",
       "      <td>Mac OS</td>\n",
       "      <td>Awesome shit\\r\\n\\r\\n</td>\n",
       "    </tr>\n",
       "    <tr>\n",
       "      <th>19</th>\n",
       "      <td>2025/09/11 1:01:31 PM GMT+1</td>\n",
       "      <td>Victor</td>\n",
       "      <td>ademuyiwa</td>\n",
       "      <td>ai</td>\n",
       "      <td>kobape</td>\n",
       "      <td>Male</td>\n",
       "      <td>2</td>\n",
       "      <td>ASUS</td>\n",
       "      <td>Windows</td>\n",
       "      <td>Feels good</td>\n",
       "    </tr>\n",
       "    <tr>\n",
       "      <th>20</th>\n",
       "      <td>2025/09/11 1:01:44 PM GMT+1</td>\n",
       "      <td>Sherif</td>\n",
       "      <td>okemakinde</td>\n",
       "      <td>ai</td>\n",
       "      <td>Abeokuta</td>\n",
       "      <td>Male</td>\n",
       "      <td>27</td>\n",
       "      <td>HP</td>\n",
       "      <td>Windows</td>\n",
       "      <td>Form filled</td>\n",
       "    </tr>\n",
       "    <tr>\n",
       "      <th>21</th>\n",
       "      <td>2025/09/11 1:01:46 PM GMT+1</td>\n",
       "      <td>Ayuba</td>\n",
       "      <td>raji</td>\n",
       "      <td>ai</td>\n",
       "      <td>Abeokuta</td>\n",
       "      <td>Male</td>\n",
       "      <td>26</td>\n",
       "      <td>HP</td>\n",
       "      <td>Windows</td>\n",
       "      <td>None for now</td>\n",
       "    </tr>\n",
       "    <tr>\n",
       "      <th>22</th>\n",
       "      <td>2025/09/11 1:01:54 PM GMT+1</td>\n",
       "      <td>Hamid</td>\n",
       "      <td>jimoh</td>\n",
       "      <td>ai</td>\n",
       "      <td>Ibadan</td>\n",
       "      <td>Male</td>\n",
       "      <td>299</td>\n",
       "      <td>DELL</td>\n",
       "      <td>Windows</td>\n",
       "      <td>I am curious</td>\n",
       "    </tr>\n",
       "    <tr>\n",
       "      <th>23</th>\n",
       "      <td>2025/09/11 1:02:28 PM GMT+1</td>\n",
       "      <td>Olajide</td>\n",
       "      <td>abioye</td>\n",
       "      <td>ai</td>\n",
       "      <td>Abeokuta</td>\n",
       "      <td>Male</td>\n",
       "      <td>5</td>\n",
       "      <td>HP</td>\n",
       "      <td>Windows</td>\n",
       "      <td>So far, i getting to familarize myself with nu...</td>\n",
       "    </tr>\n",
       "    <tr>\n",
       "      <th>24</th>\n",
       "      <td>2025/09/11 1:02:49 PM GMT+1</td>\n",
       "      <td>Solomon</td>\n",
       "      <td>olaiya</td>\n",
       "      <td>ai</td>\n",
       "      <td>Abeokuta</td>\n",
       "      <td>Male</td>\n",
       "      <td>16</td>\n",
       "      <td>MACBOOK</td>\n",
       "      <td>Mac OS</td>\n",
       "      <td>Delighted learning here</td>\n",
       "    </tr>\n",
       "    <tr>\n",
       "      <th>25</th>\n",
       "      <td>2025/09/11 1:02:56 PM GMT+1</td>\n",
       "      <td>Oluwadamilare</td>\n",
       "      <td>bello</td>\n",
       "      <td>ai</td>\n",
       "      <td>Sango</td>\n",
       "      <td>Male</td>\n",
       "      <td>373</td>\n",
       "      <td>DELL;HP;LENOVO;MACBOOK;ASUS;</td>\n",
       "      <td>Mac OS</td>\n",
       "      <td>Coding is interesting when you understand</td>\n",
       "    </tr>\n",
       "    <tr>\n",
       "      <th>26</th>\n",
       "      <td>2025/09/11 1:02:59 PM GMT+1</td>\n",
       "      <td>Oluwaseyi</td>\n",
       "      <td>egunjobi</td>\n",
       "      <td>cloud computing</td>\n",
       "      <td>Cape Town</td>\n",
       "      <td>Male</td>\n",
       "      <td>dirty</td>\n",
       "      <td>MACBOOK</td>\n",
       "      <td>Mac OS</td>\n",
       "      <td>Nice to meet you all</td>\n",
       "    </tr>\n",
       "    <tr>\n",
       "      <th>27</th>\n",
       "      <td>2025/09/11 1:03:12 PM GMT+1</td>\n",
       "      <td>Adeoye</td>\n",
       "      <td>mary</td>\n",
       "      <td>ai</td>\n",
       "      <td>abeokuta</td>\n",
       "      <td>Female</td>\n",
       "      <td>15</td>\n",
       "      <td>LENOVO</td>\n",
       "      <td>Windows</td>\n",
       "      <td>Still processing</td>\n",
       "    </tr>\n",
       "    <tr>\n",
       "      <th>28</th>\n",
       "      <td>2025/09/11 1:03:36 PM GMT+1</td>\n",
       "      <td>Babatunde</td>\n",
       "      <td>rahmon</td>\n",
       "      <td>ai</td>\n",
       "      <td>Abeokuta</td>\n",
       "      <td>Male</td>\n",
       "      <td>20</td>\n",
       "      <td>none</td>\n",
       "      <td>Windows</td>\n",
       "      <td>i actually have a pc that has a very low stora...</td>\n",
       "    </tr>\n",
       "    <tr>\n",
       "      <th>29</th>\n",
       "      <td>2025/09/11 1:06:03 PM GMT+1</td>\n",
       "      <td>Samuel</td>\n",
       "      <td>dasaolu</td>\n",
       "      <td>ai</td>\n",
       "      <td>Abeokuta</td>\n",
       "      <td>Male</td>\n",
       "      <td>100</td>\n",
       "      <td>HP;MACBOOK</td>\n",
       "      <td>Linux</td>\n",
       "      <td>Good so far, i guess</td>\n",
       "    </tr>\n",
       "    <tr>\n",
       "      <th>30</th>\n",
       "      <td>2025/09/11 1:06:48 PM GMT+1</td>\n",
       "      <td>Gabriel</td>\n",
       "      <td>bamgbose</td>\n",
       "      <td>ai</td>\n",
       "      <td>Abeokuta</td>\n",
       "      <td>Male</td>\n",
       "      <td>2</td>\n",
       "      <td>HP</td>\n",
       "      <td>Windows</td>\n",
       "      <td>Good</td>\n",
       "    </tr>\n",
       "    <tr>\n",
       "      <th>31</th>\n",
       "      <td>2025/09/11 1:10:16 PM GMT+1</td>\n",
       "      <td>Ridwanullah</td>\n",
       "      <td>osho</td>\n",
       "      <td>ai;cyber security;data science</td>\n",
       "      <td>Abeokuta</td>\n",
       "      <td>Male</td>\n",
       "      <td>45</td>\n",
       "      <td>DELL</td>\n",
       "      <td>Windows</td>\n",
       "      <td>IT IS WHAT IT IS !!!</td>\n",
       "    </tr>\n",
       "    <tr>\n",
       "      <th>32</th>\n",
       "      <td>2025/09/11 1:11:39 PM GMT+1</td>\n",
       "      <td>Oluwapelumi</td>\n",
       "      <td>adenuga</td>\n",
       "      <td>web dev</td>\n",
       "      <td>Abeokuta</td>\n",
       "      <td>Male</td>\n",
       "      <td>36</td>\n",
       "      <td>HP</td>\n",
       "      <td>Windows</td>\n",
       "      <td>live yours</td>\n",
       "    </tr>\n",
       "    <tr>\n",
       "      <th>33</th>\n",
       "      <td>2025/09/11 1:18:15 PM GMT+1</td>\n",
       "      <td>Michael</td>\n",
       "      <td>osisami</td>\n",
       "      <td>ai</td>\n",
       "      <td>Abeokuta</td>\n",
       "      <td>Male</td>\n",
       "      <td>12</td>\n",
       "      <td>DELL;HP</td>\n",
       "      <td>Windows</td>\n",
       "      <td>Nil</td>\n",
       "    </tr>\n",
       "  </tbody>\n",
       "</table>\n",
       "</div>"
      ],
      "text/plain": [
       "                       Timestamp     First Name    Last Name                    Course Track  \\\n",
       "0   2025/09/11 12:55:34 PM GMT+1          Peter      okonmah                              ai   \n",
       "1   2025/09/11 12:56:11 PM GMT+1       Toyeebat       nababa                              ai   \n",
       "2   2025/09/11 12:57:08 PM GMT+1      Perpetual      meninwa                              ai   \n",
       "3   2025/09/11 12:57:56 PM GMT+1         Mahfuz  abdulhameed                              ai   \n",
       "4   2025/09/11 12:58:41 PM GMT+1         Divine    gbadamosi                              ai   \n",
       "5   2025/09/11 12:58:55 PM GMT+1     Abdulmalik     adedotun                              ai   \n",
       "6   2025/09/11 12:58:55 PM GMT+1       Naheemot      adebiyi                              ai   \n",
       "7   2025/09/11 12:59:00 PM GMT+1      Kanyisola      fagbayi                 ai;data science   \n",
       "8   2025/09/11 12:59:16 PM GMT+1       Blessing        james                  cyber security   \n",
       "9   2025/09/11 12:59:28 PM GMT+1         Hannah     tanimola                              ai   \n",
       "10  2025/09/11 12:59:41 PM GMT+1        Deborah     adelegan                 ai;data science   \n",
       "11  2025/09/11 12:59:43 PM GMT+1         Esther       kudoro                              ai   \n",
       "12   2025/09/11 1:00:03 PM GMT+1        Opeyemi      odejimi                 cloud computing   \n",
       "13   2025/09/11 1:00:13 PM GMT+1    Olasunkanmi        rasak                              ai   \n",
       "14   2025/09/11 1:00:27 PM GMT+1         Saheed     olayinka         ai;data science;web dev   \n",
       "15   2025/09/11 1:00:31 PM GMT+1       Kehinde      akindele                 cloud computing   \n",
       "16   2025/09/11 1:00:43 PM GMT+1        Oluwole      oludayo                              ai   \n",
       "17   2025/09/11 1:00:49 PM GMT+1         Samuel     oyewusi                          web dev   \n",
       "18   2025/09/11 1:00:54 PM GMT+1        Ademola    akinrinde                              ai   \n",
       "19   2025/09/11 1:01:31 PM GMT+1         Victor    ademuyiwa                              ai   \n",
       "20   2025/09/11 1:01:44 PM GMT+1         Sherif  okemakinde                               ai   \n",
       "21   2025/09/11 1:01:46 PM GMT+1          Ayuba         raji                              ai   \n",
       "22   2025/09/11 1:01:54 PM GMT+1          Hamid        jimoh                              ai   \n",
       "23   2025/09/11 1:02:28 PM GMT+1        Olajide       abioye                              ai   \n",
       "24   2025/09/11 1:02:49 PM GMT+1        Solomon       olaiya                              ai   \n",
       "25   2025/09/11 1:02:56 PM GMT+1  Oluwadamilare        bello                              ai   \n",
       "26   2025/09/11 1:02:59 PM GMT+1      Oluwaseyi     egunjobi                 cloud computing   \n",
       "27   2025/09/11 1:03:12 PM GMT+1         Adeoye         mary                              ai   \n",
       "28   2025/09/11 1:03:36 PM GMT+1      Babatunde       rahmon                              ai   \n",
       "29   2025/09/11 1:06:03 PM GMT+1         Samuel      dasaolu                              ai   \n",
       "30   2025/09/11 1:06:48 PM GMT+1        Gabriel     bamgbose                              ai   \n",
       "31   2025/09/11 1:10:16 PM GMT+1    Ridwanullah         osho  ai;cyber security;data science   \n",
       "32   2025/09/11 1:11:39 PM GMT+1    Oluwapelumi      adenuga                         web dev   \n",
       "33   2025/09/11 1:18:15 PM GMT+1        Michael      osisami                              ai   \n",
       "\n",
       "         City  Gender Seat Number                       PC-Make  PC - OS  \\\n",
       "0        Ogun    Male          28                       MACBOOK   Mac OS   \n",
       "1    Abeokuta  Female          24                            HP  Windows   \n",
       "2       Lagos  Female          22                            HP  Windows   \n",
       "3    Abeokuta    Male          44                            HP  Windows   \n",
       "4    Abeokuta    Male          35                          DELL  Windows   \n",
       "5    Abeokuta    Male         200                            HP  Windows   \n",
       "6    Abeokuta  Female          32                          DELL  Windows   \n",
       "7       Lagos  Female       00082                            HP  Windows   \n",
       "8     Nairobi  Female       45678                            HP  Windows   \n",
       "9    Abeokuta    Male          30                            HP  Windows   \n",
       "10   Abeokuta  Female         001                            HP  Windows   \n",
       "11   Abeokuta  Female           1                            HP  Windows   \n",
       "12   Abeokuta    Male          38                            HP    Linux   \n",
       "13     Kobape    Male           3                            HP  Windows   \n",
       "14   Abeokuta    Male          29                            HP  Windows   \n",
       "15   Abeokuta    Male          54                       Gateway  Windows   \n",
       "16   Abeokuta    Male          09                            HP  Windows   \n",
       "17      Lagos    Male          15                            HP  Windows   \n",
       "18   Abeokuta    Male         100                       MACBOOK   Mac OS   \n",
       "19     kobape    Male           2                          ASUS  Windows   \n",
       "20  Abeokuta     Male          27                            HP  Windows   \n",
       "21   Abeokuta    Male          26                            HP  Windows   \n",
       "22     Ibadan    Male         299                          DELL  Windows   \n",
       "23   Abeokuta    Male           5                            HP  Windows   \n",
       "24   Abeokuta    Male          16                       MACBOOK   Mac OS   \n",
       "25      Sango    Male         373  DELL;HP;LENOVO;MACBOOK;ASUS;   Mac OS   \n",
       "26  Cape Town    Male       dirty                       MACBOOK   Mac OS   \n",
       "27   abeokuta  Female          15                        LENOVO  Windows   \n",
       "28   Abeokuta    Male          20                          none  Windows   \n",
       "29   Abeokuta    Male         100                    HP;MACBOOK    Linux   \n",
       "30   Abeokuta    Male           2                            HP  Windows   \n",
       "31   Abeokuta    Male          45                          DELL  Windows   \n",
       "32   Abeokuta    Male          36                            HP  Windows   \n",
       "33   Abeokuta    Male          12                       DELL;HP  Windows   \n",
       "\n",
       "                                             Feedback  \n",
       "0                                                 non  \n",
       "1                                           Excellent  \n",
       "2              Thank you so much for the opportunity.  \n",
       "3                                        Amazing Shit  \n",
       "4                                       Brain Racking  \n",
       "5                          Enjoying the course so far  \n",
       "6            Grateful for the opportunity to be here.  \n",
       "7                 One chin chin for you for this form  \n",
       "8                       Thanks for creating the form.  \n",
       "9                                              On God  \n",
       "10                                       None for now  \n",
       "11                                              Chill  \n",
       "12                                              Na wa  \n",
       "13  My gratitude to the sponsor of this program an...  \n",
       "14                                       None for now  \n",
       "15                                              Great  \n",
       "16                            Good training to attend  \n",
       "17                                       Satisfactory  \n",
       "18                               Awesome shit\\r\\n\\r\\n  \n",
       "19                                         Feels good  \n",
       "20                                        Form filled  \n",
       "21                                       None for now  \n",
       "22                                      I am curious   \n",
       "23  So far, i getting to familarize myself with nu...  \n",
       "24                            Delighted learning here  \n",
       "25          Coding is interesting when you understand  \n",
       "26                               Nice to meet you all  \n",
       "27                                   Still processing  \n",
       "28  i actually have a pc that has a very low stora...  \n",
       "29                               Good so far, i guess  \n",
       "30                                               Good  \n",
       "31                               IT IS WHAT IT IS !!!  \n",
       "32                                         live yours  \n",
       "33                                                Nil  "
      ]
     },
     "execution_count": 10,
     "metadata": {},
     "output_type": "execute_result"
    }
   ],
   "source": [
    "data1[\"Course Track\"] = data1[\"Course Track\"].str.lower()\n",
    "data1"
   ]
  },
  {
   "cell_type": "code",
   "execution_count": 1,
   "id": "7046322e",
   "metadata": {},
   "outputs": [
    {
     "ename": "NameError",
     "evalue": "name 'data1' is not defined",
     "output_type": "error",
     "traceback": [
      "\u001b[31m---------------------------------------------------------------------------\u001b[39m",
      "\u001b[31mNameError\u001b[39m                                 Traceback (most recent call last)",
      "\u001b[36mCell\u001b[39m\u001b[36m \u001b[39m\u001b[32mIn[1]\u001b[39m\u001b[32m, line 5\u001b[39m\n\u001b[32m      1\u001b[39m \u001b[38;5;66;03m# Lets define a Lambda function\u001b[39;00m\n\u001b[32m      2\u001b[39m \u001b[38;5;66;03m#lambda x: x.str.title()\u001b[39;00m\n\u001b[32m      3\u001b[39m \n\u001b[32m      4\u001b[39m \u001b[38;5;66;03m# the .apply() methd will help apply the function to the selected columns\u001b[39;00m\n\u001b[32m----> \u001b[39m\u001b[32m5\u001b[39m data1[\u001b[33m\"\u001b[39m\u001b[33mFeedback\u001b[39m\u001b[33m\"\u001b[39m]= \u001b[43mdata1\u001b[49m[\u001b[33m\"\u001b[39m\u001b[33mFeedback\u001b[39m\u001b[33m\"\u001b[39m].str.upper()\n\u001b[32m      6\u001b[39m data1.head()\n",
      "\u001b[31mNameError\u001b[39m: name 'data1' is not defined"
     ]
    }
   ],
   "source": [
    "# Lets define a Lambda function\n",
    "#lambda x: x.str.title()\n",
    "\n",
    "# the .apply() methd will help apply the function to the selected columns\n",
    "data1[\"Feedback\"]= data1[\"Feedback\"].str.upper()\n",
    "data1.head()"
   ]
  },
  {
   "cell_type": "markdown",
   "id": "e8b82057",
   "metadata": {},
   "source": [
    "sorting values"
   ]
  },
  {
   "cell_type": "code",
   "execution_count": null,
   "id": "43340dbf",
   "metadata": {},
   "outputs": [],
   "source": [
    "data1[\"First Name\"]= data1[\"First Name\"].str.title()\n",
    "data1[\"Last Name\"]=data1[\"Last Name\"].str.title()\n",
    "data1.sort_values(by=\"City\", ascending=True)\n"
   ]
  },
  {
   "cell_type": "code",
   "execution_count": null,
   "id": "e834e464",
   "metadata": {},
   "outputs": [],
   "source": [
    "# lets sort by multiple column\n",
    "data1.sort_values(by=['Seat Number'], kind='mergesort')"
   ]
  },
  {
   "cell_type": "markdown",
   "id": "0599c851",
   "metadata": {},
   "source": [
    "sorting by rows lable or index "
   ]
  },
  {
   "cell_type": "code",
   "execution_count": null,
   "id": "252ef3f1",
   "metadata": {},
   "outputs": [],
   "source": [
    "data1.sort_index(axis=0 , level= None, ascending=True, inplace=False, sort_remaining=True)"
   ]
  },
  {
   "cell_type": "markdown",
   "id": "2dc4192b",
   "metadata": {},
   "source": [
    "Grouping and aggregation"
   ]
  },
  {
   "cell_type": "code",
   "execution_count": 45,
   "id": "605d2e01",
   "metadata": {},
   "outputs": [],
   "source": [
    "# Lets manually create a bio_data sample data\n",
    "bio = {\n",
    "    'First_Name': ['Emeka', 'Aisha', 'Ayo', 'Chinedu', 'Fatima', 'Ibrahim', 'Ngozi', 'Tolu', 'Olamide', 'Yusuf',\n",
    "                   'Ada', 'Kunle', 'Mercy', 'Segun', 'Zainab', 'Donald', 'Kemi', 'Usman', 'Funmi', 'Chika'],\n",
    "    'Last_Name': ['Julius', 'Bello', 'Adewale', 'Godswill', 'Abubakar', 'David', 'Collins', 'Ogunleye', 'Adepoju', 'Garba',\n",
    "                  'Umeh', 'Ojo', 'Musa', 'Balogun', 'Mohammed', 'Obi', 'Adebayo', 'Suleiman', 'Williams', 'Micheal'],\n",
    "    'Gender': ['Male', 'Female', 'Male', 'Male', 'Female', 'Male', 'Female', 'Male', 'Male', 'Male',\n",
    "               'Female', 'Male', 'Female', 'Male', 'Female', 'Male', 'Female', 'Male', 'Female', 'Male'],\n",
    "    'Seat_No': range(101, 121),\n",
    "    'City': ['Lagos', 'Abuja', 'Ibadan', 'Enugu', 'Kano', 'Benin', 'Port Harcourt', 'Abeokuta', 'Benin', 'Abeokuta',\n",
    "             'Lagos', 'Abeokuta', 'Lagos', 'Ibadan', 'Abuja', 'Port Harcourt', 'Benin', 'Jos', 'Calabar', 'Onitsha'],\n",
    "    'Course_Track': ['Data Science', 'Cloud Computing', 'Cybersecurity', 'AI', 'Data Science', 'Cloud Computing',\n",
    "                     'Web Dev', 'AI', 'Cybersecurity', 'AI', 'Data Science', 'Web Dev',\n",
    "                     'Cybersecurity', 'AI', 'Cloud Computing', 'Data Science', 'Web Dev', 'Data Science',\n",
    "                     'Data Science', 'Cloud Computing'],\n",
    "    'PC_make': ['HP', 'Dell', 'HP', 'Asus', 'Apple', 'HP', 'Dell', 'Lenovo', 'Asus', 'Apple',\n",
    "                'HP', 'Dell', 'Lenovo', 'Asus', 'Dell', 'HP', 'Dell', 'Lenovo', 'Asus', 'Apple'],\n",
    "    'PC_Os': ['Windows', 'Linux', 'Windows', 'Windows', 'Linux', 'MacOS', 'Windows', 'Linux', 'MacOS', 'Windows',\n",
    "              'Linux', 'MacOS', 'Windows', 'Linux', 'MacOS', 'Windows', 'Linux', 'MacOS', 'Windows', 'Linux'],\n",
    "    'Feedback': ['Good', 'Excellent', 'Excellent', 'Good', 'Poor', 'Excellent', 'Good', 'Average', 'Good', 'Excellent',\n",
    "                 'Good', 'Poor', 'Average', 'Excellent', 'Good', 'Average', 'Excellent', 'Good', 'Good', 'Excellent']\n",
    "}"
   ]
  },
  {
   "cell_type": "code",
   "execution_count": null,
   "id": "527d9d81",
   "metadata": {},
   "outputs": [],
   "source": [
    "Create=pd.DataFrame(bio)\n",
    "Create.head()"
   ]
  },
  {
   "cell_type": "code",
   "execution_count": null,
   "id": "3913d6c8",
   "metadata": {},
   "outputs": [],
   "source": [
    "Create.to_csv('created_data.csv', index=False)\n"
   ]
  },
  {
   "cell_type": "code",
   "execution_count": 48,
   "id": "adf9b9b0",
   "metadata": {},
   "outputs": [
    {
     "data": {
      "text/plain": [
       "array(['Data Science', 'Cloud Computing', 'Cybersecurity', 'AI',\n",
       "       'Web Dev'], dtype=object)"
      ]
     },
     "execution_count": 48,
     "metadata": {},
     "output_type": "execute_result"
    }
   ],
   "source": [
    "Create['Course_Track'].unique()"
   ]
  },
  {
   "cell_type": "code",
   "execution_count": 49,
   "id": "5481ef62",
   "metadata": {},
   "outputs": [
    {
     "data": {
      "text/plain": [
       "20"
      ]
     },
     "execution_count": 49,
     "metadata": {},
     "output_type": "execute_result"
    }
   ],
   "source": [
    "Create['First_Name'].nunique()"
   ]
  },
  {
   "cell_type": "code",
   "execution_count": null,
   "id": "858c9a7a",
   "metadata": {},
   "outputs": [],
   "source": [
    "# What is the total numbers of students taking each track?\n",
    "track_count=Create.groupby('Course_Track').agg({'First_Name':'count'})\n",
    "track_count"
   ]
  },
  {
   "cell_type": "code",
   "execution_count": null,
   "id": "4bc89715",
   "metadata": {},
   "outputs": [],
   "source": [
    "# What is the total number of students having the same numbers of PC_make\n",
    "Create.groupby('PC_make')['PC_make'].count()"
   ]
  },
  {
   "cell_type": "code",
   "execution_count": null,
   "id": "04386906",
   "metadata": {},
   "outputs": [],
   "source": [
    "Create.groupby('Course_Track').agg({'First_Name': 'count', 'PC_make': 'count'})"
   ]
  },
  {
   "cell_type": "code",
   "execution_count": null,
   "id": "ad6bed9e",
   "metadata": {},
   "outputs": [],
   "source": [
    "# What city are each track from?\n",
    "Create.groupby('Course_Track').agg({'First_Name':'count','City':'sum'})"
   ]
  },
  {
   "cell_type": "code",
   "execution_count": null,
   "id": "beacdd67",
   "metadata": {},
   "outputs": [],
   "source": [
    "# What is the most common course among the female students?\n",
    "female=Create.groupby('Gender').get_group('Female')\n",
    "female.groupby('Course_Track').agg({'First_Name':'count'})"
   ]
  },
  {
   "cell_type": "code",
   "execution_count": 57,
   "id": "8b11877a",
   "metadata": {},
   "outputs": [
    {
     "data": {
      "text/html": [
       "<div>\n",
       "<style scoped>\n",
       "    .dataframe tbody tr th:only-of-type {\n",
       "        vertical-align: middle;\n",
       "    }\n",
       "\n",
       "    .dataframe tbody tr th {\n",
       "        vertical-align: top;\n",
       "    }\n",
       "\n",
       "    .dataframe thead th {\n",
       "        text-align: right;\n",
       "    }\n",
       "</style>\n",
       "<table border=\"1\" class=\"dataframe\">\n",
       "  <thead>\n",
       "    <tr style=\"text-align: right;\">\n",
       "      <th></th>\n",
       "      <th>First_Name</th>\n",
       "    </tr>\n",
       "    <tr>\n",
       "      <th>Course_Track</th>\n",
       "      <th></th>\n",
       "    </tr>\n",
       "  </thead>\n",
       "  <tbody>\n",
       "    <tr>\n",
       "      <th>AI</th>\n",
       "      <td>4</td>\n",
       "    </tr>\n",
       "    <tr>\n",
       "      <th>Cloud Computing</th>\n",
       "      <td>2</td>\n",
       "    </tr>\n",
       "    <tr>\n",
       "      <th>Cybersecurity</th>\n",
       "      <td>2</td>\n",
       "    </tr>\n",
       "    <tr>\n",
       "      <th>Data Science</th>\n",
       "      <td>3</td>\n",
       "    </tr>\n",
       "    <tr>\n",
       "      <th>Web Dev</th>\n",
       "      <td>1</td>\n",
       "    </tr>\n",
       "  </tbody>\n",
       "</table>\n",
       "</div>"
      ],
      "text/plain": [
       "                 First_Name\n",
       "Course_Track               \n",
       "AI                        4\n",
       "Cloud Computing           2\n",
       "Cybersecurity             2\n",
       "Data Science              3\n",
       "Web Dev                   1"
      ]
     },
     "execution_count": 57,
     "metadata": {},
     "output_type": "execute_result"
    }
   ],
   "source": [
    "# What is the most common course among the Male students?\n",
    "male=Create.groupby('Gender').get_group('Male')\n",
    "male.groupby('Course_Track').agg({'First_Name':'count'})"
   ]
  },
  {
   "cell_type": "code",
   "execution_count": 58,
   "id": "f1b76c2b",
   "metadata": {},
   "outputs": [
    {
     "data": {
      "text/plain": [
       "Gender\n",
       "Female     8\n",
       "Male      12\n",
       "Name: Gender, dtype: int64"
      ]
     },
     "execution_count": 58,
     "metadata": {},
     "output_type": "execute_result"
    }
   ],
   "source": [
    "# Total number of male and female\n",
    "Create.groupby('Gender')['Gender'].count()"
   ]
  },
  {
   "cell_type": "code",
   "execution_count": 68,
   "id": "11b9aa0c",
   "metadata": {},
   "outputs": [
    {
     "data": {
      "text/html": [
       "<div>\n",
       "<style scoped>\n",
       "    .dataframe tbody tr th:only-of-type {\n",
       "        vertical-align: middle;\n",
       "    }\n",
       "\n",
       "    .dataframe tbody tr th {\n",
       "        vertical-align: top;\n",
       "    }\n",
       "\n",
       "    .dataframe thead th {\n",
       "        text-align: right;\n",
       "    }\n",
       "</style>\n",
       "<table border=\"1\" class=\"dataframe\">\n",
       "  <thead>\n",
       "    <tr style=\"text-align: right;\">\n",
       "      <th></th>\n",
       "      <th>Course_Track</th>\n",
       "    </tr>\n",
       "    <tr>\n",
       "      <th>Course_Track</th>\n",
       "      <th></th>\n",
       "    </tr>\n",
       "  </thead>\n",
       "  <tbody>\n",
       "    <tr>\n",
       "      <th>Cybersecurity</th>\n",
       "      <td>1</td>\n",
       "    </tr>\n",
       "    <tr>\n",
       "      <th>Data Science</th>\n",
       "      <td>2</td>\n",
       "    </tr>\n",
       "  </tbody>\n",
       "</table>\n",
       "</div>"
      ],
      "text/plain": [
       "               Course_Track\n",
       "Course_Track               \n",
       "Cybersecurity             1\n",
       "Data Science              2"
      ]
     },
     "execution_count": 68,
     "metadata": {},
     "output_type": "execute_result"
    }
   ],
   "source": [
    "city=Create.groupby('City').get_group('Lagos')\n",
    "city\n",
    "city.groupby('Course_Track').agg({'Course_Track':'count'})"
   ]
  },
  {
   "cell_type": "markdown",
   "id": "58387f1e",
   "metadata": {},
   "source": [
    "# Data Reshaping"
   ]
  },
  {
   "cell_type": "code",
   "execution_count": null,
   "id": "80ee0e6a",
   "metadata": {},
   "outputs": [],
   "source": [
    "# Note that is just an illustration of what is possible. It does not make sense to take the mean of Seat_No\n",
    "pivot_table= pd.pivot_table(Create,\n",
    "                            index='Gender',\n",
    "                            columns='Course_Track',\n",
    "                            values='Seat_No',\n",
    "                            aggfunc='mean')\n",
    "print('pivot Table of Average Seat_No by Gender and Course_Track:')\n",
    "pivot_table"
   ]
  },
  {
   "cell_type": "code",
   "execution_count": null,
   "id": "9e6081c6",
   "metadata": {},
   "outputs": [],
   "source": [
    "pivot=pd.pivot_table(Create,\n",
    "                     index='City',\n",
    "                     columns='Course_Track',\n",
    "                     values='PC_make',\n",
    "                    aggfunc='sum' )\n",
    "pivot"
   ]
  },
  {
   "cell_type": "code",
   "execution_count": null,
   "id": "8bc592be",
   "metadata": {},
   "outputs": [],
   "source": [
    "povo=pd.pivot_table(Create,\n",
    "                    index='Gender',\n",
    "                    columns='Feedback',\n",
    "                   values='First_Name',\n",
    "                    aggfunc='sum' )\n",
    "povo"
   ]
  },
  {
   "cell_type": "code",
   "execution_count": null,
   "id": "ce5f6c7d",
   "metadata": {},
   "outputs": [],
   "source": [
    "# lets transpose this\n",
    "pivot_table.T"
   ]
  },
  {
   "cell_type": "markdown",
   "id": "1605415a",
   "metadata": {},
   "source": [
    "# i. Merging and Joining"
   ]
  },
  {
   "cell_type": "code",
   "execution_count": 79,
   "id": "598fbda7",
   "metadata": {},
   "outputs": [
    {
     "data": {
      "text/html": [
       "<div>\n",
       "<style scoped>\n",
       "    .dataframe tbody tr th:only-of-type {\n",
       "        vertical-align: middle;\n",
       "    }\n",
       "\n",
       "    .dataframe tbody tr th {\n",
       "        vertical-align: top;\n",
       "    }\n",
       "\n",
       "    .dataframe thead th {\n",
       "        text-align: right;\n",
       "    }\n",
       "</style>\n",
       "<table border=\"1\" class=\"dataframe\">\n",
       "  <thead>\n",
       "    <tr style=\"text-align: right;\">\n",
       "      <th></th>\n",
       "      <th>First_Name</th>\n",
       "      <th>Last_Name</th>\n",
       "      <th>Gender</th>\n",
       "      <th>Seat_No</th>\n",
       "      <th>City</th>\n",
       "      <th>Course_Track</th>\n",
       "      <th>PC_make</th>\n",
       "      <th>PC_Os</th>\n",
       "      <th>Feedback</th>\n",
       "      <th>Duration</th>\n",
       "      <th>Fee</th>\n",
       "    </tr>\n",
       "  </thead>\n",
       "  <tbody>\n",
       "    <tr>\n",
       "      <th>0</th>\n",
       "      <td>Emeka</td>\n",
       "      <td>Julius</td>\n",
       "      <td>Male</td>\n",
       "      <td>101</td>\n",
       "      <td>Lagos</td>\n",
       "      <td>Data Science</td>\n",
       "      <td>HP</td>\n",
       "      <td>Windows</td>\n",
       "      <td>Good</td>\n",
       "      <td>8 months</td>\n",
       "      <td>600000</td>\n",
       "    </tr>\n",
       "    <tr>\n",
       "      <th>1</th>\n",
       "      <td>Aisha</td>\n",
       "      <td>Bello</td>\n",
       "      <td>Female</td>\n",
       "      <td>102</td>\n",
       "      <td>Abuja</td>\n",
       "      <td>Cloud Computing</td>\n",
       "      <td>Dell</td>\n",
       "      <td>Linux</td>\n",
       "      <td>Excellent</td>\n",
       "      <td>6 months</td>\n",
       "      <td>500000</td>\n",
       "    </tr>\n",
       "    <tr>\n",
       "      <th>2</th>\n",
       "      <td>Ayo</td>\n",
       "      <td>Adewale</td>\n",
       "      <td>Male</td>\n",
       "      <td>103</td>\n",
       "      <td>Ibadan</td>\n",
       "      <td>Cybersecurity</td>\n",
       "      <td>HP</td>\n",
       "      <td>Windows</td>\n",
       "      <td>Excellent</td>\n",
       "      <td>5 months</td>\n",
       "      <td>450000</td>\n",
       "    </tr>\n",
       "    <tr>\n",
       "      <th>3</th>\n",
       "      <td>Chinedu</td>\n",
       "      <td>Godswill</td>\n",
       "      <td>Male</td>\n",
       "      <td>104</td>\n",
       "      <td>Enugu</td>\n",
       "      <td>AI</td>\n",
       "      <td>Asus</td>\n",
       "      <td>Windows</td>\n",
       "      <td>Good</td>\n",
       "      <td>7 months</td>\n",
       "      <td>550000</td>\n",
       "    </tr>\n",
       "    <tr>\n",
       "      <th>4</th>\n",
       "      <td>Fatima</td>\n",
       "      <td>Abubakar</td>\n",
       "      <td>Female</td>\n",
       "      <td>105</td>\n",
       "      <td>Kano</td>\n",
       "      <td>Data Science</td>\n",
       "      <td>Apple</td>\n",
       "      <td>Linux</td>\n",
       "      <td>Poor</td>\n",
       "      <td>8 months</td>\n",
       "      <td>600000</td>\n",
       "    </tr>\n",
       "  </tbody>\n",
       "</table>\n",
       "</div>"
      ],
      "text/plain": [
       "  First_Name Last_Name  Gender  Seat_No    City     Course_Track PC_make    PC_Os   Feedback  \\\n",
       "0      Emeka    Julius    Male      101   Lagos     Data Science      HP  Windows       Good   \n",
       "1      Aisha     Bello  Female      102   Abuja  Cloud Computing    Dell    Linux  Excellent   \n",
       "2        Ayo   Adewale    Male      103  Ibadan    Cybersecurity      HP  Windows  Excellent   \n",
       "3    Chinedu  Godswill    Male      104   Enugu               AI    Asus  Windows       Good   \n",
       "4     Fatima  Abubakar  Female      105    Kano     Data Science   Apple    Linux       Poor   \n",
       "\n",
       "   Duration     Fee  \n",
       "0  8 months  600000  \n",
       "1  6 months  500000  \n",
       "2  5 months  450000  \n",
       "3  7 months  550000  \n",
       "4  8 months  600000  "
      ]
     },
     "execution_count": 79,
     "metadata": {},
     "output_type": "execute_result"
    }
   ],
   "source": [
    "# Lets add more details to our bio_data2 dataset by create a new one.\n",
    "\n",
    "\n",
    "\n",
    "course_data = {\n",
    "    'Course_Track': ['Data Science', 'Web Dev', 'Cybersecurity', 'AI', 'Cloud Computing'],\n",
    "    'Duration': ['8 months', '4 months', '5 months', '7 months', '6 months'],\n",
    "    'Fee': [600000, 350000, 450000, 550000, 500000]\n",
    "}\n",
    "course_df = pd.DataFrame(course_data)\n",
    "# both create and course_data have \"Course_Track\" in common\n",
    "\n",
    "# Merge the two DataFrames on Course_Track (inner join by default)\n",
    "merged_df=pd.merge(Create,course_df, on='Course_Track',how='left')\n",
    "merged_df.head()"
   ]
  },
  {
   "cell_type": "markdown",
   "id": "d5966141",
   "metadata": {},
   "source": [
    "Theres another function called join "
   ]
  },
  {
   "cell_type": "code",
   "execution_count": 82,
   "id": "457fc303",
   "metadata": {},
   "outputs": [],
   "source": [
    "# Create a city DataFrame with details for each unique city in your bio dataset\n",
    "city_data = {\n",
    "    'City': ['Lagos', 'Abuja', 'Ibadan', 'Enugu', 'Kano', 'Benin', 'Port Harcourt', 'Abeokuta', 'Jos', 'Calabar', 'Onitsha'],\n",
    "    'Population': [14000000, 3000000, 5000000, 4000000, 3500000, 2000000, 2500000, 800000, 600000, 500000, 900000],\n",
    "    'Region': ['South West', 'Federal Capital Territory', 'South West', 'South East', 'North West',\n",
    "               'South South', 'South South', 'South West', 'North Central', 'South South', 'South East']\n",
    "}\n",
    "\n",
    "city_df = pd.DataFrame(city_data)\n",
    "\n",
    "# Lets set index for the dataset before joining\n",
    "df_index= city_df.set_index('City')"
   ]
  },
  {
   "cell_type": "code",
   "execution_count": 83,
   "id": "a7c6d1af",
   "metadata": {},
   "outputs": [
    {
     "name": "stdout",
     "output_type": "stream",
     "text": [
      "Joined DataFrame using .join():\n"
     ]
    },
    {
     "data": {
      "text/html": [
       "<div>\n",
       "<style scoped>\n",
       "    .dataframe tbody tr th:only-of-type {\n",
       "        vertical-align: middle;\n",
       "    }\n",
       "\n",
       "    .dataframe tbody tr th {\n",
       "        vertical-align: top;\n",
       "    }\n",
       "\n",
       "    .dataframe thead th {\n",
       "        text-align: right;\n",
       "    }\n",
       "</style>\n",
       "<table border=\"1\" class=\"dataframe\">\n",
       "  <thead>\n",
       "    <tr style=\"text-align: right;\">\n",
       "      <th></th>\n",
       "      <th>Population</th>\n",
       "      <th>Region</th>\n",
       "      <th>First_Name</th>\n",
       "      <th>Last_Name</th>\n",
       "      <th>Gender</th>\n",
       "      <th>Seat_No</th>\n",
       "      <th>City</th>\n",
       "      <th>Course_Track</th>\n",
       "      <th>PC_make</th>\n",
       "      <th>PC_Os</th>\n",
       "      <th>Feedback</th>\n",
       "      <th>Duration</th>\n",
       "      <th>Fee</th>\n",
       "    </tr>\n",
       "    <tr>\n",
       "      <th>City</th>\n",
       "      <th></th>\n",
       "      <th></th>\n",
       "      <th></th>\n",
       "      <th></th>\n",
       "      <th></th>\n",
       "      <th></th>\n",
       "      <th></th>\n",
       "      <th></th>\n",
       "      <th></th>\n",
       "      <th></th>\n",
       "      <th></th>\n",
       "      <th></th>\n",
       "      <th></th>\n",
       "    </tr>\n",
       "  </thead>\n",
       "  <tbody>\n",
       "    <tr>\n",
       "      <th>Lagos</th>\n",
       "      <td>14000000</td>\n",
       "      <td>South West</td>\n",
       "      <td>NaN</td>\n",
       "      <td>NaN</td>\n",
       "      <td>NaN</td>\n",
       "      <td>NaN</td>\n",
       "      <td>NaN</td>\n",
       "      <td>NaN</td>\n",
       "      <td>NaN</td>\n",
       "      <td>NaN</td>\n",
       "      <td>NaN</td>\n",
       "      <td>NaN</td>\n",
       "      <td>NaN</td>\n",
       "    </tr>\n",
       "    <tr>\n",
       "      <th>Abuja</th>\n",
       "      <td>3000000</td>\n",
       "      <td>Federal Capital Territory</td>\n",
       "      <td>NaN</td>\n",
       "      <td>NaN</td>\n",
       "      <td>NaN</td>\n",
       "      <td>NaN</td>\n",
       "      <td>NaN</td>\n",
       "      <td>NaN</td>\n",
       "      <td>NaN</td>\n",
       "      <td>NaN</td>\n",
       "      <td>NaN</td>\n",
       "      <td>NaN</td>\n",
       "      <td>NaN</td>\n",
       "    </tr>\n",
       "    <tr>\n",
       "      <th>Ibadan</th>\n",
       "      <td>5000000</td>\n",
       "      <td>South West</td>\n",
       "      <td>NaN</td>\n",
       "      <td>NaN</td>\n",
       "      <td>NaN</td>\n",
       "      <td>NaN</td>\n",
       "      <td>NaN</td>\n",
       "      <td>NaN</td>\n",
       "      <td>NaN</td>\n",
       "      <td>NaN</td>\n",
       "      <td>NaN</td>\n",
       "      <td>NaN</td>\n",
       "      <td>NaN</td>\n",
       "    </tr>\n",
       "    <tr>\n",
       "      <th>Enugu</th>\n",
       "      <td>4000000</td>\n",
       "      <td>South East</td>\n",
       "      <td>NaN</td>\n",
       "      <td>NaN</td>\n",
       "      <td>NaN</td>\n",
       "      <td>NaN</td>\n",
       "      <td>NaN</td>\n",
       "      <td>NaN</td>\n",
       "      <td>NaN</td>\n",
       "      <td>NaN</td>\n",
       "      <td>NaN</td>\n",
       "      <td>NaN</td>\n",
       "      <td>NaN</td>\n",
       "    </tr>\n",
       "    <tr>\n",
       "      <th>Kano</th>\n",
       "      <td>3500000</td>\n",
       "      <td>North West</td>\n",
       "      <td>NaN</td>\n",
       "      <td>NaN</td>\n",
       "      <td>NaN</td>\n",
       "      <td>NaN</td>\n",
       "      <td>NaN</td>\n",
       "      <td>NaN</td>\n",
       "      <td>NaN</td>\n",
       "      <td>NaN</td>\n",
       "      <td>NaN</td>\n",
       "      <td>NaN</td>\n",
       "      <td>NaN</td>\n",
       "    </tr>\n",
       "  </tbody>\n",
       "</table>\n",
       "</div>"
      ],
      "text/plain": [
       "        Population                     Region First_Name Last_Name Gender  Seat_No City  \\\n",
       "City                                                                                      \n",
       "Lagos     14000000                 South West        NaN       NaN    NaN      NaN  NaN   \n",
       "Abuja      3000000  Federal Capital Territory        NaN       NaN    NaN      NaN  NaN   \n",
       "Ibadan     5000000                 South West        NaN       NaN    NaN      NaN  NaN   \n",
       "Enugu      4000000                 South East        NaN       NaN    NaN      NaN  NaN   \n",
       "Kano       3500000                 North West        NaN       NaN    NaN      NaN  NaN   \n",
       "\n",
       "       Course_Track PC_make PC_Os Feedback Duration  Fee  \n",
       "City                                                      \n",
       "Lagos           NaN     NaN   NaN      NaN      NaN  NaN  \n",
       "Abuja           NaN     NaN   NaN      NaN      NaN  NaN  \n",
       "Ibadan          NaN     NaN   NaN      NaN      NaN  NaN  \n",
       "Enugu           NaN     NaN   NaN      NaN      NaN  NaN  \n",
       "Kano            NaN     NaN   NaN      NaN      NaN  NaN  "
      ]
     },
     "execution_count": 83,
     "metadata": {},
     "output_type": "execute_result"
    }
   ],
   "source": [
    "# Lets join this with merged_df\n",
    "joined_df = df_index.join(merged_df, how='left')\n",
    "print(\"Joined DataFrame using .join():\")\n",
    "joined_df.head()"
   ]
  }
 ],
 "metadata": {
  "kernelspec": {
   "display_name": "Python 3",
   "language": "python",
   "name": "python3"
  },
  "language_info": {
   "codemirror_mode": {
    "name": "ipython",
    "version": 3
   },
   "file_extension": ".py",
   "mimetype": "text/x-python",
   "name": "python",
   "nbconvert_exporter": "python",
   "pygments_lexer": "ipython3",
   "version": "3.13.6"
  }
 },
 "nbformat": 4,
 "nbformat_minor": 5
}
