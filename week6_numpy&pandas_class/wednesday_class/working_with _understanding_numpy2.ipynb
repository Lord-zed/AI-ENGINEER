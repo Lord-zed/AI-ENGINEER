{
 "cells": [
  {
   "cell_type": "markdown",
   "id": "1e8f2272",
   "metadata": {},
   "source": [
    "# Understanding Numpy"
   ]
  },
  {
   "cell_type": "code",
   "execution_count": 2,
   "id": "c66478df",
   "metadata": {},
   "outputs": [
    {
     "name": "stdout",
     "output_type": "stream",
     "text": [
      "2.3.3\n"
     ]
    }
   ],
   "source": [
    "import numpy as np\n",
    "import matplotlib.pyplot\n",
    "import time\n",
    "print(np.__version__)"
   ]
  },
  {
   "cell_type": "markdown",
   "id": "6485c973",
   "metadata": {},
   "source": [
    "Creating Numpy arrays"
   ]
  },
  {
   "cell_type": "code",
   "execution_count": null,
   "id": "58972c55",
   "metadata": {},
   "outputs": [],
   "source": [
    "#creating arrays from python lists\n",
    "# 1D array: A simple sequence of number\n",
    "arr1d= np.array([1,2,3,4,5])\n",
    "print(\"1D array\\n\",arr1d)\n",
    "\n",
    "# 2D array: Think of this as a simple matrix or table with rowa and column\n",
    "arr2d= np.array([[1,2,3,4],[5,6,7,8]])\n",
    "arr2d\n",
    "\n",
    "#3D array:Think of this like a stack of 2D array\n",
    "arr3d=np.array([[[1,2,3],[4,5,6]],[[7,8,9],[10,11,12]]])\n",
    "print(\"3D array:\\n\", arr3d)\n",
    "\n",
    "ar3=np.array([[[1,2,3,4]]])\n",
    "print('4x3mareix\\n',ar3)\n",
    "ar3.shape"
   ]
  },
  {
   "cell_type": "markdown",
   "id": "ad4c2342",
   "metadata": {},
   "source": [
    "### Creating special array in numpy"
   ]
  },
  {
   "cell_type": "code",
   "execution_count": null,
   "id": "18a9a213",
   "metadata": {},
   "outputs": [],
   "source": [
    "# creating sprcial arrays filled with zeros\n",
    "zeros=np.zeros((4,4))\n",
    "print('zeeros array:\\n',zeros)\n",
    "\n",
    "\n",
    "# creating special arrays filed with ones\n",
    "# ones=np.ones((3,3))\n",
    "# print('ones array:\\n',ones)\n",
    "\n",
    "# # creating empty arrays\n",
    "# empty=np.empty((2,4))\n",
    "# print('empty array:\\n',empty)"
   ]
  },
  {
   "cell_type": "code",
   "execution_count": null,
   "id": "29e291d7",
   "metadata": {},
   "outputs": [],
   "source": [
    "# Range arraysn- like python range but more powerful\n",
    "range_arr=np.arange(0,10,3)\n",
    "print('arange array\\n',range_arr)\n",
    "\n",
    "# Linearly spaced arrays\n",
    "linear_arr=np.linspace(0,10,5)\n",
    "print('linear array:\\n',linear_arr)\n",
    "\n",
    "# logspace arrays\n",
    "log_array=np.logspace(0,2,5)\n",
    "print('log array:\\n',log_array)\n"
   ]
  },
  {
   "cell_type": "code",
   "execution_count": null,
   "id": "83c38dd8",
   "metadata": {},
   "outputs": [],
   "source": [
    "# identity matrix\n",
    "identity=np.eye(4)\n",
    "print('identity matrix:\\n',identity)\n",
    "\n",
    "# diagonal matrix\n",
    "np.diag([1,2,3,4])\n",
    "\n",
    "# array filled with a specific number\n",
    "np.full((4,3),8)\n"
   ]
  },
  {
   "cell_type": "markdown",
   "id": "e85e7197",
   "metadata": {},
   "source": [
    "### Numpy data type"
   ]
  },
  {
   "cell_type": "code",
   "execution_count": null,
   "id": "599118de",
   "metadata": {},
   "outputs": [],
   "source": [
    "# Explicit data types - control memory usage and precision\n",
    "int_arr=np.array([1,2,3,4],dtype=np.int32)\n",
    "print('int arrar:\\n',int_arr)\n",
    "int_arr.dtype\n",
    "\n",
    "float_arr=np.array([[1,2,3],[3,4,5],[6,5,4],[5,3,1]],dtype=np.float64)\n",
    "print('float array:\\n',float_arr)\n",
    "float_arr.dtype\n",
    "\n",
    "converted=int_arr.astype(np.float16)\n",
    "print('converted:\\n',converted)\n",
    "\n",
    "print(f\"int32 uses {int_arr.itemsize} bytes per element\")\n",
    "print(f\"float64 uses {float_arr.itemsize} bytes per element\")\n",
    "converted.itemsize"
   ]
  },
  {
   "cell_type": "markdown",
   "id": "a0cbf2be",
   "metadata": {},
   "source": [
    "### Array propertes and attributes"
   ]
  },
  {
   "cell_type": "code",
   "execution_count": null,
   "id": "a1ed43c0",
   "metadata": {},
   "outputs": [],
   "source": [
    "arr=np.random.randn(2,4,4)\n",
    "print('arr display:\\n',arr)\n",
    "\n",
    "print('size:\\n',arr.size)\n",
    "print('shape:\\n',arr.shape)\n",
    "print('data type:\\n',arr.dtype)\n",
    "print('itemsize:\\n',arr.itemsize)\n",
    "print('ndim:\\n',arr.ndim)"
   ]
  },
  {
   "cell_type": "markdown",
   "id": "154805d8",
   "metadata": {},
   "source": [
    "### Array indexing and slicing\n"
   ]
  },
  {
   "cell_type": "markdown",
   "id": "0e666a7e",
   "metadata": {},
   "source": [
    "Basic indexing"
   ]
  },
  {
   "cell_type": "code",
   "execution_count": null,
   "id": "29395377",
   "metadata": {},
   "outputs": [],
   "source": [
    "print(float_arr)\n",
    "print(float_arr[0,2])\n",
    "print(float_arr[ 3, 2 ])\n",
    "print(float_arr[:2])\n",
    "print(float_arr[:1])\n",
    "print('clero:\\n',float_arr[2:])\n",
    "\n",
    "# Advance indexing\n",
    "indeces=np.array([0,1,3,3])\n",
    "\n",
    "print('idices:\\n',float_arr[indeces])\n",
    "#print('fancy indexing:\\n',float_arr[rol, coll])\n",
    "float_arr.reshape(2,2,-1)"
   ]
  },
  {
   "cell_type": "code",
   "execution_count": null,
   "id": "af8aa3d8",
   "metadata": {},
   "outputs": [],
   "source": [
    "# 2D fancy indexing - select row/column combination\n",
    "arro=np.arange(16).reshape(4,4)\n",
    "print('arrow shows\\n',arro)\n",
    "\n",
    "row=np.array([1,3])\n",
    "col=np.array([3,2])\n",
    "print('Advance indexing:', arro[row,col])\n",
    "indoces=np.array([0,2])\n",
    "print('indoces:\\n',arro[indoces])"
   ]
  },
  {
   "cell_type": "markdown",
   "id": "fbcd52ce",
   "metadata": {},
   "source": [
    "### Array reshaping and manipulaton"
   ]
  },
  {
   "cell_type": "code",
   "execution_count": null,
   "id": "6f3aec3a",
   "metadata": {},
   "outputs": [],
   "source": [
    "arro.reshape(2, -1)\n",
    "\n",
    "arro.reshape(2,2,-1)\n"
   ]
  },
  {
   "cell_type": "code",
   "execution_count": 107,
   "id": "5a78534b",
   "metadata": {},
   "outputs": [
    {
     "name": "stdout",
     "output_type": "stream",
     "text": [
      "After modifying original:\n",
      "flattened(unchange): [ 0  1  2  3  4  5  6  7  8  9 10 11 12 13 14 15]\n",
      "ravel: [999   1   2   3   4   5   6   7   8   9  10  11  12  13  14  15]\n"
     ]
    }
   ],
   "source": [
    "# flattening - convert multi-dimensional array to 1D\n",
    "flattened=arro.flatten()\n",
    "arro\n",
    "\n",
    "ravel=arro.ravel()\n",
    "ravel\n",
    "\n",
    "arro[0,0]=999\n",
    "print('After modifying original:')\n",
    "print('flattened(unchange):', flattened)\n",
    "print('ravel:',ravel)"
   ]
  },
  {
   "cell_type": "markdown",
   "id": "6c6e8638",
   "metadata": {},
   "source": [
    "### Transposing and swaping Axes"
   ]
  },
  {
   "cell_type": "code",
   "execution_count": 112,
   "id": "1ce0fd5e",
   "metadata": {},
   "outputs": [
    {
     "data": {
      "text/plain": [
       "(4, 2)"
      ]
     },
     "execution_count": 112,
     "metadata": {},
     "output_type": "execute_result"
    }
   ],
   "source": [
    "# 2D transposition - flip rows and columns\n",
    "arr2d.shape\n",
    "arr2d.T.shape"
   ]
  },
  {
   "cell_type": "code",
   "execution_count": null,
   "id": "da42cb58",
   "metadata": {},
   "outputs": [],
   "source": [
    "# Higher-dimensional transposition\n",
    "arr3d=np.arange(24).reshape(2,3,4)\n",
    "print('arr3d vector:\\n',arr3d)\n",
    "\n",
    "# Specify new axis order: (axis0, axis1, axis2) → (axis2, axis0, axis1)\n",
    "transpose3d=arr3d.transpose(2,0,1)\n",
    "print('Transpose 3d:\\n', transpose3d)\n",
    "\n",
    "# moveaxis is another way to rearrange axes\n",
    "moved3d=np.moveaxis(arr3d,0,-1)\n",
    "print('moved 3d:\\n', moved3d)\n"
   ]
  },
  {
   "cell_type": "markdown",
   "id": "3fe8555e",
   "metadata": {},
   "source": [
    "### concatenating and splitting Arrays"
   ]
  },
  {
   "cell_type": "markdown",
   "id": "b0d47fd4",
   "metadata": {},
   "source": [
    "- Combining and dividing arrays is fundamental for data manipulation"
   ]
  },
  {
   "cell_type": "code",
   "execution_count": 3,
   "id": "fb70b9f8",
   "metadata": {},
   "outputs": [
    {
     "name": "stdout",
     "output_type": "stream",
     "text": [
      "Original arrays:\n",
      "Array 1:\n",
      " [[1 2]\n",
      " [3 4]]\n",
      "Array 2:\n",
      " [[5 6]\n",
      " [7 8]]\n",
      "Concatenated vertically (axis=0):\n",
      " [[1 2]\n",
      " [3 4]\n",
      " [5 6]\n",
      " [7 8]]\n",
      "Concatenated horizontally (axis=1):\n",
      " [[1 2 5 6]\n",
      " [3 4 7 8]]\n"
     ]
    }
   ],
   "source": [
    "# concatenation - joining arrays along existing axis\n",
    "arr1= np.array([[1,2],[3,4]])\n",
    "arr2=np.array([[5,6],[7,8]])\n",
    "\n",
    "# concatenate along different axis\n",
    "concat_rows=np.concatenate([arr1,arr2], axis=0)\n",
    "concat_col=np.concatenate([arr1,arr2],axis=1)\n",
    "\n",
    "print(\"Original arrays:\")\n",
    "print(\"Array 1:\\n\", arr1)\n",
    "print(\"Array 2:\\n\", arr2)\n",
    "print(\"Concatenated vertically (axis=0):\\n\", concat_rows)\n",
    "print(\"Concatenated horizontally (axis=1):\\n\", concat_col)"
   ]
  },
  {
   "cell_type": "code",
   "execution_count": null,
   "id": "eb38743d",
   "metadata": {},
   "outputs": [],
   "source": [
    "# Convenient stacking functions\n",
    "# vstack_result=np.vstack([arr1, arr2])\n",
    "# hstack=np.hstack([arr1,arr2])\n",
    "# dstack=np.dstack([arr1,arr2])\n",
    "\n",
    "# print(\"vstack (vertical):\\n\", vstack_result)\n",
    "# print(\"hstack (horizontal):\\n\", hstack)\n",
    "# print(\"dstack shape:\", dstack)  # Creates 3D array\n",
    "# print(\"dstack shape:\", dstack.shape)  # Creates 3D array\n",
    "\n",
    "# Splitting arrays - opposite of concatenation\n",
    "arr =np.arange(12).reshape(3,4)\n",
    "print('show arr:\\n', arr)\n",
    "split_arr=np.split(arr, 3, axis=0)\n",
    "print('split_arr:\\n', split_arr)\n",
    "\n",
    "for i, split_part in enumerate(split_arr):\n",
    "    print(f\"Part {i}:\\n\", split_part)\n"
   ]
  },
  {
   "cell_type": "markdown",
   "id": "507aded5",
   "metadata": {},
   "source": [
    "### Mathematical operation"
   ]
  },
  {
   "cell_type": "markdown",
   "id": "423cda47",
   "metadata": {},
   "source": [
    "- Element-wise Operation- The power of vectorization"
   ]
  },
  {
   "cell_type": "code",
   "execution_count": null,
   "id": "5bd4ef9a",
   "metadata": {},
   "outputs": [],
   "source": [
    "# Basic arithmetic operations work element-by-element\n"
   ]
  }
 ],
 "metadata": {
  "kernelspec": {
   "display_name": "Python 3",
   "language": "python",
   "name": "python3"
  },
  "language_info": {
   "codemirror_mode": {
    "name": "ipython",
    "version": 3
   },
   "file_extension": ".py",
   "mimetype": "text/x-python",
   "name": "python",
   "nbconvert_exporter": "python",
   "pygments_lexer": "ipython3",
   "version": "3.13.6"
  }
 },
 "nbformat": 4,
 "nbformat_minor": 5
}
