{
 "cells": [
  {
   "cell_type": "code",
   "execution_count": 1,
   "id": "deef8fdc",
   "metadata": {},
   "outputs": [],
   "source": [
    "import numpy as np\n",
    "import matplotlib.pyplot as plt\n"
   ]
  },
  {
   "cell_type": "code",
   "execution_count": 3,
   "id": "b390ceef",
   "metadata": {},
   "outputs": [
    {
     "name": "stdout",
     "output_type": "stream",
     "text": [
      "[1 2 3 4]\n",
      "2d vector:\n",
      " [[3]\n",
      " [4]\n",
      " [4]]\n"
     ]
    }
   ],
   "source": [
    "# A row of vector (1d)\n",
    "v1=np.array([1,2,3,4])\n",
    "print(v1)\n",
    "\n",
    "# A column of vector (2d with shape 3x1)\n",
    "v2=np.array([[3],[4],[4]])\n",
    "print('2d vector:\\n',v2)"
   ]
  },
  {
   "cell_type": "markdown",
   "id": "5940eaa9",
   "metadata": {},
   "source": [
    "Vection Addition"
   ]
  },
  {
   "cell_type": "code",
   "execution_count": null,
   "id": "0f4c1331",
   "metadata": {},
   "outputs": [
    {
     "name": "stdout",
     "output_type": "stream",
     "text": [
      "[5 7 9]\n"
     ]
    }
   ],
   "source": [
    "# Vector addition\n",
    "a=np.array([2,3,4])\n",
    "b=np.array([3,4,5])\n",
    "sum_vector=a + b\n",
    "print(sum_vector)\n",
    "\n",
    "# Geometric interpretation in 2D\n",
    "a_2d"
   ]
  }
 ],
 "metadata": {
  "kernelspec": {
   "display_name": "Python 3",
   "language": "python",
   "name": "python3"
  },
  "language_info": {
   "codemirror_mode": {
    "name": "ipython",
    "version": 3
   },
   "file_extension": ".py",
   "mimetype": "text/x-python",
   "name": "python",
   "nbconvert_exporter": "python",
   "pygments_lexer": "ipython3",
   "version": "3.13.6"
  }
 },
 "nbformat": 4,
 "nbformat_minor": 5
}
