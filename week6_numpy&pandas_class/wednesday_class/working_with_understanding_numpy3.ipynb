{
 "cells": [
  {
   "cell_type": "code",
   "execution_count": 2,
   "id": "6b4182b3",
   "metadata": {},
   "outputs": [
    {
     "name": "stdout",
     "output_type": "stream",
     "text": [
      "NumPy version: 2.3.2\n"
     ]
    }
   ],
   "source": [
    "# import all neccsarry libraries\n",
    "\n",
    "import numpy as np\n",
    "import matplotlib.pyplot as plt\n",
    "import time\n",
    "\n",
    "# Check NumPy version\n",
    "print(f\"NumPy version: {np.__version__}\")\n",
    "\n",
    "# Display settings for cleaner output\n",
    "np.set_printoptions(precision=3, suppress=True)"
   ]
  },
  {
   "cell_type": "markdown",
   "id": "9b24cce9",
   "metadata": {},
   "source": [
    "***Creating Numpy Arrays***"
   ]
  },
  {
   "cell_type": "code",
   "execution_count": 15,
   "id": "52d4a73c",
   "metadata": {},
   "outputs": [
    {
     "name": "stdout",
     "output_type": "stream",
     "text": [
      "Array 1D:\n",
      " [1 2 3 4]\n",
      "Array 2D:\n",
      " [[1 2 3 4]\n",
      " [5 6 7 8]\n",
      " [9 1 3 5]]\n",
      "Array 3D:\n",
      " [[[1 2 3]\n",
      "  [3 4 5]\n",
      "  [7 8 9]]\n",
      "\n",
      " [[3 2 1]\n",
      "  [6 5 4]\n",
      "  [9 8 7]]]\n",
      "Empty array (contains random values):\n",
      " [[0. 0.]\n",
      " [0. 0.]]\n"
     ]
    }
   ],
   "source": [
    "# Creating arrayfrom python list\n",
    "arr_1d=np.array([1,2,3,4])\n",
    "print('Array 1D:\\n',arr_1d)\n",
    "\n",
    "arr_2D=np.array([[1,2,3,4],[5,6,7,8],[9,1,3,5]])\n",
    "print('Array 2D:\\n',arr_2D)\n",
    "\n",
    "arr_3D=np.array([[[1,2,3],[3,4,5],[7,8,9]],[[3,2,1],[6,5,4],[9,8,7]]])\n",
    "print('Array 3D:\\n',arr_3D)\n",
    "\n",
    "empty = np.empty((2, 2)) \n",
    "print(\"Empty array (contains random values):\\n\", empty)\n"
   ]
  },
  {
   "cell_type": "markdown",
   "id": "73c94e6b",
   "metadata": {},
   "source": [
    "*Creating special arrays in Numpy*"
   ]
  },
  {
   "cell_type": "code",
   "execution_count": 16,
   "id": "1af89ed1",
   "metadata": {},
   "outputs": [
    {
     "name": "stdout",
     "output_type": "stream",
     "text": [
      "Range array:\n",
      " [0 2 4 6 8]\n",
      "[ 5  8 11 14 17]\n"
     ]
    }
   ],
   "source": [
    "range_arr=np.arange(0,10,2)\n",
    "print('Range array:\\n',range_arr)\n",
    "\n",
    "range_2arr=np.arange(5,20,3)\n",
    "print(range_2arr)"
   ]
  },
  {
   "cell_type": "code",
   "execution_count": 17,
   "id": "9ff67d2a",
   "metadata": {},
   "outputs": [
    {
     "name": "stdout",
     "output_type": "stream",
     "text": [
      "identity mat:\n",
      " [[1. 0. 0. 0.]\n",
      " [0. 1. 0. 0.]\n",
      " [0. 0. 1. 0.]\n",
      " [0. 0. 0. 1.]]\n",
      "Diagonal mat:\n",
      " [[2 0 0 0]\n",
      " [0 4 0 0]\n",
      " [0 0 6 0]\n",
      " [0 0 0 8]]\n"
     ]
    },
    {
     "data": {
      "text/plain": [
       "array([[7, 7, 7, 7],\n",
       "       [7, 7, 7, 7],\n",
       "       [7, 7, 7, 7],\n",
       "       [7, 7, 7, 7]])"
      ]
     },
     "execution_count": 17,
     "metadata": {},
     "output_type": "execute_result"
    }
   ],
   "source": [
    "# Identity matrix\n",
    "iden=np.eye(4)\n",
    "print('identity mat:\\n',iden)\n",
    "\n",
    "#diagonal matrix\n",
    "diago=np.diag([2,4,6,8])\n",
    "print('Diagonal mat:\\n',diago)\n",
    "\n",
    "# ARRAY filled with a specific number\n",
    "fill_arr=np.full((4,4),7)\n",
    "fill_arr"
   ]
  },
  {
   "cell_type": "markdown",
   "id": "3951b838",
   "metadata": {},
   "source": [
    "**Array Properties & Attributes**"
   ]
  },
  {
   "cell_type": "code",
   "execution_count": 28,
   "id": "6565241e",
   "metadata": {},
   "outputs": [
    {
     "name": "stdout",
     "output_type": "stream",
     "text": [
      "[[-0.721  1.005  1.237  0.485 -0.269]\n",
      " [ 1.762 -0.069 -0.104 -0.062 -0.358]\n",
      " [-0.19   1.104 -1.615 -1.454  2.447]\n",
      " [ 0.764  0.279  0.787 -0.588  1.109]]\n",
      "arr size:\n",
      " 20\n",
      "Data type of arr:\n",
      " float64\n",
      "Data type:\n",
      " int32\n"
     ]
    }
   ],
   "source": [
    "# Create a sample 3D array for demonstration\n",
    "# Think of this as 3 layers, each with 4 rows and 5 columns\n",
    "arr=np.random.randn(4,5)\n",
    "print(arr)\n",
    "\n",
    "print('arr size:\\n',arr.size)\n",
    "\n",
    "print('Data type of arr:\\n',arr.dtype)\n",
    "\n",
    "carr=arr.astype(np.int32,)\n",
    "print('Data type:\\n',carr.dtype)"
   ]
  },
  {
   "cell_type": "code",
   "execution_count": 12,
   "id": "8909616c",
   "metadata": {},
   "outputs": [
    {
     "name": "stdout",
     "output_type": "stream",
     "text": [
      "Current python version is: 3.13.6 (tags/v3.13.6:4e66535, Aug  6 2025, 14:36:00) [MSC v.1944 64 bit (AMD64)]\n"
     ]
    }
   ],
   "source": [
    "import sys\n",
    "print('Current python version is:',sys.version)"
   ]
  },
  {
   "cell_type": "markdown",
   "id": "451614ca",
   "metadata": {},
   "source": [
    "Basic indexing- Accessing individual Elements"
   ]
  },
  {
   "cell_type": "code",
   "execution_count": 16,
   "id": "68de1499",
   "metadata": {},
   "outputs": [
    {
     "name": "stdout",
     "output_type": "stream",
     "text": [
      "[0 2 4 6 8]\n",
      "4\n",
      "2D Array: [[1 2 3 4]\n",
      " [5 6 7 8]\n",
      " [9 1 2 3]\n",
      " [8 7 6 5]]\n",
      "showing: 5\n",
      "[1 5 9 8]\n",
      "Array 3D:\n",
      " [[[1 2 3]\n",
      "  [4 5 6]]\n",
      "\n",
      " [[7 8 9]\n",
      "  [1 2 3]]\n",
      "\n",
      " [[8 7 6]\n",
      "  [5 4 0]]]\n",
      "indexing:\n",
      " [[4 5 6]\n",
      " [5 4 0]]\n",
      "2nd indexing:\n",
      " [[[1 2 3]\n",
      "  [4 5 6]]\n",
      "\n",
      " [[7 8 9]\n",
      "  [1 2 3]]]\n"
     ]
    }
   ],
   "source": [
    "#indexing in one dimensional array \n",
    "arr1d=np.arange(0,10,2)\n",
    "print(arr1d)\n",
    "\n",
    "print(arr1d[2])\n",
    "\n",
    "#indexing in 2D\n",
    "arr2d=np.array([[1,2,3,4],[5,6,7,8],[9,1,2,3],[8,7,6,5]])\n",
    "print('2D Array:',arr2d)\n",
    "\n",
    "print('showing:',arr2d[1,0])\n",
    "\n",
    "\n",
    "print(arr2d[:, 0])\n",
    "\n",
    "# indexing 3D\n",
    "arr3D=np.array([[[1,2,3],[4,5,6]],[[7,8,9],[1,2,3]],[[8,7,6],[5,4,0]]])\n",
    "print('Array 3D:\\n',arr3D)\n",
    "\n",
    "print('indexing:\\n',arr3D[[0,2],[1,1]])\n",
    "print('2nd indexing:\\n',arr3D[[0,1]])"
   ]
  },
  {
   "cell_type": "code",
   "execution_count": 17,
   "id": "3ab6d0b5",
   "metadata": {},
   "outputs": [
    {
     "name": "stdout",
     "output_type": "stream",
     "text": [
      "[[ 0  1  2  3  4]\n",
      " [ 5  6  7  8  9]\n",
      " [10 11 12 13 14]\n",
      " [15 16 17 18 19]]\n",
      "Index:\n",
      " [ 0 17]\n",
      "selected rows: [[ 5  6  7  8  9]\n",
      " [10 11 12 13 14]]\n"
     ]
    }
   ],
   "source": [
    "# Fancing indexing \n",
    "arr2d=np.arange(0,20,1).reshape(4,5)\n",
    "print(arr2d)\n",
    "row=np.array([0,3])\n",
    "col=np.array([0,2])\n",
    "\n",
    "print('Index:\\n',arr2d[row,col])\n",
    "\n",
    "# select entire rows using fancing indexing\n",
    "selected_rows=arr2d[[1,2],:]\n",
    "print('selected rows:',selected_rows)"
   ]
  },
  {
   "cell_type": "markdown",
   "id": "37d3d104",
   "metadata": {},
   "source": [
    "Array reshaping and manipulation "
   ]
  },
  {
   "cell_type": "code",
   "execution_count": null,
   "id": "44c06758",
   "metadata": {},
   "outputs": [],
   "source": [
    "# start with a 1D array\n",
    "arr=np.arange(0,10,2)\n",
    "print(arr)\n",
    "\n",
    "arr1= np.arange(10)\n",
    "print(arr1)\n",
    "\n",
    "arr0=np.arange(0,20).reshape(5,4)\n",
    "print(arr0)\n",
    "\n",
    "arr0.reshape(2,2,-1)"
   ]
  },
  {
   "cell_type": "markdown",
   "id": "dfe65bab",
   "metadata": {},
   "source": [
    "Transposing and swapping Axes"
   ]
  },
  {
   "cell_type": "code",
   "execution_count": null,
   "id": "dcc5c19b",
   "metadata": {},
   "outputs": [],
   "source": [
    "arr2d= np.array([[1,2,3],[4,5,6]])\n",
    "print(arr2d)\n",
    "print('Original shape:\\n',arr2d.shape)\n",
    "\n",
    "print('Transposed shape:\\n',arr2d.T)\n",
    "\n",
    "# Alternative Transpose methods\n",
    "print('Alternative transpose:\\n',arr2d.transpose())"
   ]
  },
  {
   "cell_type": "markdown",
   "id": "db25279a",
   "metadata": {},
   "source": [
    "**Concatenating and Splitting Arrays**\n",
    "\n",
    "- Combining and dividing arrays is fundamental for data manipulation"
   ]
  },
  {
   "cell_type": "code",
   "execution_count": null,
   "id": "e3bd83de",
   "metadata": {},
   "outputs": [],
   "source": [
    "# Concatenation - joining arrays along existing axes\n",
    "arr1 =np.array([[1, 2], [3, 4]])\n",
    "arr2 = np.array([[5, 6], [7, 8]])\n",
    "\n",
    "# Concatenate along different axes\n",
    "concat_rows =np.concatenate([arr1,arr2], axis=0)    #stack vertically(add rows)\n",
    "concat_cols=np.concatenate([arr1,arr2], axis=1)     # Stack horizontally (add columns)\n",
    "\n",
    "print(\"Original arrays:\")\n",
    "print(\"Array 1:\\n\", arr1)\n",
    "print(\"Array 2:\\n\", arr2)\n",
    "print(\"Concatenated vertically (axis=0):\\n\", concat_rows)\n",
    "print(\"Concatenated horizontally (axis=1):\\n\", concat_cols)\n"
   ]
  },
  {
   "cell_type": "code",
   "execution_count": null,
   "id": "8a185b92",
   "metadata": {},
   "outputs": [],
   "source": [
    "# Convenient stacking function \n",
    "# vstack_result=np.vstack([arr1, arr2])\n",
    "# hstack_result=np.hstack([arr1,arr2])\n",
    "# dstack_result=np.dstack([arr1,arr2])\n",
    "\n",
    "# print(\"vstack (vertical):\\n\", vstack_result)\n",
    "# print(\"hstack (horizontal):\\n\", hstack_result)\n",
    "# print(\"dstack shape:\", dstack_result) \n",
    "# print(\"dstack shape:\", dstack_result.shape) \n",
    "\n",
    "# arr3=np.array([[[1,5],[2,6]],[[3,7],[4,8]]])\n",
    "# print('My own generated 3D:\\n',arr3)\n",
    "\n",
    "# Splitting arrays - opposite of concatenation\n",
    "arro=np.arange(0,12).reshape(4,3)\n",
    "print('Arro image:\\n',arro)\n",
    "\n",
    "split_arro=np.array_split(arro,3, axis=1)\n",
    "print(split_arro)"
   ]
  },
  {
   "cell_type": "markdown",
   "id": "6282d634",
   "metadata": {},
   "source": [
    "*Mathematical operation*"
   ]
  },
  {
   "cell_type": "markdown",
   "id": "3cf33e9f",
   "metadata": {},
   "source": [
    "Element-wise operation - The power of vectorization"
   ]
  },
  {
   "cell_type": "code",
   "execution_count": null,
   "id": "f7722f8d",
   "metadata": {},
   "outputs": [],
   "source": [
    "# Basic arithmetic operations work element-by-element\n",
    "arr1 = np.arange(0,12).reshape(3,4)\n",
    "arr2 = np.array([10, 20, 30, 40])\n",
    "arr3 = np.arange(10,22).reshape(4,3)\n",
    "\n",
    "# All operations happen element-wise automatically\n",
    "print('arri shape:\\n',arr1)\n",
    "print('Addition:\\n',arr1 + arr2)\n",
    "print(\"Subtraction:\", arr2 - arr1) \n",
    "print(\"Multiplication:\", arr1 * arr2) \n",
    "print(\"Division:\", arr2 / arr1)\n",
    "print('showing arr3:\\n',arr3)\n",
    "print('second addition:',arr1.dot(arr3))\n"
   ]
  },
  {
   "cell_type": "markdown",
   "id": "bbca45d9",
   "metadata": {},
   "source": [
    "***Mathematical function - Beyound Back Arithemetic***"
   ]
  },
  {
   "cell_type": "code",
   "execution_count": 49,
   "id": "387bfb6e",
   "metadata": {},
   "outputs": [
    {
     "name": "stdout",
     "output_type": "stream",
     "text": [
      "Original array: [ 1  4  9 16 25]\n",
      "square root: [1. 2. 3. 4. 5.]\n",
      "square: [  1  16  81 256 625]\n"
     ]
    }
   ],
   "source": [
    "# cmmon mathematical fubction \n",
    "arr= np.array([1,4,9,16,25])\n",
    "print('Original array:',arr)\n",
    "\n",
    "# square roots and powers\n",
    "print('square root:',np.sqrt(arr))\n",
    "print('square:',np.square(arr))"
   ]
  },
  {
   "cell_type": "markdown",
   "id": "bbf7da9f",
   "metadata": {},
   "source": [
    "**Aggregate Functions - Summarizing Your Data**\n",
    "\n",
    "    - Aggregate functions reduce arrays to summary statistics"
   ]
  },
  {
   "cell_type": "code",
   "execution_count": null,
   "id": "543a595b",
   "metadata": {},
   "outputs": [],
   "source": [
    "# create a 2D array for demonsration\n",
    "arr=np.arange(0,9).reshape(3,3)\n",
    "print(arr)\n",
    "\n",
    "# aggregate across entire array\n",
    "print('Sum of all elements:',np.sum(arr))\n",
    "print('mean of array:',np.mean(arr))\n",
    "print('standard dev of the array:',np.std(arr))\n",
    "print('minimum value of array:',np.min(arr))\n",
    "print('max array  value:',np.max(arr))\n",
    "\n",
    "#When you don't specify an axis, these functions operate on the flattened array, giving you a single summary value for the entire dataset.\n",
    "\n",
    "# Axis-specific aggregation - this is where numpy shines!\n",
    "print('sum along axis 0 (columns):',np.sum(arr, axis=0))\n",
    "print('sum along axis 1(rows)',np.sum(arr, axis=1))\n"
   ]
  },
  {
   "cell_type": "code",
   "execution_count": null,
   "id": "d10c185e",
   "metadata": {},
   "outputs": [],
   "source": [
    "# Visualizing broadcasting step by step\n",
    "a = np.arange(4).reshape(4, 1)                # Shape: (4, 1)\n",
    "b = np.arange(5).reshape(1, 5) \n",
    "\n",
    "print(\"Array a (4x1):\\n\", a)\n",
    "print(\"Array b (1x5):\\n\", b)\n",
    "\n",
    "#broadcasting creates a 4x5 result\n",
    "result= a + b\n",
    "print('Broadcasting result (4x5):\\n', result)\n"
   ]
  }
 ],
 "metadata": {
  "kernelspec": {
   "display_name": "Python 3",
   "language": "python",
   "name": "python3"
  },
  "language_info": {
   "codemirror_mode": {
    "name": "ipython",
    "version": 3
   },
   "file_extension": ".py",
   "mimetype": "text/x-python",
   "name": "python",
   "nbconvert_exporter": "python",
   "pygments_lexer": "ipython3",
   "version": "3.13.7"
  }
 },
 "nbformat": 4,
 "nbformat_minor": 5
}
