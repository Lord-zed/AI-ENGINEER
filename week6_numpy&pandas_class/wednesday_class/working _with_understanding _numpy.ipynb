{
 "cells": [
  {
   "cell_type": "markdown",
   "id": "011356a8",
   "metadata": {},
   "source": [
    "# Understanding Numpy "
   ]
  },
  {
   "cell_type": "code",
   "execution_count": 1,
   "id": "f34ac581",
   "metadata": {},
   "outputs": [
    {
     "name": "stdout",
     "output_type": "stream",
     "text": [
      "NumPy version: 2.3.3\n"
     ]
    }
   ],
   "source": [
    "# import all neccsarry libraries\n",
    "\n",
    "import numpy as np\n",
    "import matplotlib.pyplot as plt\n",
    "import time\n",
    "\n",
    "# Check NumPy version\n",
    "print(f\"NumPy version: {np.__version__}\")\n",
    "\n",
    "# Display settings for cleaner output\n",
    "np.set_printoptions(precision=3, suppress=True)"
   ]
  },
  {
   "cell_type": "markdown",
   "id": "1bc2658d",
   "metadata": {},
   "source": [
    "creating Numpy Arrays"
   ]
  },
  {
   "cell_type": "code",
   "execution_count": 2,
   "id": "ded6ec0a",
   "metadata": {},
   "outputs": [
    {
     "name": "stdout",
     "output_type": "stream",
     "text": [
      "[[[ 1  2  3]\n",
      "  [ 4  5  6]]\n",
      "\n",
      " [[ 7  8  9]\n",
      "  [10 11 12]]]\n"
     ]
    }
   ],
   "source": [
    "import numpy as np\n",
    "import matplotlib.pyplot as plt\n",
    "# 1D array: a simple sequence of numbers\n",
    "# arr1d=np.array([1,2,3,4,5])\n",
    "# print(arr1d)\n",
    "\n",
    "# # 2D array: Think of this as a matrix of numbers with rows and columns\n",
    "# arr2d= np.array([[1,2,3,4],[5,6,7,8]])\n",
    "# print(arr2d)\n",
    "\n",
    "# # 3D array: Think of these like a stack of 2D arrays\n",
    "arr3D= np.array([[[1,2,3],[4,5,6]],[[7,8,9],[10,11,12]]])\n",
    "print(arr3D)\n",
    "\n",
    "# # creating array with Random\n",
    "# ar1D=np.random.randn(4)\n",
    "# print(\"Array1D\\n\",ar1D)\n",
    "\n",
    "# ar2D=np.random.randn(4,4)\n",
    "# print(\"Array2D\\n\",ar2D)\n",
    "\n",
    "# ar3d=np.random.randn(2,4,4)\n",
    "# print(\"Array3D\\n\",ar3d)\n",
    "\n",
    "# creating array with range of numbers\n",
    "# array1D=np.random.randint(1,10, size=4)\n",
    "# print(\"Rand1\\n\",array1D)\n",
    "\n",
    "# array2D=np.random.randint(1,31, size=(6,6))\n",
    "# print(\"rand2\\n\",array2D)\n",
    "\n",
    "# array3D=np.random.randint(1,41, size=(2,6,6))\n",
    "# print(\"Rand3\\n\",array3D)\n",
    "\n",
    "# # working with arange\n",
    "# range_array=np.arange(0,10,2)\n",
    "# int(\"range:\\n\",range_array)\n",
    "\n",
    "# line_spacing=np.linspace(1,5,5)\n",
    "# print(\"lines\\n\",line_spacing)\n"
   ]
  }
 ],
 "metadata": {
  "kernelspec": {
   "display_name": "Python 3",
   "language": "python",
   "name": "python3"
  },
  "language_info": {
   "codemirror_mode": {
    "name": "ipython",
    "version": 3
   },
   "file_extension": ".py",
   "mimetype": "text/x-python",
   "name": "python",
   "nbconvert_exporter": "python",
   "pygments_lexer": "ipython3",
   "version": "3.13.6"
  }
 },
 "nbformat": 4,
 "nbformat_minor": 5
}
