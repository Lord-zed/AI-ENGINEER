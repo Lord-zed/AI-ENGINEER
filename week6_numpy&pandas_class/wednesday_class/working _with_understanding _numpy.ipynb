{
 "cells": [
  {
   "cell_type": "markdown",
   "id": "011356a8",
   "metadata": {},
   "source": [
    "# Understanding Numpy "
   ]
  },
  {
   "cell_type": "code",
   "execution_count": 1,
   "id": "f34ac581",
   "metadata": {},
   "outputs": [
    {
     "name": "stdout",
     "output_type": "stream",
     "text": [
      "NumPy version: 2.3.3\n"
     ]
    }
   ],
   "source": [
    "# import all neccsarry libraries\n",
    "\n",
    "import numpy as np\n",
    "import matplotlib.pyplot as plt\n",
    "import time\n",
    "\n",
    "# Check NumPy version\n",
    "print(f\"NumPy version: {np.__version__}\")\n",
    "\n",
    "# Display settings for cleaner output\n",
    "np.set_printoptions(precision=3, suppress=True)"
   ]
  },
  {
   "cell_type": "markdown",
   "id": "1bc2658d",
   "metadata": {},
   "source": [
    "creating Numpy Arrays"
   ]
  },
  {
   "cell_type": "code",
   "execution_count": 14,
   "id": "ded6ec0a",
   "metadata": {},
   "outputs": [
    {
     "name": "stdout",
     "output_type": "stream",
     "text": [
      "Rand1\n",
      " [5 9 1 3]\n",
      "rand2\n",
      " [[ 3 17  5  3 16 22]\n",
      " [19 16 28  2 24 23]\n",
      " [ 4 10 18 23 16 12]\n",
      " [23 24  5  2 21 23]\n",
      " [ 1  8  9  4 19 25]\n",
      " [13 10  8 27 17 10]]\n",
      "Rand3\n",
      " [[[11  1 33 34 33 12]\n",
      "  [38  8  1 28 37 34]\n",
      "  [32 19 33 23 27 19]\n",
      "  [ 8  5 17 16  8 11]\n",
      "  [25 34 39  9  6 22]\n",
      "  [27 31 39  5 18 18]]\n",
      "\n",
      " [[28 30 35 11  8 17]\n",
      "  [28 21 26 11  2 28]\n",
      "  [26  4  8 17 17 22]\n",
      "  [35 28  3  6  6 22]\n",
      "  [28 12 29 22  1 10]\n",
      "  [ 1 17 30 28  3 35]]]\n",
      "range:\n",
      " [0 2 4 6 8]\n",
      "lines\n",
      " [1. 2. 3. 4. 5.]\n"
     ]
    }
   ],
   "source": [
    "import numpy as np\n",
    "import matplotlib.pyplot as plt\n",
    "# 1D array: a simple sequence of numbers\n",
    "# arr1d=np.array([1,2,3,4,5])\n",
    "# print(arr1d)\n",
    "\n",
    "# # 2D array: Think of this as a matrix of numbers with rows and columns\n",
    "# arr2d= np.array([[1,2,3,4],[5,6,7,8]])\n",
    "# print(arr2d)\n",
    "\n",
    "# # 3D array: Think of these like a stack of 2D arrays\n",
    "# arr3D= np.array([[[1,2,3],[4,5,6]],[[7,8,9],[10,11,12]]])\n",
    "# print(arr3D)\n",
    "\n",
    "# # creating array with Random\n",
    "# ar1D=np.random.randn(4)\n",
    "# print(\"Array1D\\n\",ar1D)\n",
    "\n",
    "# ar2D=np.random.randn(4,4)\n",
    "# print(\"Array2D\\n\",ar2D)\n",
    "\n",
    "# ar3d=np.random.randn(2,4,4)\n",
    "# print(\"Array3D\\n\",ar3d)\n",
    "\n",
    "# creating array with range of numbers\n",
    "array1D=np.random.randint(1,10, size=4)\n",
    "print(\"Rand1\\n\",array1D)\n",
    "\n",
    "array2D=np.random.randint(1,31, size=(6,6))\n",
    "print(\"rand2\\n\",array2D)\n",
    "\n",
    "array3D=np.random.randint(1,41, size=(2,6,6))\n",
    "print(\"Rand3\\n\",array3D)\n",
    "\n",
    "# working with arange\n",
    "range_array=np.arange(0,10,2)\n",
    "print(\"range:\\n\",range_array)\n",
    "\n",
    "line_spacing=np.linspace(1,5,5)\n",
    "print(\"lines\\n\",line_spacing)\n"
   ]
  }
 ],
 "metadata": {
  "kernelspec": {
   "display_name": "Python 3",
   "language": "python",
   "name": "python3"
  },
  "language_info": {
   "codemirror_mode": {
    "name": "ipython",
    "version": 3
   },
   "file_extension": ".py",
   "mimetype": "text/x-python",
   "name": "python",
   "nbconvert_exporter": "python",
   "pygments_lexer": "ipython3",
   "version": "3.13.6"
  }
 },
 "nbformat": 4,
 "nbformat_minor": 5
}
