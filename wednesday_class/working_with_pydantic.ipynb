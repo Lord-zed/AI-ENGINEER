{
 "cells": [
  {
   "cell_type": "markdown",
   "id": "63ba69cd",
   "metadata": {},
   "source": [
    "### **Python typing**"
   ]
  },
  {
   "cell_type": "code",
   "execution_count": 3,
   "id": "7b42ef8f",
   "metadata": {},
   "outputs": [],
   "source": [
    "# example\n",
    "def get_fellow_names(fellow: list[str]) -> list[str]:\n",
    "    return fellow"
   ]
  },
  {
   "cell_type": "code",
   "execution_count": 5,
   "id": "3f5bb603",
   "metadata": {},
   "outputs": [
    {
     "name": "stdout",
     "output_type": "stream",
     "text": [
      "Bayo's average score is 20.0\n"
     ]
    },
    {
     "data": {
      "text/plain": [
       "20.0"
      ]
     },
     "execution_count": 5,
     "metadata": {},
     "output_type": "execute_result"
    }
   ],
   "source": [
    "def get_average(name:str,scores:list[float]) -> float:\n",
    "    average_score=sum(scores)/len(scores)\n",
    "    print(f\"{name}'s average score is {average_score}\")\n",
    "    return average_score\n",
    "\n",
    "get_average('Bayo',[10,15,20,25,30])"
   ]
  },
  {
   "cell_type": "code",
   "execution_count": 6,
   "id": "e6d13f58",
   "metadata": {},
   "outputs": [
    {
     "name": "stdout",
     "output_type": "stream",
     "text": [
      "Hello,Tola\n"
     ]
    }
   ],
   "source": [
    "def greet(name:str) -> None:\n",
    "    print(f'Hello,{name}')\n",
    "\n",
    "greet('Tola')"
   ]
  },
  {
   "cell_type": "code",
   "execution_count": 9,
   "id": "494387c9",
   "metadata": {},
   "outputs": [
    {
     "data": {
      "text/plain": [
       "7"
      ]
     },
     "execution_count": 9,
     "metadata": {},
     "output_type": "execute_result"
    }
   ],
   "source": [
    "def add(a: int, b:int) -> int:\n",
    "    return a - b\n",
    "\n",
    "add(14,7)\n"
   ]
  },
  {
   "cell_type": "markdown",
   "id": "066171f3",
   "metadata": {},
   "source": [
    "**Typing module**"
   ]
  },
  {
   "cell_type": "markdown",
   "id": "7af343c5",
   "metadata": {},
   "source": [
    "***How to use typing***"
   ]
  },
  {
   "cell_type": "code",
   "execution_count": null,
   "id": "7002ef2e",
   "metadata": {},
   "outputs": [
    {
     "name": "stdout",
     "output_type": "stream",
     "text": [
      "scores: [50, 60, 70, 80, 90] \n",
      " number of scores entry: 5\n",
      "Average scores is : 70.0\n",
      "info: Zacheaus\n",
      "comment: Bode is George\n"
     ]
    }
   ],
   "source": [
    "from typing import List,Dict, Union, Optional\n",
    "\n",
    "# lets try out an example\n",
    "def process_scores(scores: list[int],\n",
    "                   info:dict[str,Union[int,float]],\n",
    "                   comment:Optional[str]=None) -> None:\n",
    "                    Ascores= sum(scores)/ len(scores)\n",
    "                    print('scores:',scores,'\\n number of scores entry:',len(scores))\n",
    "                    print('Average scores is :',Ascores)\n",
    "                    print('info:',info)\n",
    "                    if comment:\n",
    "                            print('comment:',comment)\n",
    "\n",
    "\n",
    "process_scores([50,60,70,80,90], {'Zacheaus':100},'Bode is George')"
   ]
  },
  {
   "cell_type": "code",
   "execution_count": null,
   "id": "6db1cb52",
   "metadata": {},
   "outputs": [
    {
     "name": "stdout",
     "output_type": "stream",
     "text": [
      "scores entered:[90, 80, 90, 100] \n",
      " your username is:Zacheaus138\n",
      " the combination of your name and score is:1000\n",
      " Feedback:i can be all i wanna be \n"
     ]
    }
   ],
   "source": [
    "from typing import List,Dict,Union,Optional\n",
    "def my_prac(\n",
    "        scores:List[int],\n",
    "        username:Union[str, int],\n",
    "        pair:dict[str,str],\n",
    "        info:Optional[str]=None) ->None:\n",
    "    print(f'scores entered:{scores} \\n your username is:{username}\\n the combination of your name and score is:{pair}\\n Feedback:{info} ')\n",
    "    \n",
    "\n",
    "my_prac([90,80, 90 ,100],'Zacheaus138',1000,'i can be all i wanna be')\n",
    "\n",
    "\n"
   ]
  },
  {
   "cell_type": "markdown",
   "id": "4861a414",
   "metadata": {},
   "source": [
    "**Union**"
   ]
  },
  {
   "cell_type": "code",
   "execution_count": 18,
   "id": "68db6ad9",
   "metadata": {},
   "outputs": [
    {
     "data": {
      "text/plain": [
       "'fellow ID:43'"
      ]
     },
     "execution_count": 18,
     "metadata": {},
     "output_type": "execute_result"
    }
   ],
   "source": [
    "from typing import Union\n",
    "def get_fellow_id(id:Union[int, str]) -> str:\n",
    "    return f'fellow ID:{id}'\n",
    "\n",
    "get_fellow_id(43)"
   ]
  },
  {
   "cell_type": "code",
   "execution_count": 19,
   "id": "cae57eb3",
   "metadata": {},
   "outputs": [],
   "source": [
    "# instead of union you can use pipe '|' - hold shift + backlash to get it\n",
    "\n",
    "def get_fellow_id(id: int | str) -> str:\n",
    "    return f'fellow ID: {id}'\n",
    "\n",
    "# same as \n",
    "\n",
    "def get_fellow_id(id: Union[int, str]) -> str:\n",
    "    return f\"fellow ID: {id}\""
   ]
  },
  {
   "cell_type": "code",
   "execution_count": 34,
   "id": "84de06f3",
   "metadata": {},
   "outputs": [
    {
     "name": "stdout",
     "output_type": "stream",
     "text": [
      "23 Ajelogo Street\n",
      "23B Ajelogo Street\n"
     ]
    }
   ],
   "source": [
    "from typing import Union \n",
    "\n",
    "def format_address(house_number:Union[int,str],street:str) -> str:\n",
    "    return f'{house_number} {street}'\n",
    "\n",
    "\n",
    "print(format_address(23, \"Ajelogo Street\"))   # 23 Ajelogo Street\n",
    "print(format_address(\"23B\", \"Ajelogo Street\")) # 23B Ajelogo Street"
   ]
  },
  {
   "cell_type": "markdown",
   "id": "259075a5",
   "metadata": {},
   "source": [
    "**Optional**"
   ]
  },
  {
   "cell_type": "code",
   "execution_count": 37,
   "id": "8dade179",
   "metadata": {},
   "outputs": [
    {
     "name": "stdout",
     "output_type": "stream",
     "text": [
      "Hello Toyeebat 1000\n",
      "Hello Toyeebat\n"
     ]
    }
   ],
   "source": [
    "from typing  import Optional\n",
    "\n",
    "def greet(first_name: str, last_name:Optional[str] = None)-> None:\n",
    "    if last_name:\n",
    "        print(f\"Hello {first_name} {last_name}\")\n",
    "    else:\n",
    "        print(f\"Hello {first_name}\")\n",
    "\n",
    "greet(\"Toyeebat\", 1000)   \n",
    "greet(\"Toyeebat\")  "
   ]
  },
  {
   "cell_type": "code",
   "execution_count": null,
   "id": "801eb6ba",
   "metadata": {},
   "outputs": [
    {
     "data": {
      "text/plain": [
       "{'username': 'admin', 'role': 'superuser'}"
      ]
     },
     "execution_count": 39,
     "metadata": {},
     "output_type": "execute_result"
    }
   ],
   "source": [
    "def find_user(username: str) -> Optional[dict]:\n",
    "    if username == \"admin\":\n",
    "        return {\"username\": \"admin\", \"role\": \"superuser\"}\n",
    "    return None\n",
    "\n",
    "find_user(\"admin\")                                                              "
   ]
  },
  {
   "cell_type": "markdown",
   "id": "b8546de3",
   "metadata": {},
   "source": [
    "**typed collections**"
   ]
  },
  {
   "cell_type": "markdown",
   "id": "51c84e8d",
   "metadata": {},
   "source": [
    "Dict -typed dictionary"
   ]
  },
  {
   "cell_type": "code",
   "execution_count": null,
   "id": "82ca0236",
   "metadata": {},
   "outputs": [],
   "source": [
    "from typing import Dict\n",
    "\n",
    "fellow_scores: Dict[str, int] = {\n",
    "    \"David\": 89,\n",
    "    \"Micheal\": 98\n",
    "}"
   ]
  },
  {
   "cell_type": "markdown",
   "id": "79311085",
   "metadata": {},
   "source": [
    "**`Tuple` Typed Tuples**"
   ]
  },
  {
   "cell_type": "code",
   "execution_count": 40,
   "id": "eb419527",
   "metadata": {},
   "outputs": [],
   "source": [
    "from typing import Tuple\n",
    "\n",
    "fellow: Tuple[str, int, str] = (\"Perpetual\",88,\"AI Engineering\")"
   ]
  },
  {
   "cell_type": "code",
   "execution_count": 42,
   "id": "bac9e143",
   "metadata": {},
   "outputs": [
    {
     "data": {
      "text/plain": [
       "'Zacheaus scored 99 in the last exam.'"
      ]
     },
     "execution_count": 42,
     "metadata": {},
     "output_type": "execute_result"
    }
   ],
   "source": [
    "def ai_fellow(fellow: Tuple[str, int]) -> str:\n",
    "    name, score = fellow\n",
    "    return f\"{name} scored {score} in the last exam.\"\n",
    "\n",
    "ai_fellow((\"Zacheaus\",99))"
   ]
  },
  {
   "cell_type": "markdown",
   "id": "6bbb5eaa",
   "metadata": {},
   "source": [
    "**Pydantic**"
   ]
  },
  {
   "cell_type": "code",
   "execution_count": 2,
   "id": "579c45b8",
   "metadata": {},
   "outputs": [],
   "source": [
    "# importing pydantic\n",
    "from pydantic import BaseModel"
   ]
  },
  {
   "cell_type": "markdown",
   "id": "fb8a2f80",
   "metadata": {},
   "source": [
    "BaseModel"
   ]
  },
  {
   "cell_type": "code",
   "execution_count": 3,
   "id": "d3bea734",
   "metadata": {},
   "outputs": [
    {
     "data": {
      "text/plain": [
       "light(username='LORDZED', password=100)"
      ]
     },
     "execution_count": 3,
     "metadata": {},
     "output_type": "execute_result"
    }
   ],
   "source": [
    "# Lets create a pydantic data model\n",
    "\n",
    "class Fellow(BaseModel):\n",
    "    name: str\n",
    "    score: int\n",
    "    track: str\n",
    "\n",
    "\n",
    "class light(BaseModel):\n",
    "    username: str\n",
    "    password: int\n",
    "\n",
    "light(username='LORDZED',password=100)\n"
   ]
  },
  {
   "cell_type": "code",
   "execution_count": 46,
   "id": "6b6497b9",
   "metadata": {},
   "outputs": [
    {
     "data": {
      "text/plain": [
       "Fellow(name='Perpetual', score=88, track='AI Engineering')"
      ]
     },
     "execution_count": 46,
     "metadata": {},
     "output_type": "execute_result"
    }
   ],
   "source": [
    "# 1. Validation - It automatically validates data passed to it\n",
    "\n",
    "Fellow(name=\"Perpetual\", score=88, track=\"AI Engineering\") # This will work fine"
   ]
  },
  {
   "cell_type": "code",
   "execution_count": null,
   "id": "b9cfd42b",
   "metadata": {},
   "outputs": [],
   "source": [
    "Fellow(name= \"Zach\", score = \"eighty-seven\", track=\"AI Engineering\") # This will raise error"
   ]
  },
  {
   "cell_type": "code",
   "execution_count": null,
   "id": "dac3fc1a",
   "metadata": {},
   "outputs": [],
   "source": [
    "#2. parsing and type conversion - It automatically converts compatible types \n",
    "# It reads and interpret data\n",
    "\n",
    "p = Fellow(name = \"Perpetual\", score = \"88\", track = \"AI Engineering\")\n",
    "print(type(p.score))"
   ]
  },
  {
   "cell_type": "code",
   "execution_count": 4,
   "id": "94722d24",
   "metadata": {},
   "outputs": [
    {
     "name": "stdout",
     "output_type": "stream",
     "text": [
      "name='Blessing' score=100 track='AI Engineering '\n",
      "<class 'int'>\n"
     ]
    }
   ],
   "source": [
    "# an incoming data\n",
    "data={\"name\":\"Blessing\", \"score\": \"100\", \"track\":\"AI Engineering \"}\n",
    "\n",
    "# pydantic will parse it like this\n",
    "fellow=Fellow(**data)\n",
    "print(fellow)\n",
    "print(type(fellow.score))"
   ]
  },
  {
   "cell_type": "code",
   "execution_count": 12,
   "id": "0c9f21cf",
   "metadata": {},
   "outputs": [
    {
     "name": "stdout",
     "output_type": "stream",
     "text": [
      "{\"name\":\"Perpetual\",\"score\":88,\"track\":\"AI Engineering\",\"address\":{\"street\":\"Ajelogo Street\",\"city\":\"Ketu\",\"state\":\"Lagos\",\"country\":\"Nigeria\"}}\n"
     ]
    },
    {
     "name": "stderr",
     "output_type": "stream",
     "text": [
      "C:\\Users\\ONLY UHRS\\AppData\\Local\\Temp\\ipykernel_12892\\3285920232.py:3: PydanticDeprecatedSince20: The `json` method is deprecated; use `model_dump_json` instead. Deprecated in Pydantic V2.0 to be removed in V3.0. See Pydantic V2 Migration Guide at https://errors.pydantic.dev/2.12/migration/\n",
      "  print(fellow.json())\n"
     ]
    }
   ],
   "source": [
    "# 3. Serialization - It automatically converts data to JSON or dictionary(converts to a format that can be stored or sent)\n",
    "# Its more like packaging a data for output\n",
    "print(fellow.json())\n"
   ]
  },
  {
   "cell_type": "code",
   "execution_count": 6,
   "id": "7158998e",
   "metadata": {},
   "outputs": [],
   "source": [
    "# 4. Nesting  - Models can be nested to create complex data structures\n",
    "\n",
    "class Address(BaseModel):\n",
    "    street: str\n",
    "    city: str\n",
    "    state: str\n",
    "    country: str\n",
    "\n",
    "class Fellow(BaseModel):\n",
    "    name: str\n",
    "    score: int\n",
    "    track: str\n",
    "    address: Address\n",
    "    \n",
    "# Pydantic will validate this automatically"
   ]
  },
  {
   "cell_type": "code",
   "execution_count": 8,
   "id": "50c2106c",
   "metadata": {},
   "outputs": [
    {
     "name": "stdout",
     "output_type": "stream",
     "text": [
      "name='Perpetual' score=88 track='AI Engineering' address=Address(street='Ajelogo Street', city='Ketu', state='Lagos', country='Nigeria')\n",
      "<class 'int'>\n"
     ]
    }
   ],
   "source": [
    "# lets pass this data\n",
    "data = {\n",
    "    \"name\": \"Perpetual\",\n",
    "    \"score\": 88,\n",
    "    \"track\": \"AI Engineering\",\n",
    "    \n",
    "    \"address\": {\n",
    "        \"street\": \"Ajelogo Street\",\n",
    "        \"city\": \"Ketu\",\n",
    "        \"state\": \"Lagos\",\n",
    "        \"country\": \"Nigeria\"\n",
    "    }\n",
    "}\n",
    "\n",
    "\n",
    "fellow=Fellow(**data)\n",
    "\n",
    "print(fellow)\n",
    "print(type(fellow.score))"
   ]
  },
  {
   "cell_type": "code",
   "execution_count": null,
   "id": "c7a398f6",
   "metadata": {},
   "outputs": [],
   "source": [
    "# you can easily access inner fields if you need to\n",
    "\n",
    "print(fellow.address.street)"
   ]
  },
  {
   "cell_type": "code",
   "execution_count": null,
   "id": "4775439d",
   "metadata": {},
   "outputs": [],
   "source": [
    "from typing import List\n",
    "\n",
    "print(fellow.dict())"
   ]
  },
  {
   "cell_type": "code",
   "execution_count": 11,
   "id": "289cf69f",
   "metadata": {},
   "outputs": [
    {
     "name": "stdout",
     "output_type": "stream",
     "text": [
      "{\"name\":\"Perpetual\",\"score\":88,\"track\":\"AI Engineering\",\"address\":{\"street\":\"Ajelogo Street\",\"city\":\"Ketu\",\"state\":\"Lagos\",\"country\":\"Nigeria\"}}\n"
     ]
    },
    {
     "name": "stderr",
     "output_type": "stream",
     "text": [
      "C:\\Users\\ONLY UHRS\\AppData\\Local\\Temp\\ipykernel_12892\\1809417232.py:1: PydanticDeprecatedSince20: The `json` method is deprecated; use `model_dump_json` instead. Deprecated in Pydantic V2.0 to be removed in V3.0. See Pydantic V2 Migration Guide at https://errors.pydantic.dev/2.12/migration/\n",
      "  print(fellow.json())\n"
     ]
    }
   ],
   "source": [
    "print(fellow.json())"
   ]
  },
  {
   "cell_type": "markdown",
   "id": "df1c2306",
   "metadata": {},
   "source": [
    "**A list of Nested Models**"
   ]
  },
  {
   "cell_type": "code",
   "execution_count": 32,
   "id": "01199620",
   "metadata": {},
   "outputs": [],
   "source": [
    "# So we can have something like this...for a list of address\n",
    "from typing import List\n",
    "from pydantic import BaseModel\n",
    "\n",
    "class Fellow(BaseModel):\n",
    "    name: str\n",
    "    score: int\n",
    "    track: str\n",
    "    addresses: List[Address]"
   ]
  },
  {
   "cell_type": "code",
   "execution_count": null,
   "id": "09aa624d",
   "metadata": {},
   "outputs": [
    {
     "name": "stdout",
     "output_type": "stream",
     "text": [
      "name='Perpetual' score=88 track='AI Engineering' addresses=[Address(street='Idoroko Road', city='Sango', state='Ogun', country='Nigeria'), Address(street='Kobape', city='Abeokuta', state='Ogun', country='Nigeria')]\n"
     ]
    }
   ],
   "source": [
    "data = {\n",
    "    \"name\": \"Perpetual\",\n",
    "    \"score\": 88,\n",
    "    \"track\": \"AI Engineering\",\n",
    "    \"addresses\": [\n",
    "        {\"street\": \"Idoroko Road\", \"city\": \"Sango\", \"state\": \"Ogun\",\n",
    "        \"country\": \"Nigeria\"},\n",
    "        {\"street\": \"Kobape\", \"city\": \"Abeokuta\", \"state\": \"Ogun\",\n",
    "        \"country\": \"Nigeria\"}\n",
    "    ]\n",
    "}\n",
    "\n",
    "fellow = Fellow(**data)\n",
    "print(fellow)\n"
   ]
  },
  {
   "cell_type": "code",
   "execution_count": 36,
   "id": "0e92bc38",
   "metadata": {},
   "outputs": [],
   "source": [
    "# So we can have something like this...for a list of address\n",
    "from typing import List\n",
    "from pydantic import BaseModel\n",
    "\n",
    "class Filler(BaseModel):\n",
    "    name: str\n",
    "    score: int\n",
    "    track: str\n",
    "    addresses: List[Address]\n",
    "\n",
    "\n"
   ]
  },
  {
   "cell_type": "code",
   "execution_count": 40,
   "id": "31982b61",
   "metadata": {},
   "outputs": [],
   "source": [
    "data = {\n",
    "    \"name\": \"Zacheaus\",\n",
    "    \"score\": 88,\n",
    "    \"track\": \"AI Engineering\",\n",
    "    \"addresses\": [\n",
    "        {\"street\": \"Idoroko Road\", \"city\": \"Sango\", \"state\": \"Ogun\",\n",
    "        \"country\": \"Nigeria\"},\n",
    "        {\"street\": \"Kobape\", \"city\": \"Abeokuta\", \"state\": \"Ogun\",\n",
    "        \"country\": \"Nigeria\"}\n",
    "    ]\n",
    "}"
   ]
  },
  {
   "cell_type": "code",
   "execution_count": 41,
   "id": "caad7ff8",
   "metadata": {},
   "outputs": [
    {
     "name": "stdout",
     "output_type": "stream",
     "text": [
      "name='Zacheaus' score=88 track='AI Engineering' addresses=[Address(street='Idoroko Road', city='Sango', state='Ogun', country='Nigeria'), Address(street='Kobape', city='Abeokuta', state='Ogun', country='Nigeria')]\n"
     ]
    }
   ],
   "source": [
    "fill=Filler(**data)\n",
    "print(fill)"
   ]
  },
  {
   "cell_type": "code",
   "execution_count": 45,
   "id": "7c52c87d",
   "metadata": {},
   "outputs": [
    {
     "name": "stdout",
     "output_type": "stream",
     "text": [
      "Sango\n",
      "<class 'str'>\n"
     ]
    }
   ],
   "source": [
    "# Accessing the nested Items\n",
    "print(fill.addresses[0].city)\n",
    "print(type(fill.name))"
   ]
  },
  {
   "cell_type": "code",
   "execution_count": 49,
   "id": "71382623",
   "metadata": {},
   "outputs": [
    {
     "name": "stdout",
     "output_type": "stream",
     "text": [
      "<bound method BaseModel.json of Filler(name='Zacheaus', score=88, track='AI Engineering', addresses=[Address(street='Idoroko Road', city='Sango', state='Ogun', country='Nigeria'), Address(street='Kobape', city='Abeokuta', state='Ogun', country='Nigeria')])>\n",
      "{\"name\":\"Zacheaus\",\"score\":88,\"track\":\"AI Engineering\",\"addresses\":[{\"street\":\"Idoroko Road\",\"city\":\"Sango\",\"state\":\"Ogun\",\"country\":\"Nigeria\"},{\"street\":\"Kobape\",\"city\":\"Abeokuta\",\"state\":\"Ogun\",\"country\":\"Nigeria\"}]}\n",
      "\n",
      "\n",
      "<bound method BaseModel.dict of Filler(name='Zacheaus', score=88, track='AI Engineering', addresses=[Address(street='Idoroko Road', city='Sango', state='Ogun', country='Nigeria'), Address(street='Kobape', city='Abeokuta', state='Ogun', country='Nigeria')])>\n",
      "{'name': 'Zacheaus', 'score': 88, 'track': 'AI Engineering', 'addresses': [{'street': 'Idoroko Road', 'city': 'Sango', 'state': 'Ogun', 'country': 'Nigeria'}, {'street': 'Kobape', 'city': 'Abeokuta', 'state': 'Ogun', 'country': 'Nigeria'}]}\n"
     ]
    }
   ],
   "source": [
    "# we can serialize it if we want\n",
    "print(fill.json)\n",
    "print(fill.model_dump_json())\n",
    "print(\"\\n\")\n",
    "print(fill.dict)\n",
    "print(fill.model_dump())"
   ]
  },
  {
   "cell_type": "markdown",
   "id": "bfd2400f",
   "metadata": {},
   "source": [
    "**Understanding Validation**"
   ]
  },
  {
   "cell_type": "code",
   "execution_count": 52,
   "id": "ecb9f89e",
   "metadata": {},
   "outputs": [
    {
     "name": "stdout",
     "output_type": "stream",
     "text": [
      "name='Micheal' score=-79 addresses=[Address(street='123 Marose St', city='Ikorodu'), Address(street='4 Babatunde Ave', city='Abioloa Way')]\n"
     ]
    }
   ],
   "source": [
    "from typing import List\n",
    "from pydantic import BaseModel\n",
    "\n",
    "class Address(BaseModel):\n",
    "    street:str\n",
    "    city:str\n",
    "\n",
    "class Fellow(BaseModel):\n",
    "     name: str\n",
    "     score: int\n",
    "     addresses: List[Address]\n",
    "\n",
    "data={\n",
    "     \"name\":\"Micheal\",\n",
    "     \"score\":-79,\n",
    "     \"addresses\":[\n",
    "          {\"street\": \"123 Marose St\", \"city\": \"Ikorodu\"},\n",
    "          {\"street\": \"4 Babatunde Ave\", \"city\": \"Abioloa Way\"}\n",
    "          \n",
    "     ]\n",
    "}\n",
    "\n",
    "fellow=Fellow(**data)\n",
    "print(fellow)\n"
   ]
  },
  {
   "cell_type": "code",
   "execution_count": 53,
   "id": "6006e1a3",
   "metadata": {},
   "outputs": [],
   "source": [
    "from typing import List\n",
    "from pydantic import BaseModel,Field\n",
    "\n",
    "class Address(BaseModel):\n",
    "    street:str\n",
    "    city:str\n",
    "\n",
    "class Fellow(BaseModel):\n",
    "     name: str\n",
    "     score: int =Field(..., ge=0, le=100) # using the field\n",
    "     addresses: List[Address]"
   ]
  },
  {
   "cell_type": "code",
   "execution_count": 54,
   "id": "70b7f7c1",
   "metadata": {},
   "outputs": [
    {
     "ename": "ValidationError",
     "evalue": "1 validation error for Fellow\nscore\n  Input should be greater than or equal to 0 [type=greater_than_equal, input_value=-49, input_type=int]\n    For further information visit https://errors.pydantic.dev/2.12/v/greater_than_equal",
     "output_type": "error",
     "traceback": [
      "\u001b[31m---------------------------------------------------------------------------\u001b[39m",
      "\u001b[31mValidationError\u001b[39m                           Traceback (most recent call last)",
      "\u001b[36mCell\u001b[39m\u001b[36m \u001b[39m\u001b[32mIn[54]\u001b[39m\u001b[32m, line 1\u001b[39m\n\u001b[32m----> \u001b[39m\u001b[32m1\u001b[39m \u001b[43mFellow\u001b[49m\u001b[43m(\u001b[49m\u001b[43mname\u001b[49m\u001b[43m=\u001b[49m\u001b[33;43m'\u001b[39;49m\u001b[33;43mHassan\u001b[39;49m\u001b[33;43m'\u001b[39;49m\u001b[43m,\u001b[49m\u001b[43mscore\u001b[49m\u001b[43m=\u001b[49m\u001b[43m-\u001b[49m\u001b[32;43m49\u001b[39;49m\u001b[43m,\u001b[49m\u001b[43maddresses\u001b[49m\u001b[43m=\u001b[49m\u001b[43m[\u001b[49m\u001b[43m]\u001b[49m\u001b[43m)\u001b[49m\n",
      "\u001b[36mFile \u001b[39m\u001b[32mc:\\Users\\ONLY UHRS\\AppData\\Local\\Programs\\Python\\Python313\\Lib\\site-packages\\pydantic\\main.py:250\u001b[39m, in \u001b[36mBaseModel.__init__\u001b[39m\u001b[34m(self, **data)\u001b[39m\n\u001b[32m    248\u001b[39m \u001b[38;5;66;03m# `__tracebackhide__` tells pytest and some other tools to omit this function from tracebacks\u001b[39;00m\n\u001b[32m    249\u001b[39m __tracebackhide__ = \u001b[38;5;28;01mTrue\u001b[39;00m\n\u001b[32m--> \u001b[39m\u001b[32m250\u001b[39m validated_self = \u001b[38;5;28;43mself\u001b[39;49m\u001b[43m.\u001b[49m\u001b[43m__pydantic_validator__\u001b[49m\u001b[43m.\u001b[49m\u001b[43mvalidate_python\u001b[49m\u001b[43m(\u001b[49m\u001b[43mdata\u001b[49m\u001b[43m,\u001b[49m\u001b[43m \u001b[49m\u001b[43mself_instance\u001b[49m\u001b[43m=\u001b[49m\u001b[38;5;28;43mself\u001b[39;49m\u001b[43m)\u001b[49m\n\u001b[32m    251\u001b[39m \u001b[38;5;28;01mif\u001b[39;00m \u001b[38;5;28mself\u001b[39m \u001b[38;5;129;01mis\u001b[39;00m \u001b[38;5;129;01mnot\u001b[39;00m validated_self:\n\u001b[32m    252\u001b[39m     warnings.warn(\n\u001b[32m    253\u001b[39m         \u001b[33m'\u001b[39m\u001b[33mA custom validator is returning a value other than `self`.\u001b[39m\u001b[38;5;130;01m\\n\u001b[39;00m\u001b[33m'\u001b[39m\n\u001b[32m    254\u001b[39m         \u001b[33m\"\u001b[39m\u001b[33mReturning anything other than `self` from a top level model validator isn\u001b[39m\u001b[33m'\u001b[39m\u001b[33mt supported when validating via `__init__`.\u001b[39m\u001b[38;5;130;01m\\n\u001b[39;00m\u001b[33m\"\u001b[39m\n\u001b[32m    255\u001b[39m         \u001b[33m'\u001b[39m\u001b[33mSee the `model_validator` docs (https://docs.pydantic.dev/latest/concepts/validators/#model-validators) for more details.\u001b[39m\u001b[33m'\u001b[39m,\n\u001b[32m    256\u001b[39m         stacklevel=\u001b[32m2\u001b[39m,\n\u001b[32m    257\u001b[39m     )\n",
      "\u001b[31mValidationError\u001b[39m: 1 validation error for Fellow\nscore\n  Input should be greater than or equal to 0 [type=greater_than_equal, input_value=-49, input_type=int]\n    For further information visit https://errors.pydantic.dev/2.12/v/greater_than_equal"
     ]
    }
   ],
   "source": [
    "Fellow(name='Hassan',score=-49,addresses=[])"
   ]
  },
  {
   "cell_type": "code",
   "execution_count": 55,
   "id": "7b189ee2",
   "metadata": {},
   "outputs": [
    {
     "data": {
      "text/plain": [
       "Fellow(name='Hassan', score=80, addresses=[])"
      ]
     },
     "execution_count": 55,
     "metadata": {},
     "output_type": "execute_result"
    }
   ],
   "source": [
    "Fellow(name=\"Hassan\", score= 80, addresses=[])"
   ]
  },
  {
   "cell_type": "markdown",
   "id": "3062b092",
   "metadata": {},
   "source": [
    "**Custom Validation**"
   ]
  },
  {
   "cell_type": "code",
   "execution_count": 56,
   "id": "02557af3",
   "metadata": {},
   "outputs": [],
   "source": [
    "from pydantic import BaseModel, Field, field_validator\n",
    "\n",
    "class Person(BaseModel):\n",
    "    name: str\n",
    "    age: int = Field(..., ge=0)\n",
    "\n",
    "    @field_validator('name')\n",
    "    def name_must_start_with_capital(cls,v):\n",
    "        if not v[0].isupper():\n",
    "            raise ValueError('Name must start with a capital letter')\n",
    "        return v\n",
    "\n"
   ]
  },
  {
   "cell_type": "code",
   "execution_count": 57,
   "id": "a65d61cd",
   "metadata": {},
   "outputs": [
    {
     "ename": "ValidationError",
     "evalue": "1 validation error for Person\nname\n  Value error, Name must start with a capital letter [type=value_error, input_value='solomon', input_type=str]\n    For further information visit https://errors.pydantic.dev/2.12/v/value_error",
     "output_type": "error",
     "traceback": [
      "\u001b[31m---------------------------------------------------------------------------\u001b[39m",
      "\u001b[31mValidationError\u001b[39m                           Traceback (most recent call last)",
      "\u001b[36mCell\u001b[39m\u001b[36m \u001b[39m\u001b[32mIn[57]\u001b[39m\u001b[32m, line 1\u001b[39m\n\u001b[32m----> \u001b[39m\u001b[32m1\u001b[39m \u001b[43mPerson\u001b[49m\u001b[43m(\u001b[49m\u001b[43mname\u001b[49m\u001b[43m=\u001b[49m\u001b[33;43m\"\u001b[39;49m\u001b[33;43msolomon\u001b[39;49m\u001b[33;43m\"\u001b[39;49m\u001b[43m,\u001b[49m\u001b[43mage\u001b[49m\u001b[43m=\u001b[49m\u001b[32;43m25\u001b[39;49m\u001b[43m)\u001b[49m\n",
      "\u001b[36mFile \u001b[39m\u001b[32mc:\\Users\\ONLY UHRS\\AppData\\Local\\Programs\\Python\\Python313\\Lib\\site-packages\\pydantic\\main.py:250\u001b[39m, in \u001b[36mBaseModel.__init__\u001b[39m\u001b[34m(self, **data)\u001b[39m\n\u001b[32m    248\u001b[39m \u001b[38;5;66;03m# `__tracebackhide__` tells pytest and some other tools to omit this function from tracebacks\u001b[39;00m\n\u001b[32m    249\u001b[39m __tracebackhide__ = \u001b[38;5;28;01mTrue\u001b[39;00m\n\u001b[32m--> \u001b[39m\u001b[32m250\u001b[39m validated_self = \u001b[38;5;28;43mself\u001b[39;49m\u001b[43m.\u001b[49m\u001b[43m__pydantic_validator__\u001b[49m\u001b[43m.\u001b[49m\u001b[43mvalidate_python\u001b[49m\u001b[43m(\u001b[49m\u001b[43mdata\u001b[49m\u001b[43m,\u001b[49m\u001b[43m \u001b[49m\u001b[43mself_instance\u001b[49m\u001b[43m=\u001b[49m\u001b[38;5;28;43mself\u001b[39;49m\u001b[43m)\u001b[49m\n\u001b[32m    251\u001b[39m \u001b[38;5;28;01mif\u001b[39;00m \u001b[38;5;28mself\u001b[39m \u001b[38;5;129;01mis\u001b[39;00m \u001b[38;5;129;01mnot\u001b[39;00m validated_self:\n\u001b[32m    252\u001b[39m     warnings.warn(\n\u001b[32m    253\u001b[39m         \u001b[33m'\u001b[39m\u001b[33mA custom validator is returning a value other than `self`.\u001b[39m\u001b[38;5;130;01m\\n\u001b[39;00m\u001b[33m'\u001b[39m\n\u001b[32m    254\u001b[39m         \u001b[33m\"\u001b[39m\u001b[33mReturning anything other than `self` from a top level model validator isn\u001b[39m\u001b[33m'\u001b[39m\u001b[33mt supported when validating via `__init__`.\u001b[39m\u001b[38;5;130;01m\\n\u001b[39;00m\u001b[33m\"\u001b[39m\n\u001b[32m    255\u001b[39m         \u001b[33m'\u001b[39m\u001b[33mSee the `model_validator` docs (https://docs.pydantic.dev/latest/concepts/validators/#model-validators) for more details.\u001b[39m\u001b[33m'\u001b[39m,\n\u001b[32m    256\u001b[39m         stacklevel=\u001b[32m2\u001b[39m,\n\u001b[32m    257\u001b[39m     )\n",
      "\u001b[31mValidationError\u001b[39m: 1 validation error for Person\nname\n  Value error, Name must start with a capital letter [type=value_error, input_value='solomon', input_type=str]\n    For further information visit https://errors.pydantic.dev/2.12/v/value_error"
     ]
    }
   ],
   "source": [
    "Person(name=\"solomon\",age=25)"
   ]
  },
  {
   "cell_type": "code",
   "execution_count": 58,
   "id": "582e1145",
   "metadata": {},
   "outputs": [
    {
     "data": {
      "text/plain": [
       "Person(name='Solomon', age=20)"
      ]
     },
     "execution_count": 58,
     "metadata": {},
     "output_type": "execute_result"
    }
   ],
   "source": [
    "Person(name=\"Solomon\", age=20)"
   ]
  },
  {
   "cell_type": "code",
   "execution_count": 63,
   "id": "99714413",
   "metadata": {},
   "outputs": [],
   "source": [
    "from datetime import datetime\n",
    "from decimal import Decimal\n",
    "from pydantic import BaseModel, Field, ValidationError\n",
    "from typing import List\n",
    "\n",
    "# Lets create the model here\n",
    "\n",
    "class productreview(BaseModel):\n",
    "\n",
    "    review_id: int= Field(...,gt=0,lt=10000)\n",
    "    username: str=Field(..., min_length=3, max_length=12, pattern=r\"^[A-Za-z0-9_]+$\")\n",
    "    scores: List[int]= Field(..., min_length=3,max_length=5)\n",
    "    price:Decimal=Field(...,gt=0,max_digits=6,decimal_places=2)\n",
    "    rating: float = Field(..., ge=0, le=5, multiple_of=0.5)\n",
    "    is_active:bool=Field(default=True)\n",
    "    created_at:datetime=Field(default_factory=datetime.now)\n"
   ]
  },
  {
   "cell_type": "code",
   "execution_count": 64,
   "id": "f4961663",
   "metadata": {},
   "outputs": [],
   "source": [
    "# lets demo for each\n",
    "\n",
    "def demo_int_field():\n",
    "    print('Integer Field Validation')\n",
    "    try:\n",
    "        productreview(review_id=-2, username='shabi', scores=[4,5,4], price=Decimal('10.00'),rating=4.5)\n",
    "    except ValidationError as e:\n",
    "        return e"
   ]
  },
  {
   "cell_type": "code",
   "execution_count": 61,
   "id": "6e88dcd3",
   "metadata": {},
   "outputs": [
    {
     "name": "stdout",
     "output_type": "stream",
     "text": [
      "Integer Field Validation\n"
     ]
    },
    {
     "data": {
      "text/plain": [
       "2 validation errors for productreview\n",
       "review_id\n",
       "  Input should be greater than 0 [type=greater_than, input_value=-2, input_type=int]\n",
       "    For further information visit https://errors.pydantic.dev/2.12/v/greater_than\n",
       "scores\n",
       "  Input should be a valid integer [type=int_type, input_value=[4, 5, 4], input_type=list]\n",
       "    For further information visit https://errors.pydantic.dev/2.12/v/int_type"
      ]
     },
     "execution_count": 61,
     "metadata": {},
     "output_type": "execute_result"
    }
   ],
   "source": [
    "demo_int_field()"
   ]
  },
  {
   "cell_type": "code",
   "execution_count": 65,
   "id": "ec2af4ef",
   "metadata": {},
   "outputs": [],
   "source": [
    "def demo_str_field():\n",
    "    print(\"String Field Validation\")\n",
    "    try:\n",
    "        productreview(review_id=1, username=\"A$\", scores=[4, 5, 5], price=Decimal(\"20.00\"), rating=4.0)\n",
    "    except ValidationError as e:\n",
    "        print(e)"
   ]
  },
  {
   "cell_type": "code",
   "execution_count": 66,
   "id": "a9d62fa1",
   "metadata": {},
   "outputs": [
    {
     "name": "stdout",
     "output_type": "stream",
     "text": [
      "String Field Validation\n",
      "1 validation error for productreview\n",
      "username\n",
      "  String should have at least 3 characters [type=string_too_short, input_value='A$', input_type=str]\n",
      "    For further information visit https://errors.pydantic.dev/2.12/v/string_too_short\n"
     ]
    }
   ],
   "source": [
    "demo_str_field()"
   ]
  },
  {
   "cell_type": "code",
   "execution_count": 68,
   "id": "d8d6c691",
   "metadata": {},
   "outputs": [
    {
     "name": "stdout",
     "output_type": "stream",
     "text": [
      "\n",
      " List Field Validation\n",
      "1 validation error for productreview\n",
      "scores\n",
      "  List should have at least 3 items after validation, not 1 [type=too_short, input_value=[5], input_type=list]\n",
      "    For further information visit https://errors.pydantic.dev/2.12/v/too_short\n"
     ]
    }
   ],
   "source": [
    "def demo_list_field():\n",
    "    print(\"\\n List Field Validation\")\n",
    "    try:\n",
    "        productreview(review_id=2, username=\"ChrisDev\", scores=[5], price=Decimal(\"30.00\"), rating=3.5)\n",
    "    except ValidationError as e:\n",
    "        print(e)\n",
    "\n",
    "demo_list_field()"
   ]
  },
  {
   "cell_type": "markdown",
   "id": "ca60fbee",
   "metadata": {},
   "source": [
    "Enums and Literals"
   ]
  },
  {
   "cell_type": "code",
   "execution_count": 69,
   "id": "be34daf6",
   "metadata": {},
   "outputs": [
    {
     "name": "stdout",
     "output_type": "stream",
     "text": [
      "gender.male\n"
     ]
    }
   ],
   "source": [
    "from typing import Literal\n",
    "from enum import Enum\n",
    "\n",
    "class gender(str,Enum):\n",
    "    male='male'\n",
    "    female='female'\n",
    "\n",
    "Gender = gender\n",
    "print(Gender.male)"
   ]
  },
  {
   "cell_type": "code",
   "execution_count": 71,
   "id": "bcd8bc06",
   "metadata": {},
   "outputs": [
    {
     "name": "stdout",
     "output_type": "stream",
     "text": [
      "gender.female\n"
     ]
    }
   ],
   "source": [
    "class person(BaseModel):\n",
    "    Gender:Literal['male','female']\n",
    "\n",
    "print(Gender.female)"
   ]
  },
  {
   "cell_type": "markdown",
   "id": "dd7bb82e",
   "metadata": {},
   "source": [
    "**`field_validator`**"
   ]
  },
  {
   "cell_type": "markdown",
   "id": "fc1bf3b1",
   "metadata": {},
   "source": [
    "With this we can create our own logic"
   ]
  },
  {
   "cell_type": "code",
   "execution_count": 72,
   "id": "9650fb22",
   "metadata": {},
   "outputs": [],
   "source": [
    "from pydantic import BaseModel, field_validator\n",
    "\n",
    "\n",
    "class Product(BaseModel):\n",
    "    name: str\n",
    "    price: float\n",
    "\n",
    "    @field_validator(\"price\")\n",
    "    def check_price(cls, v):\n",
    "        if v <= 0:\n",
    "            raise ValueError(\"Price must be positive\")\n",
    "        return v"
   ]
  }
 ],
 "metadata": {
  "kernelspec": {
   "display_name": "Python 3",
   "language": "python",
   "name": "python3"
  },
  "language_info": {
   "codemirror_mode": {
    "name": "ipython",
    "version": 3
   },
   "file_extension": ".py",
   "mimetype": "text/x-python",
   "name": "python",
   "nbconvert_exporter": "python",
   "pygments_lexer": "ipython3",
   "version": "3.13.7"
  }
 },
 "nbformat": 4,
 "nbformat_minor": 5
}
