{
 "cells": [
  {
   "cell_type": "markdown",
   "id": "63ba69cd",
   "metadata": {},
   "source": [
    "### **Python typing**"
   ]
  },
  {
   "cell_type": "code",
   "execution_count": 3,
   "id": "7b42ef8f",
   "metadata": {},
   "outputs": [],
   "source": [
    "# example\n",
    "def get_fellow_names(fellow: list[str]) -> list[str]:\n",
    "    return fellow"
   ]
  },
  {
   "cell_type": "code",
   "execution_count": 5,
   "id": "3f5bb603",
   "metadata": {},
   "outputs": [
    {
     "name": "stdout",
     "output_type": "stream",
     "text": [
      "Bayo's average score is 20.0\n"
     ]
    },
    {
     "data": {
      "text/plain": [
       "20.0"
      ]
     },
     "execution_count": 5,
     "metadata": {},
     "output_type": "execute_result"
    }
   ],
   "source": [
    "def get_average(name:str,scores:list[float]) -> float:\n",
    "    average_score=sum(scores)/len(scores)\n",
    "    print(f\"{name}'s average score is {average_score}\")\n",
    "    return average_score\n",
    "\n",
    "get_average('Bayo',[10,15,20,25,30])"
   ]
  },
  {
   "cell_type": "code",
   "execution_count": 6,
   "id": "e6d13f58",
   "metadata": {},
   "outputs": [
    {
     "name": "stdout",
     "output_type": "stream",
     "text": [
      "Hello,Tola\n"
     ]
    }
   ],
   "source": [
    "def greet(name:str) -> None:\n",
    "    print(f'Hello,{name}')\n",
    "\n",
    "greet('Tola')"
   ]
  },
  {
   "cell_type": "code",
   "execution_count": 9,
   "id": "494387c9",
   "metadata": {},
   "outputs": [
    {
     "data": {
      "text/plain": [
       "7"
      ]
     },
     "execution_count": 9,
     "metadata": {},
     "output_type": "execute_result"
    }
   ],
   "source": [
    "def add(a: int, b:int) -> int:\n",
    "    return a - b\n",
    "\n",
    "add(14,7)\n"
   ]
  },
  {
   "cell_type": "markdown",
   "id": "066171f3",
   "metadata": {},
   "source": [
    "**Typing module**"
   ]
  },
  {
   "cell_type": "markdown",
   "id": "7af343c5",
   "metadata": {},
   "source": [
    "***How to use typing***"
   ]
  },
  {
   "cell_type": "code",
   "execution_count": null,
   "id": "7002ef2e",
   "metadata": {},
   "outputs": [
    {
     "name": "stdout",
     "output_type": "stream",
     "text": [
      "scores: [50, 60, 70, 80, 90] \n",
      " number of scores entry: 5\n",
      "Average scores is : 70.0\n",
      "info: Zacheaus\n",
      "comment: Bode is George\n"
     ]
    }
   ],
   "source": [
    "from typing import List,Dict, Union, Optional\n",
    "\n",
    "# lets try out an example\n",
    "def process_scores(scores: list[int],\n",
    "                   info:dict[str,Union[int,float]],\n",
    "                   comment:Optional[str]=None) -> None:\n",
    "                    Ascores= sum(scores)/ len(scores)\n",
    "                    print('scores:',scores,'\\n number of scores entry:',len(scores))\n",
    "                    print('Average scores is :',Ascores)\n",
    "                    print('info:',info)\n",
    "                    if comment:\n",
    "                            print('comment:',comment)\n",
    "\n",
    "\n",
    "process_scores([50,60,70,80,90], {'Zacheaus':100},'Bode is George')"
   ]
  },
  {
   "cell_type": "code",
   "execution_count": null,
   "id": "6db1cb52",
   "metadata": {},
   "outputs": [
    {
     "name": "stdout",
     "output_type": "stream",
     "text": [
      "scores entered:[90, 80, 90, 100] \n",
      " your username is:Zacheaus138\n",
      " the combination of your name and score is:1000\n",
      " Feedback:i can be all i wanna be \n"
     ]
    }
   ],
   "source": [
    "from typing import List,Dict,Union,Optional\n",
    "def my_prac(\n",
    "        scores:List[int],\n",
    "        username:Union[str, int],\n",
    "        pair:dict[str,str],\n",
    "        info:Optional[str]=None) ->None:\n",
    "    print(f'scores entered:{scores} \\n your username is:{username}\\n the combination of your name and score is:{pair}\\n Feedback:{info} ')\n",
    "    \n",
    "\n",
    "my_prac([90,80, 90 ,100],'Zacheaus138',1000,'i can be all i wanna be')\n",
    "\n",
    "\n"
   ]
  },
  {
   "cell_type": "markdown",
   "id": "4861a414",
   "metadata": {},
   "source": [
    "**Union**"
   ]
  },
  {
   "cell_type": "code",
   "execution_count": 18,
   "id": "68db6ad9",
   "metadata": {},
   "outputs": [
    {
     "data": {
      "text/plain": [
       "'fellow ID:43'"
      ]
     },
     "execution_count": 18,
     "metadata": {},
     "output_type": "execute_result"
    }
   ],
   "source": [
    "from typing import Union\n",
    "def get_fellow_id(id:Union[int, str]) -> str:\n",
    "    return f'fellow ID:{id}'\n",
    "\n",
    "get_fellow_id(43)"
   ]
  },
  {
   "cell_type": "code",
   "execution_count": 19,
   "id": "cae57eb3",
   "metadata": {},
   "outputs": [],
   "source": [
    "# instead of union you can use pipe '|' - hold shift + backlash to get it\n",
    "\n",
    "def get_fellow_id(id: int | str) -> str:\n",
    "    return f'fellow ID: {id}'\n",
    "\n",
    "# same as \n",
    "\n",
    "def get_fellow_id(id: Union[int, str]) -> str:\n",
    "    return f\"fellow ID: {id}\""
   ]
  },
  {
   "cell_type": "code",
   "execution_count": 34,
   "id": "84de06f3",
   "metadata": {},
   "outputs": [
    {
     "name": "stdout",
     "output_type": "stream",
     "text": [
      "23 Ajelogo Street\n",
      "23B Ajelogo Street\n"
     ]
    }
   ],
   "source": [
    "from typing import Union \n",
    "\n",
    "def format_address(house_number:Union[int,str],street:str) -> str:\n",
    "    return f'{house_number} {street}'\n",
    "\n",
    "\n",
    "print(format_address(23, \"Ajelogo Street\"))   # 23 Ajelogo Street\n",
    "print(format_address(\"23B\", \"Ajelogo Street\")) # 23B Ajelogo Street"
   ]
  },
  {
   "cell_type": "markdown",
   "id": "259075a5",
   "metadata": {},
   "source": [
    "**Optional**"
   ]
  },
  {
   "cell_type": "code",
   "execution_count": 37,
   "id": "8dade179",
   "metadata": {},
   "outputs": [
    {
     "name": "stdout",
     "output_type": "stream",
     "text": [
      "Hello Toyeebat 1000\n",
      "Hello Toyeebat\n"
     ]
    }
   ],
   "source": [
    "from typing  import Optional\n",
    "\n",
    "def greet(first_name: str, last_name:Optional[str] = None)-> None:\n",
    "    if last_name:\n",
    "        print(f\"Hello {first_name} {last_name}\")\n",
    "    else:\n",
    "        print(f\"Hello {first_name}\")\n",
    "\n",
    "greet(\"Toyeebat\", 1000)   \n",
    "greet(\"Toyeebat\")  "
   ]
  },
  {
   "cell_type": "code",
   "execution_count": null,
   "id": "801eb6ba",
   "metadata": {},
   "outputs": [
    {
     "data": {
      "text/plain": [
       "{'username': 'admin', 'role': 'superuser'}"
      ]
     },
     "execution_count": 39,
     "metadata": {},
     "output_type": "execute_result"
    }
   ],
   "source": [
    "def find_user(username: str) -> Optional[dict]:\n",
    "    if username == \"admin\":\n",
    "        return {\"username\": \"admin\", \"role\": \"superuser\"}\n",
    "    return None\n",
    "\n",
    "find_user(\"admin\")                                                              "
   ]
  },
  {
   "cell_type": "markdown",
   "id": "b8546de3",
   "metadata": {},
   "source": [
    "**typed collections**"
   ]
  },
  {
   "cell_type": "markdown",
   "id": "51c84e8d",
   "metadata": {},
   "source": [
    "Dict -typed dictionary"
   ]
  },
  {
   "cell_type": "code",
   "execution_count": null,
   "id": "82ca0236",
   "metadata": {},
   "outputs": [],
   "source": [
    "from typing import Dict\n",
    "\n",
    "fellow_scores: Dict[str, int] = {\n",
    "    \"David\": 89,\n",
    "    \"Micheal\": 98\n",
    "}"
   ]
  },
  {
   "cell_type": "markdown",
   "id": "79311085",
   "metadata": {},
   "source": [
    "**`Tuple` Typed Tuples**"
   ]
  },
  {
   "cell_type": "code",
   "execution_count": 40,
   "id": "eb419527",
   "metadata": {},
   "outputs": [],
   "source": [
    "from typing import Tuple\n",
    "\n",
    "fellow: Tuple[str, int, str] = (\"Perpetual\",88,\"AI Engineering\")"
   ]
  },
  {
   "cell_type": "code",
   "execution_count": 42,
   "id": "bac9e143",
   "metadata": {},
   "outputs": [
    {
     "data": {
      "text/plain": [
       "'Zacheaus scored 99 in the last exam.'"
      ]
     },
     "execution_count": 42,
     "metadata": {},
     "output_type": "execute_result"
    }
   ],
   "source": [
    "def ai_fellow(fellow: Tuple[str, int]) -> str:\n",
    "    name, score = fellow\n",
    "    return f\"{name} scored {score} in the last exam.\"\n",
    "\n",
    "ai_fellow((\"Zacheaus\",99))"
   ]
  },
  {
   "cell_type": "markdown",
   "id": "6bbb5eaa",
   "metadata": {},
   "source": [
    "**Pydantic**"
   ]
  },
  {
   "cell_type": "code",
   "execution_count": 43,
   "id": "579c45b8",
   "metadata": {},
   "outputs": [],
   "source": [
    "# importing pydantic\n",
    "from pydantic import BaseModel"
   ]
  },
  {
   "cell_type": "markdown",
   "id": "fb8a2f80",
   "metadata": {},
   "source": [
    "BaseModel"
   ]
  },
  {
   "cell_type": "code",
   "execution_count": 49,
   "id": "d3bea734",
   "metadata": {},
   "outputs": [
    {
     "data": {
      "text/plain": [
       "light(username='LORDZED', password=100)"
      ]
     },
     "execution_count": 49,
     "metadata": {},
     "output_type": "execute_result"
    }
   ],
   "source": [
    "# Lets create a pydantic data model\n",
    "\n",
    "class Fellow(BaseModel):\n",
    "    name: str\n",
    "    score: int\n",
    "    track: str\n",
    "\n",
    "\n",
    "class light(BaseModel):\n",
    "    username: str\n",
    "    password: int\n",
    "\n",
    "light(username='LORDZED',password=100)\n"
   ]
  },
  {
   "cell_type": "code",
   "execution_count": 46,
   "id": "6b6497b9",
   "metadata": {},
   "outputs": [
    {
     "data": {
      "text/plain": [
       "Fellow(name='Perpetual', score=88, track='AI Engineering')"
      ]
     },
     "execution_count": 46,
     "metadata": {},
     "output_type": "execute_result"
    }
   ],
   "source": [
    "# 1. Validation - It automatically validates data passed to it\n",
    "\n",
    "Fellow(name=\"Perpetual\", score=88, track=\"AI Engineering\") # This will work fine"
   ]
  },
  {
   "cell_type": "code",
   "execution_count": 47,
   "id": "b9cfd42b",
   "metadata": {},
   "outputs": [
    {
     "ename": "ValidationError",
     "evalue": "1 validation error for Fellow\nscore\n  Input should be a valid integer, unable to parse string as an integer [type=int_parsing, input_value='eighty-seven', input_type=str]\n    For further information visit https://errors.pydantic.dev/2.12/v/int_parsing",
     "output_type": "error",
     "traceback": [
      "\u001b[31m---------------------------------------------------------------------------\u001b[39m",
      "\u001b[31mValidationError\u001b[39m                           Traceback (most recent call last)",
      "\u001b[36mCell\u001b[39m\u001b[36m \u001b[39m\u001b[32mIn[47]\u001b[39m\u001b[32m, line 1\u001b[39m\n\u001b[32m----> \u001b[39m\u001b[32m1\u001b[39m \u001b[43mFellow\u001b[49m\u001b[43m(\u001b[49m\u001b[43mname\u001b[49m\u001b[43m=\u001b[49m\u001b[43m \u001b[49m\u001b[33;43m\"\u001b[39;49m\u001b[33;43mZach\u001b[39;49m\u001b[33;43m\"\u001b[39;49m\u001b[43m,\u001b[49m\u001b[43m \u001b[49m\u001b[43mscore\u001b[49m\u001b[43m \u001b[49m\u001b[43m=\u001b[49m\u001b[43m \u001b[49m\u001b[33;43m\"\u001b[39;49m\u001b[33;43meighty-seven\u001b[39;49m\u001b[33;43m\"\u001b[39;49m\u001b[43m,\u001b[49m\u001b[43m \u001b[49m\u001b[43mtrack\u001b[49m\u001b[43m=\u001b[49m\u001b[33;43m\"\u001b[39;49m\u001b[33;43mAI Engineering\u001b[39;49m\u001b[33;43m\"\u001b[39;49m\u001b[43m)\u001b[49m \u001b[38;5;66;03m# This will raise error\u001b[39;00m\n",
      "\u001b[36mFile \u001b[39m\u001b[32mc:\\Users\\ncc101\\AppData\\Local\\Programs\\Python\\Python313\\Lib\\site-packages\\pydantic\\main.py:250\u001b[39m, in \u001b[36mBaseModel.__init__\u001b[39m\u001b[34m(self, **data)\u001b[39m\n\u001b[32m    248\u001b[39m \u001b[38;5;66;03m# `__tracebackhide__` tells pytest and some other tools to omit this function from tracebacks\u001b[39;00m\n\u001b[32m    249\u001b[39m __tracebackhide__ = \u001b[38;5;28;01mTrue\u001b[39;00m\n\u001b[32m--> \u001b[39m\u001b[32m250\u001b[39m validated_self = \u001b[38;5;28;43mself\u001b[39;49m\u001b[43m.\u001b[49m\u001b[43m__pydantic_validator__\u001b[49m\u001b[43m.\u001b[49m\u001b[43mvalidate_python\u001b[49m\u001b[43m(\u001b[49m\u001b[43mdata\u001b[49m\u001b[43m,\u001b[49m\u001b[43m \u001b[49m\u001b[43mself_instance\u001b[49m\u001b[43m=\u001b[49m\u001b[38;5;28;43mself\u001b[39;49m\u001b[43m)\u001b[49m\n\u001b[32m    251\u001b[39m \u001b[38;5;28;01mif\u001b[39;00m \u001b[38;5;28mself\u001b[39m \u001b[38;5;129;01mis\u001b[39;00m \u001b[38;5;129;01mnot\u001b[39;00m validated_self:\n\u001b[32m    252\u001b[39m     warnings.warn(\n\u001b[32m    253\u001b[39m         \u001b[33m'\u001b[39m\u001b[33mA custom validator is returning a value other than `self`.\u001b[39m\u001b[38;5;130;01m\\n\u001b[39;00m\u001b[33m'\u001b[39m\n\u001b[32m    254\u001b[39m         \u001b[33m\"\u001b[39m\u001b[33mReturning anything other than `self` from a top level model validator isn\u001b[39m\u001b[33m'\u001b[39m\u001b[33mt supported when validating via `__init__`.\u001b[39m\u001b[38;5;130;01m\\n\u001b[39;00m\u001b[33m\"\u001b[39m\n\u001b[32m    255\u001b[39m         \u001b[33m'\u001b[39m\u001b[33mSee the `model_validator` docs (https://docs.pydantic.dev/latest/concepts/validators/#model-validators) for more details.\u001b[39m\u001b[33m'\u001b[39m,\n\u001b[32m    256\u001b[39m         stacklevel=\u001b[32m2\u001b[39m,\n\u001b[32m    257\u001b[39m     )\n",
      "\u001b[31mValidationError\u001b[39m: 1 validation error for Fellow\nscore\n  Input should be a valid integer, unable to parse string as an integer [type=int_parsing, input_value='eighty-seven', input_type=str]\n    For further information visit https://errors.pydantic.dev/2.12/v/int_parsing"
     ]
    }
   ],
   "source": [
    "Fellow(name= \"Zach\", score = \"eighty-seven\", track=\"AI Engineering\") # This will raise error"
   ]
  },
  {
   "cell_type": "code",
   "execution_count": null,
   "id": "dac3fc1a",
   "metadata": {},
   "outputs": [],
   "source": [
    "#2. parsing and type conversion - It automatically converts compatible types \n",
    "# It reads and interpret data\n",
    "\n",
    "p = Fellow(name = \"Perpetual\", score = \"88\", track = \"AI Engineering\")\n",
    "print(type(p.score))"
   ]
  }
 ],
 "metadata": {
  "kernelspec": {
   "display_name": "Python 3",
   "language": "python",
   "name": "python3"
  },
  "language_info": {
   "codemirror_mode": {
    "name": "ipython",
    "version": 3
   },
   "file_extension": ".py",
   "mimetype": "text/x-python",
   "name": "python",
   "nbconvert_exporter": "python",
   "pygments_lexer": "ipython3",
   "version": "3.13.7"
  }
 },
 "nbformat": 4,
 "nbformat_minor": 5
}
