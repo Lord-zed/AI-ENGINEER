{
 "cells": [
  {
   "cell_type": "code",
   "execution_count": 2,
   "id": "94f87c91",
   "metadata": {},
   "outputs": [],
   "source": [
    "# Importing all necessary libraries\n",
    "import pandas as pd\n",
    "import matplotlib.pyplot as plt\n",
    "import seaborn as sns\n",
    "import warnings\n",
    "warnings.filterwarnings('ignore')\n",
    "# setting view\n",
    "# pd.set_option('display.max_column',None)\n",
    "# pd.set_option('display.width',100)"
   ]
  },
  {
   "cell_type": "code",
   "execution_count": 3,
   "id": "5d4ed767",
   "metadata": {},
   "outputs": [],
   "source": [
    "# Loading the dataset\n",
    "\n",
    "sales = pd.read_csv('sales_data.xls')"
   ]
  },
  {
   "cell_type": "code",
   "execution_count": 4,
   "id": "2b8624ce",
   "metadata": {},
   "outputs": [
    {
     "data": {
      "text/html": [
       "<div>\n",
       "<style scoped>\n",
       "    .dataframe tbody tr th:only-of-type {\n",
       "        vertical-align: middle;\n",
       "    }\n",
       "\n",
       "    .dataframe tbody tr th {\n",
       "        vertical-align: top;\n",
       "    }\n",
       "\n",
       "    .dataframe thead th {\n",
       "        text-align: right;\n",
       "    }\n",
       "</style>\n",
       "<table border=\"1\" class=\"dataframe\">\n",
       "  <thead>\n",
       "    <tr style=\"text-align: right;\">\n",
       "      <th></th>\n",
       "      <th>customer_id</th>\n",
       "      <th>device_id</th>\n",
       "      <th>item_id</th>\n",
       "      <th>line_item_id</th>\n",
       "      <th>order_id</th>\n",
       "      <th>event_id</th>\n",
       "      <th>event_timestamp</th>\n",
       "      <th>quantity</th>\n",
       "      <th>currency</th>\n",
       "      <th>checked_out_at</th>\n",
       "      <th>status</th>\n",
       "      <th>location</th>\n",
       "    </tr>\n",
       "  </thead>\n",
       "  <tbody>\n",
       "    <tr>\n",
       "      <th>0</th>\n",
       "      <td>cda7bec0-7cbf-4145-baf9-e049bab94504</td>\n",
       "      <td>33b485de-7338-4997-b1d0-b988ba17b245</td>\n",
       "      <td>4</td>\n",
       "      <td>3201</td>\n",
       "      <td>9e950ce3-2e12-479c-a051-493c1a497d49</td>\n",
       "      <td>14786</td>\n",
       "      <td>2024-03-26 22:05:58.863661</td>\n",
       "      <td>2</td>\n",
       "      <td>NGN</td>\n",
       "      <td>2024-03-30 04:19:10.406794</td>\n",
       "      <td>success</td>\n",
       "      <td>Saint Helena</td>\n",
       "    </tr>\n",
       "    <tr>\n",
       "      <th>1</th>\n",
       "      <td>cda7bec0-7cbf-4145-baf9-e049bab94504</td>\n",
       "      <td>33b485de-7338-4997-b1d0-b988ba17b245</td>\n",
       "      <td>5</td>\n",
       "      <td>3202</td>\n",
       "      <td>9e950ce3-2e12-479c-a051-493c1a497d49</td>\n",
       "      <td>14786</td>\n",
       "      <td>2024-03-26 22:05:58.863661</td>\n",
       "      <td>4</td>\n",
       "      <td>NGN</td>\n",
       "      <td>2024-03-30 04:19:10.406794</td>\n",
       "      <td>success</td>\n",
       "      <td>Saint Helena</td>\n",
       "    </tr>\n",
       "    <tr>\n",
       "      <th>2</th>\n",
       "      <td>cda7bec0-7cbf-4145-baf9-e049bab94504</td>\n",
       "      <td>33b485de-7338-4997-b1d0-b988ba17b245</td>\n",
       "      <td>9</td>\n",
       "      <td>3203</td>\n",
       "      <td>9e950ce3-2e12-479c-a051-493c1a497d49</td>\n",
       "      <td>14786</td>\n",
       "      <td>2024-03-26 22:05:58.863661</td>\n",
       "      <td>5</td>\n",
       "      <td>NGN</td>\n",
       "      <td>2024-03-30 04:19:10.406794</td>\n",
       "      <td>success</td>\n",
       "      <td>Saint Helena</td>\n",
       "    </tr>\n",
       "    <tr>\n",
       "      <th>3</th>\n",
       "      <td>cda7bec0-7cbf-4145-baf9-e049bab94504</td>\n",
       "      <td>33b485de-7338-4997-b1d0-b988ba17b245</td>\n",
       "      <td>12</td>\n",
       "      <td>3204</td>\n",
       "      <td>9e950ce3-2e12-479c-a051-493c1a497d49</td>\n",
       "      <td>14786</td>\n",
       "      <td>2024-03-26 22:05:58.863661</td>\n",
       "      <td>1</td>\n",
       "      <td>NGN</td>\n",
       "      <td>2024-03-30 04:19:10.406794</td>\n",
       "      <td>success</td>\n",
       "      <td>Saint Helena</td>\n",
       "    </tr>\n",
       "    <tr>\n",
       "      <th>4</th>\n",
       "      <td>cda7bec0-7cbf-4145-baf9-e049bab94504</td>\n",
       "      <td>33b485de-7338-4997-b1d0-b988ba17b245</td>\n",
       "      <td>6</td>\n",
       "      <td>3205</td>\n",
       "      <td>9e950ce3-2e12-479c-a051-493c1a497d49</td>\n",
       "      <td>14786</td>\n",
       "      <td>2024-03-26 22:05:58.863661</td>\n",
       "      <td>2</td>\n",
       "      <td>NGN</td>\n",
       "      <td>2024-03-30 04:19:10.406794</td>\n",
       "      <td>success</td>\n",
       "      <td>Saint Helena</td>\n",
       "    </tr>\n",
       "    <tr>\n",
       "      <th>...</th>\n",
       "      <td>...</td>\n",
       "      <td>...</td>\n",
       "      <td>...</td>\n",
       "      <td>...</td>\n",
       "      <td>...</td>\n",
       "      <td>...</td>\n",
       "      <td>...</td>\n",
       "      <td>...</td>\n",
       "      <td>...</td>\n",
       "      <td>...</td>\n",
       "      <td>...</td>\n",
       "      <td>...</td>\n",
       "    </tr>\n",
       "    <tr>\n",
       "      <th>578315</th>\n",
       "      <td>ef15a7b3-326c-405f-9eef-3dbf43c85a9d</td>\n",
       "      <td>74bb4936-9890-421b-a62a-ee544191fa1e</td>\n",
       "      <td>1</td>\n",
       "      <td>34941</td>\n",
       "      <td>ad73a2a0-354a-40bf-81cd-ff017ac859d5</td>\n",
       "      <td>161958</td>\n",
       "      <td>2024-03-30 04:03:18.224196</td>\n",
       "      <td>3</td>\n",
       "      <td>USD</td>\n",
       "      <td>2024-03-30 04:14:18.224200</td>\n",
       "      <td>failed</td>\n",
       "      <td>Christmas Island</td>\n",
       "    </tr>\n",
       "    <tr>\n",
       "      <th>578316</th>\n",
       "      <td>ef15a7b3-326c-405f-9eef-3dbf43c85a9d</td>\n",
       "      <td>74bb4936-9890-421b-a62a-ee544191fa1e</td>\n",
       "      <td>4</td>\n",
       "      <td>34940</td>\n",
       "      <td>ad73a2a0-354a-40bf-81cd-ff017ac859d5</td>\n",
       "      <td>161959</td>\n",
       "      <td>2024-03-30 04:03:18.224198</td>\n",
       "      <td>3</td>\n",
       "      <td>USD</td>\n",
       "      <td>2024-03-30 04:14:18.224200</td>\n",
       "      <td>failed</td>\n",
       "      <td>Christmas Island</td>\n",
       "    </tr>\n",
       "    <tr>\n",
       "      <th>578317</th>\n",
       "      <td>ef15a7b3-326c-405f-9eef-3dbf43c85a9d</td>\n",
       "      <td>74bb4936-9890-421b-a62a-ee544191fa1e</td>\n",
       "      <td>1</td>\n",
       "      <td>34941</td>\n",
       "      <td>ad73a2a0-354a-40bf-81cd-ff017ac859d5</td>\n",
       "      <td>161959</td>\n",
       "      <td>2024-03-30 04:03:18.224198</td>\n",
       "      <td>3</td>\n",
       "      <td>USD</td>\n",
       "      <td>2024-03-30 04:14:18.224200</td>\n",
       "      <td>failed</td>\n",
       "      <td>Christmas Island</td>\n",
       "    </tr>\n",
       "    <tr>\n",
       "      <th>578318</th>\n",
       "      <td>ef15a7b3-326c-405f-9eef-3dbf43c85a9d</td>\n",
       "      <td>74bb4936-9890-421b-a62a-ee544191fa1e</td>\n",
       "      <td>4</td>\n",
       "      <td>34940</td>\n",
       "      <td>ad73a2a0-354a-40bf-81cd-ff017ac859d5</td>\n",
       "      <td>161960</td>\n",
       "      <td>2024-03-30 04:14:18.224200</td>\n",
       "      <td>3</td>\n",
       "      <td>USD</td>\n",
       "      <td>2024-03-30 04:14:18.224200</td>\n",
       "      <td>failed</td>\n",
       "      <td>Christmas Island</td>\n",
       "    </tr>\n",
       "    <tr>\n",
       "      <th>578319</th>\n",
       "      <td>ef15a7b3-326c-405f-9eef-3dbf43c85a9d</td>\n",
       "      <td>74bb4936-9890-421b-a62a-ee544191fa1e</td>\n",
       "      <td>1</td>\n",
       "      <td>34941</td>\n",
       "      <td>ad73a2a0-354a-40bf-81cd-ff017ac859d5</td>\n",
       "      <td>161960</td>\n",
       "      <td>2024-03-30 04:14:18.224200</td>\n",
       "      <td>3</td>\n",
       "      <td>USD</td>\n",
       "      <td>2024-03-30 04:14:18.224200</td>\n",
       "      <td>failed</td>\n",
       "      <td>Christmas Island</td>\n",
       "    </tr>\n",
       "  </tbody>\n",
       "</table>\n",
       "<p>578320 rows × 12 columns</p>\n",
       "</div>"
      ],
      "text/plain": [
       "                                 customer_id                             device_id  item_id  line_item_id                              order_id  event_id             event_timestamp  quantity currency              checked_out_at   status          location\n",
       "0       cda7bec0-7cbf-4145-baf9-e049bab94504  33b485de-7338-4997-b1d0-b988ba17b245        4          3201  9e950ce3-2e12-479c-a051-493c1a497d49     14786  2024-03-26 22:05:58.863661         2      NGN  2024-03-30 04:19:10.406794  success      Saint Helena\n",
       "1       cda7bec0-7cbf-4145-baf9-e049bab94504  33b485de-7338-4997-b1d0-b988ba17b245        5          3202  9e950ce3-2e12-479c-a051-493c1a497d49     14786  2024-03-26 22:05:58.863661         4      NGN  2024-03-30 04:19:10.406794  success      Saint Helena\n",
       "2       cda7bec0-7cbf-4145-baf9-e049bab94504  33b485de-7338-4997-b1d0-b988ba17b245        9          3203  9e950ce3-2e12-479c-a051-493c1a497d49     14786  2024-03-26 22:05:58.863661         5      NGN  2024-03-30 04:19:10.406794  success      Saint Helena\n",
       "3       cda7bec0-7cbf-4145-baf9-e049bab94504  33b485de-7338-4997-b1d0-b988ba17b245       12          3204  9e950ce3-2e12-479c-a051-493c1a497d49     14786  2024-03-26 22:05:58.863661         1      NGN  2024-03-30 04:19:10.406794  success      Saint Helena\n",
       "4       cda7bec0-7cbf-4145-baf9-e049bab94504  33b485de-7338-4997-b1d0-b988ba17b245        6          3205  9e950ce3-2e12-479c-a051-493c1a497d49     14786  2024-03-26 22:05:58.863661         2      NGN  2024-03-30 04:19:10.406794  success      Saint Helena\n",
       "...                                      ...                                   ...      ...           ...                                   ...       ...                         ...       ...      ...                         ...      ...               ...\n",
       "578315  ef15a7b3-326c-405f-9eef-3dbf43c85a9d  74bb4936-9890-421b-a62a-ee544191fa1e        1         34941  ad73a2a0-354a-40bf-81cd-ff017ac859d5    161958  2024-03-30 04:03:18.224196         3      USD  2024-03-30 04:14:18.224200   failed  Christmas Island\n",
       "578316  ef15a7b3-326c-405f-9eef-3dbf43c85a9d  74bb4936-9890-421b-a62a-ee544191fa1e        4         34940  ad73a2a0-354a-40bf-81cd-ff017ac859d5    161959  2024-03-30 04:03:18.224198         3      USD  2024-03-30 04:14:18.224200   failed  Christmas Island\n",
       "578317  ef15a7b3-326c-405f-9eef-3dbf43c85a9d  74bb4936-9890-421b-a62a-ee544191fa1e        1         34941  ad73a2a0-354a-40bf-81cd-ff017ac859d5    161959  2024-03-30 04:03:18.224198         3      USD  2024-03-30 04:14:18.224200   failed  Christmas Island\n",
       "578318  ef15a7b3-326c-405f-9eef-3dbf43c85a9d  74bb4936-9890-421b-a62a-ee544191fa1e        4         34940  ad73a2a0-354a-40bf-81cd-ff017ac859d5    161960  2024-03-30 04:14:18.224200         3      USD  2024-03-30 04:14:18.224200   failed  Christmas Island\n",
       "578319  ef15a7b3-326c-405f-9eef-3dbf43c85a9d  74bb4936-9890-421b-a62a-ee544191fa1e        1         34941  ad73a2a0-354a-40bf-81cd-ff017ac859d5    161960  2024-03-30 04:14:18.224200         3      USD  2024-03-30 04:14:18.224200   failed  Christmas Island\n",
       "\n",
       "[578320 rows x 12 columns]"
      ]
     },
     "execution_count": 4,
     "metadata": {},
     "output_type": "execute_result"
    }
   ],
   "source": [
    "# Viewing the dataset\n",
    "\n",
    "sales"
   ]
  },
  {
   "cell_type": "code",
   "execution_count": 5,
   "id": "4af9abf0",
   "metadata": {},
   "outputs": [
    {
     "data": {
      "text/plain": [
       "(578320, 12)"
      ]
     },
     "execution_count": 5,
     "metadata": {},
     "output_type": "execute_result"
    }
   ],
   "source": [
    "sales.shape"
   ]
  },
  {
   "cell_type": "code",
   "execution_count": 12,
   "id": "d890f9f9",
   "metadata": {},
   "outputs": [
    {
     "data": {
      "text/plain": [
       "customer_id        0\n",
       "device_id          0\n",
       "item_id            0\n",
       "line_item_id       0\n",
       "order_id           0\n",
       "event_id           0\n",
       "event_timestamp    0\n",
       "quantity           0\n",
       "currency           0\n",
       "checked_out_at     0\n",
       "status             0\n",
       "location           0\n",
       "dtype: int64"
      ]
     },
     "execution_count": 12,
     "metadata": {},
     "output_type": "execute_result"
    }
   ],
   "source": [
    "# Let's clean the data by checking if there's missing values\n",
    "sales.isna().sum()"
   ]
  },
  {
   "cell_type": "markdown",
   "id": "bb70ce70",
   "metadata": {},
   "source": [
    "The above indicates there's no missing values."
   ]
  },
  {
   "cell_type": "code",
   "execution_count": 13,
   "id": "60eb7967",
   "metadata": {},
   "outputs": [
    {
     "data": {
      "text/plain": [
       "Index(['customer_id', 'device_id', 'item_id', 'line_item_id', 'order_id', 'event_id', 'event_timestamp', 'quantity', 'currency', 'checked_out_at', 'status', 'location'], dtype='object')"
      ]
     },
     "execution_count": 13,
     "metadata": {},
     "output_type": "execute_result"
    }
   ],
   "source": [
    "# Checking the columns\n",
    "sales.columns"
   ]
  },
  {
   "cell_type": "code",
   "execution_count": null,
   "id": "37b9bd76",
   "metadata": {},
   "outputs": [
    {
     "data": {
      "text/html": [
       "<div>\n",
       "<style scoped>\n",
       "    .dataframe tbody tr th:only-of-type {\n",
       "        vertical-align: middle;\n",
       "    }\n",
       "\n",
       "    .dataframe tbody tr th {\n",
       "        vertical-align: top;\n",
       "    }\n",
       "\n",
       "    .dataframe thead th {\n",
       "        text-align: right;\n",
       "    }\n",
       "</style>\n",
       "<table border=\"1\" class=\"dataframe\">\n",
       "  <thead>\n",
       "    <tr style=\"text-align: right;\">\n",
       "      <th></th>\n",
       "      <th>quantity</th>\n",
       "      <th>currency</th>\n",
       "      <th>checked_out_at</th>\n",
       "      <th>status</th>\n",
       "      <th>location</th>\n",
       "    </tr>\n",
       "  </thead>\n",
       "  <tbody>\n",
       "    <tr>\n",
       "      <th>0</th>\n",
       "      <td>1006660226160</td>\n",
       "      <td>NGN</td>\n",
       "      <td>2024-03-30 04:19:10.406794</td>\n",
       "      <td>success</td>\n",
       "      <td>Saint Helena</td>\n",
       "    </tr>\n",
       "    <tr>\n",
       "      <th>1</th>\n",
       "      <td>1006660226160</td>\n",
       "      <td>NGN</td>\n",
       "      <td>2024-03-30 04:19:10.406794</td>\n",
       "      <td>success</td>\n",
       "      <td>Saint Helena</td>\n",
       "    </tr>\n",
       "    <tr>\n",
       "      <th>2</th>\n",
       "      <td>1006660226160</td>\n",
       "      <td>NGN</td>\n",
       "      <td>2024-03-30 04:19:10.406794</td>\n",
       "      <td>success</td>\n",
       "      <td>Saint Helena</td>\n",
       "    </tr>\n",
       "    <tr>\n",
       "      <th>3</th>\n",
       "      <td>1006660226160</td>\n",
       "      <td>NGN</td>\n",
       "      <td>2024-03-30 04:19:10.406794</td>\n",
       "      <td>success</td>\n",
       "      <td>Saint Helena</td>\n",
       "    </tr>\n",
       "    <tr>\n",
       "      <th>4</th>\n",
       "      <td>1006660226160</td>\n",
       "      <td>NGN</td>\n",
       "      <td>2024-03-30 04:19:10.406794</td>\n",
       "      <td>success</td>\n",
       "      <td>Saint Helena</td>\n",
       "    </tr>\n",
       "    <tr>\n",
       "      <th>...</th>\n",
       "      <td>...</td>\n",
       "      <td>...</td>\n",
       "      <td>...</td>\n",
       "      <td>...</td>\n",
       "      <td>...</td>\n",
       "    </tr>\n",
       "    <tr>\n",
       "      <th>578315</th>\n",
       "      <td>1006660226160</td>\n",
       "      <td>USD</td>\n",
       "      <td>2024-03-30 04:14:18.224200</td>\n",
       "      <td>failed</td>\n",
       "      <td>Christmas Island</td>\n",
       "    </tr>\n",
       "    <tr>\n",
       "      <th>578316</th>\n",
       "      <td>1006660226160</td>\n",
       "      <td>USD</td>\n",
       "      <td>2024-03-30 04:14:18.224200</td>\n",
       "      <td>failed</td>\n",
       "      <td>Christmas Island</td>\n",
       "    </tr>\n",
       "    <tr>\n",
       "      <th>578317</th>\n",
       "      <td>1006660226160</td>\n",
       "      <td>USD</td>\n",
       "      <td>2024-03-30 04:14:18.224200</td>\n",
       "      <td>failed</td>\n",
       "      <td>Christmas Island</td>\n",
       "    </tr>\n",
       "    <tr>\n",
       "      <th>578318</th>\n",
       "      <td>1006660226160</td>\n",
       "      <td>USD</td>\n",
       "      <td>2024-03-30 04:14:18.224200</td>\n",
       "      <td>failed</td>\n",
       "      <td>Christmas Island</td>\n",
       "    </tr>\n",
       "    <tr>\n",
       "      <th>578319</th>\n",
       "      <td>1006660226160</td>\n",
       "      <td>USD</td>\n",
       "      <td>2024-03-30 04:14:18.224200</td>\n",
       "      <td>failed</td>\n",
       "      <td>Christmas Island</td>\n",
       "    </tr>\n",
       "  </tbody>\n",
       "</table>\n",
       "<p>578320 rows × 5 columns</p>\n",
       "</div>"
      ],
      "text/plain": [
       "             quantity currency              checked_out_at   status          location\n",
       "0       1006660226160      NGN  2024-03-30 04:19:10.406794  success      Saint Helena\n",
       "1       1006660226160      NGN  2024-03-30 04:19:10.406794  success      Saint Helena\n",
       "2       1006660226160      NGN  2024-03-30 04:19:10.406794  success      Saint Helena\n",
       "3       1006660226160      NGN  2024-03-30 04:19:10.406794  success      Saint Helena\n",
       "4       1006660226160      NGN  2024-03-30 04:19:10.406794  success      Saint Helena\n",
       "...               ...      ...                         ...      ...               ...\n",
       "578315  1006660226160      USD  2024-03-30 04:14:18.224200   failed  Christmas Island\n",
       "578316  1006660226160      USD  2024-03-30 04:14:18.224200   failed  Christmas Island\n",
       "578317  1006660226160      USD  2024-03-30 04:14:18.224200   failed  Christmas Island\n",
       "578318  1006660226160      USD  2024-03-30 04:14:18.224200   failed  Christmas Island\n",
       "578319  1006660226160      USD  2024-03-30 04:14:18.224200   failed  Christmas Island\n",
       "\n",
       "[578320 rows x 5 columns]"
      ]
     },
     "execution_count": 14,
     "metadata": {},
     "output_type": "execute_result"
    }
   ],
   "source": [
    "# Indexing the columns\n",
    "\n",
    "Indexed_columns = sales.loc[:,['quantity','currency','checked_out_at','status','location']]"
   ]
  },
  {
   "cell_type": "code",
   "execution_count": 15,
   "id": "af311a0a",
   "metadata": {},
   "outputs": [
    {
     "data": {
      "text/plain": [
       "array(['Saint Helena', 'Djibouti', 'Ecuador', 'Mali', 'Grenada',\n",
       "       'United States Minor Outlying Islands', 'Aruba', 'Germany',\n",
       "       'Saint Pierre and Miquelon', 'Sudan', 'Palestinian Territory',\n",
       "       'North Macedonia', 'Qatar', 'Israel', 'Netherlands Antilles',\n",
       "       'French Guiana', 'India', 'Switzerland', 'Canada', 'Philippines',\n",
       "       'Christmas Island', 'Micronesia', 'British Virgin Islands',\n",
       "       'Barbados', 'Guadeloupe', 'Chad', 'Bouvet Island (Bouvetoya)',\n",
       "       'Mauritania', 'Thailand', 'Tuvalu', 'Poland', 'Greenland',\n",
       "       'Saint Martin', 'Guatemala', 'Bermuda', 'Australia', 'Malawi',\n",
       "       'Mozambique', 'Costa Rica', 'Oman', 'Armenia', 'Tokelau',\n",
       "       'Myanmar', 'Angola', 'Sierra Leone', 'Denmark',\n",
       "       'Falkland Islands (Malvinas)', 'Taiwan', 'Norfolk Island', 'Egypt',\n",
       "       'Yemen', 'Cocos (Keeling) Islands', 'Northern Mariana Islands',\n",
       "       'Chile', 'Iraq', 'Antigua and Barbuda', 'Guam', 'Bahrain',\n",
       "       'Singapore', 'Jordan', 'Serbia', 'Kazakhstan', 'Guinea-Bissau',\n",
       "       'Algeria', \"Lao People's Democratic Republic\", 'Samoa',\n",
       "       'Puerto Rico', 'China', 'Marshall Islands', 'Eritrea', 'Liberia',\n",
       "       'Monaco', 'Isle of Man', 'Finland', 'French Polynesia',\n",
       "       'San Marino', 'Rwanda', 'New Caledonia',\n",
       "       'Antarctica (the territory South of 60 deg S)', 'Romania',\n",
       "       'Guyana', 'Equatorial Guinea', 'Montenegro',\n",
       "       'Bosnia and Herzegovina', 'Sri Lanka', 'Wallis and Futuna',\n",
       "       'Benin', 'Korea', 'Syrian Arab Republic', 'Mauritius',\n",
       "       'Timor-Leste', 'Jersey', 'Cape Verde', 'Guernsey', 'Seychelles',\n",
       "       'Vanuatu', 'Congo', 'Bolivia', 'Panama', 'Ukraine', 'Morocco',\n",
       "       'Palau', 'Azerbaijan', 'Tajikistan', 'Brunei Darussalam', 'Mexico',\n",
       "       'Solomon Islands', 'El Salvador', 'Cuba', 'Cyprus', 'Mayotte',\n",
       "       'South Georgia and the South Sandwich Islands', 'Bulgaria',\n",
       "       'Argentina', 'Tunisia', 'Dominican Republic', 'Latvia',\n",
       "       'Afghanistan', 'Turkmenistan', 'Western Sahara', 'Vietnam',\n",
       "       'Slovakia (Slovak Republic)', 'Malaysia', 'Andorra',\n",
       "       'Saint Barthelemy', 'Bahamas', 'Cook Islands', 'Burkina Faso',\n",
       "       'Central African Republic', 'Uganda', 'Sweden', 'Moldova',\n",
       "       'Russian Federation', 'Czech Republic',\n",
       "       'British Indian Ocean Territory (Chagos Archipelago)',\n",
       "       \"Cote d'Ivoire\", 'Comoros', 'Madagascar', 'Maldives', 'Bhutan',\n",
       "       'United States of America', 'Saudi Arabia', 'Belarus', 'Ireland',\n",
       "       'Paraguay', 'Fiji', 'Pitcairn Islands', 'Luxembourg', 'Hungary',\n",
       "       'Honduras', 'Hong Kong', 'Niue', 'Estonia', 'Suriname', 'Nauru',\n",
       "       'Liechtenstein', 'Japan', 'Haiti', 'Belgium', 'Anguilla', 'Macao',\n",
       "       'Uruguay', 'Iceland', 'Saint Vincent and the Grenadines', 'Nepal',\n",
       "       'Holy See (Vatican City State)', 'Turks and Caicos Islands',\n",
       "       'Uzbekistan', 'Niger', 'Ethiopia', 'Albania', 'Peru', 'Portugal',\n",
       "       'Burundi', 'Guinea', 'France', 'Georgia', 'Dominica', 'Lesotho',\n",
       "       'Montserrat', 'Tanzania', 'Togo', 'Tonga', 'Swaziland', 'Kiribati',\n",
       "       'Italy', 'Malta', 'Netherlands', 'Papua New Guinea', 'Reunion',\n",
       "       'Lebanon', 'Venezuela', 'Ghana', 'Saint Lucia', 'Iran',\n",
       "       'American Samoa', 'Svalbard & Jan Mayen Islands', 'Somalia',\n",
       "       'New Zealand', 'Norway', 'Nicaragua', 'Kenya', 'Bangladesh',\n",
       "       'Faroe Islands', 'Saint Kitts and Nevis', 'Mongolia', 'Zimbabwe',\n",
       "       'Croatia', 'Libyan Arab Jamahiriya', 'Indonesia', 'Gabon',\n",
       "       'Cameroon', 'Belize', 'South Africa', 'Senegal', 'Kuwait',\n",
       "       'Greece', 'Botswana', 'Lithuania', 'Trinidad and Tobago',\n",
       "       'Colombia', 'Turkey', 'Martinique', 'Jamaica', 'Nigeria',\n",
       "       'Cambodia', 'Cayman Islands', 'Sao Tome and Principe', 'Gibraltar',\n",
       "       'Spain', 'Austria', 'Heard Island and McDonald Islands',\n",
       "       'United States Virgin Islands', 'Brazil',\n",
       "       'French Southern Territories', 'Gambia', 'Pakistan', 'Slovenia',\n",
       "       'Zambia', 'United Kingdom', 'United Arab Emirates',\n",
       "       'Kyrgyz Republic', 'Namibia'], dtype=object)"
      ]
     },
     "execution_count": 15,
     "metadata": {},
     "output_type": "execute_result"
    }
   ],
   "source": [
    "# Let's check the Unique Locations\n",
    "\n",
    "sales['location'].unique()"
   ]
  },
  {
   "cell_type": "code",
   "execution_count": 20,
   "id": "0eb3a572",
   "metadata": {},
   "outputs": [],
   "source": [
    "# Let's plot the most frequent locations\n",
    "sales_location = sales['location'].value_counts().head(10)"
   ]
  },
  {
   "cell_type": "code",
   "execution_count": 34,
   "id": "943528c7",
   "metadata": {},
   "outputs": [
    {
     "data": {
      "text/plain": [
       "<Axes: title={'center': 'A chart of Most Frequent Locations by sales'}, xlabel='Location', ylabel='Frequency of Occurence'>"
      ]
     },
     "execution_count": 34,
     "metadata": {},
     "output_type": "execute_result"
    },
    {
     "data": {
      "image/png": "[encoded data removed]",
      "text/plain": [
       "<Figure size 640x480 with 1 Axes>"
      ]
     },
     "metadata": {},
     "output_type": "display_data"
    }
   ],
   "source": [
    "sales_location.sort_values(ascending=False).plot(kind='bar',xlabel = 'Location',ylabel = 'Frequency of Occurence',title = 'A chart of Most Frequent Locations by sales')"
   ]
  },
  {
   "cell_type": "code",
   "execution_count": 37,
   "id": "449d08b1",
   "metadata": {},
   "outputs": [],
   "source": [
    "# sales.loc['Brazil']"
   ]
  },
  {
   "cell_type": "code",
   "execution_count": null,
   "id": "bbda0614",
   "metadata": {},
   "outputs": [
    {
     "data": {
      "text/plain": [
       "243"
      ]
     },
     "execution_count": 16,
     "metadata": {},
     "output_type": "execute_result"
    }
   ],
   "source": [
    "# Let's check the numbers of unique locations\n",
    "\n",
    "sales['location'].nunique()"
   ]
  },
  {
   "cell_type": "code",
   "execution_count": null,
   "id": "dd511393",
   "metadata": {},
   "outputs": [
    {
     "data": {
      "text/plain": [
       "customer_id        192594\n",
       "device_id          192594\n",
       "item_id            192594\n",
       "line_item_id       192594\n",
       "order_id           192594\n",
       "event_id           192594\n",
       "event_timestamp    192594\n",
       "quantity           192594\n",
       "currency           192594\n",
       "checked_out_at     192594\n",
       "status             192594\n",
       "location           192594\n",
       "dtype: int64"
      ]
     },
     "execution_count": 4,
     "metadata": {},
     "output_type": "execute_result"
    }
   ],
   "source": [
    "# Filtering\n",
    "\n",
    "# Let's filter the success and failed statuses\n",
    "\n",
    "successful = sales[sales['status'] == 'success']\n",
    "successful\n"
   ]
  },
  {
   "cell_type": "code",
   "execution_count": 10,
   "id": "0df05ae1",
   "metadata": {},
   "outputs": [
    {
     "name": "stdout",
     "output_type": "stream",
     "text": [
      "The total number of successful sales is 192594\n"
     ]
    }
   ],
   "source": [
    "Total_successful_sales = successful['status'].sum()\n",
    "print(f\"The total number of successful sales is {Total_successful_sales}\")"
   ]
  },
  {
   "cell_type": "code",
   "execution_count": 19,
   "id": "55cf2f4a",
   "metadata": {},
   "outputs": [],
   "source": [
    "failed =sales[sales['status'] == 'failed']"
   ]
  },
  {
   "cell_type": "code",
   "execution_count": 25,
   "id": "86b90a3c",
   "metadata": {},
   "outputs": [
    {
     "name": "stdout",
     "output_type": "stream",
     "text": [
      "The total number of Failed sales is 196383\n"
     ]
    }
   ],
   "source": [
    "Total_Failed_Sales = failed['status'].count()\n",
    "print(f\"The total number of Failed sales is {Total_Failed_Sales}\")"
   ]
  },
  {
   "cell_type": "markdown",
   "id": "54519797",
   "metadata": {},
   "source": [
    "It can be seen there are more failed sales (196,383) than successful sales (192,594)"
   ]
  },
  {
   "cell_type": "code",
   "execution_count": 41,
   "id": "7957724d",
   "metadata": {},
   "outputs": [
    {
     "data": {
      "text/plain": [
       "status\n",
       "failed       196383\n",
       "success      192594\n",
       "cancelled    189343\n",
       "Name: count, dtype: int64"
      ]
     },
     "execution_count": 41,
     "metadata": {},
     "output_type": "execute_result"
    }
   ],
   "source": [
    "sales_status = sales['status'].value_counts()\n",
    "sales_status"
   ]
  },
  {
   "cell_type": "code",
   "execution_count": 74,
   "id": "111b67d7",
   "metadata": {},
   "outputs": [
    {
     "data": {
      "image/png": "[encoded data removed]",
      "text/plain": [
       "<Figure size 640x480 with 1 Axes>"
      ]
     },
     "metadata": {},
     "output_type": "display_data"
    }
   ],
   "source": [
    "# Let's visualize the sales status using seaborn\n",
    "# sns.barplot(x = sales_status.index, y = sales_status.values)\n",
    "\n",
    "plt.pie(sales_status, labels= sales_status.index,autopct=\"%1.1f%%\")\n",
    "plt.xlabel('Sales Status')\n",
    "plt.title('Sales Status Representation')\n",
    "plt.show()"
   ]
  },
  {
   "cell_type": "markdown",
   "id": "62039e9f",
   "metadata": {},
   "source": [
    "#### It can be seen that successful, failed and cancelled Sales are very similar in numbers. Improvements should be made so there are far greater successful sales and lesser failed and cancelled sales."
   ]
  },
  {
   "cell_type": "code",
   "execution_count": 18,
   "id": "9ccf53e1",
   "metadata": {},
   "outputs": [
    {
     "name": "stdout",
     "output_type": "stream",
     "text": [
      "The total quantities sold is 1740663\n"
     ]
    }
   ],
   "source": [
    "# Let's Check the total quantities of Products Sold\n",
    "quantities_sold = sales['quantity'].sum()\n",
    "print(f'The total quantities sold is {quantities_sold}')\n"
   ]
  },
  {
   "cell_type": "code",
   "execution_count": null,
   "id": "cda2bb62",
   "metadata": {},
   "outputs": [
    {
     "data": {
      "text/html": [
       "<div>\n",
       "<style scoped>\n",
       "    .dataframe tbody tr th:only-of-type {\n",
       "        vertical-align: middle;\n",
       "    }\n",
       "\n",
       "    .dataframe tbody tr th {\n",
       "        vertical-align: top;\n",
       "    }\n",
       "\n",
       "    .dataframe thead th {\n",
       "        text-align: right;\n",
       "    }\n",
       "</style>\n",
       "<table border=\"1\" class=\"dataframe\">\n",
       "  <thead>\n",
       "    <tr style=\"text-align: right;\">\n",
       "      <th></th>\n",
       "      <th>quantity</th>\n",
       "      <th>currency</th>\n",
       "      <th>location</th>\n",
       "    </tr>\n",
       "  </thead>\n",
       "  <tbody>\n",
       "    <tr>\n",
       "      <th>0</th>\n",
       "      <td>2</td>\n",
       "      <td>NGN</td>\n",
       "      <td>Saint Helena</td>\n",
       "    </tr>\n",
       "    <tr>\n",
       "      <th>1</th>\n",
       "      <td>4</td>\n",
       "      <td>NGN</td>\n",
       "      <td>Saint Helena</td>\n",
       "    </tr>\n",
       "    <tr>\n",
       "      <th>2</th>\n",
       "      <td>5</td>\n",
       "      <td>NGN</td>\n",
       "      <td>Saint Helena</td>\n",
       "    </tr>\n",
       "    <tr>\n",
       "      <th>3</th>\n",
       "      <td>1</td>\n",
       "      <td>NGN</td>\n",
       "      <td>Saint Helena</td>\n",
       "    </tr>\n",
       "    <tr>\n",
       "      <th>4</th>\n",
       "      <td>2</td>\n",
       "      <td>NGN</td>\n",
       "      <td>Saint Helena</td>\n",
       "    </tr>\n",
       "    <tr>\n",
       "      <th>...</th>\n",
       "      <td>...</td>\n",
       "      <td>...</td>\n",
       "      <td>...</td>\n",
       "    </tr>\n",
       "    <tr>\n",
       "      <th>578315</th>\n",
       "      <td>3</td>\n",
       "      <td>USD</td>\n",
       "      <td>Christmas Island</td>\n",
       "    </tr>\n",
       "    <tr>\n",
       "      <th>578316</th>\n",
       "      <td>3</td>\n",
       "      <td>USD</td>\n",
       "      <td>Christmas Island</td>\n",
       "    </tr>\n",
       "    <tr>\n",
       "      <th>578317</th>\n",
       "      <td>3</td>\n",
       "      <td>USD</td>\n",
       "      <td>Christmas Island</td>\n",
       "    </tr>\n",
       "    <tr>\n",
       "      <th>578318</th>\n",
       "      <td>3</td>\n",
       "      <td>USD</td>\n",
       "      <td>Christmas Island</td>\n",
       "    </tr>\n",
       "    <tr>\n",
       "      <th>578319</th>\n",
       "      <td>3</td>\n",
       "      <td>USD</td>\n",
       "      <td>Christmas Island</td>\n",
       "    </tr>\n",
       "  </tbody>\n",
       "</table>\n",
       "<p>578320 rows × 3 columns</p>\n",
       "</div>"
      ],
      "text/plain": [
       "        quantity currency          location\n",
       "0              2      NGN      Saint Helena\n",
       "1              4      NGN      Saint Helena\n",
       "2              5      NGN      Saint Helena\n",
       "3              1      NGN      Saint Helena\n",
       "4              2      NGN      Saint Helena\n",
       "...          ...      ...               ...\n",
       "578315         3      USD  Christmas Island\n",
       "578316         3      USD  Christmas Island\n",
       "578317         3      USD  Christmas Island\n",
       "578318         3      USD  Christmas Island\n",
       "578319         3      USD  Christmas Island\n",
       "\n",
       "[578320 rows x 3 columns]"
      ]
     },
     "execution_count": 55,
     "metadata": {},
     "output_type": "execute_result"
    }
   ],
   "source": [
    "# Let's filter the quantity,currency and location\n",
    "\n",
    "sales_quantity_currency = sales.loc[:,['quantity','currency','location']]"
   ]
  },
  {
   "cell_type": "code",
   "execution_count": 56,
   "id": "09c84910",
   "metadata": {},
   "outputs": [
    {
     "data": {
      "text/plain": [
       "array(['NGN', 'USD', 'GBP'], dtype=object)"
      ]
     },
     "execution_count": 56,
     "metadata": {},
     "output_type": "execute_result"
    }
   ],
   "source": [
    "sales['currency'].unique()"
   ]
  },
  {
   "cell_type": "code",
   "execution_count": 59,
   "id": "a4be695f",
   "metadata": {},
   "outputs": [
    {
     "data": {
      "text/plain": [
       "currency\n",
       "USD    198037\n",
       "GBP    191403\n",
       "NGN    188880\n",
       "Name: count, dtype: int64"
      ]
     },
     "execution_count": 59,
     "metadata": {},
     "output_type": "execute_result"
    }
   ],
   "source": [
    "# Filtering the sales by currency\n",
    "sales_currency = sales['currency'].value_counts()\n",
    "sales_currency"
   ]
  },
  {
   "cell_type": "code",
   "execution_count": 61,
   "id": "f90f7c02",
   "metadata": {},
   "outputs": [
    {
     "data": {
      "text/plain": [
       "<Axes: xlabel='currency', ylabel='count'>"
      ]
     },
     "execution_count": 61,
     "metadata": {},
     "output_type": "execute_result"
    },
    {
     "data": {
      "image/png": "[encoded data removed]",
      "text/plain": [
       "<Figure size 640x480 with 1 Axes>"
      ]
     },
     "metadata": {},
     "output_type": "display_data"
    }
   ],
   "source": [
    "sns.barplot(sales_currency)"
   ]
  },
  {
   "cell_type": "code",
   "execution_count": 63,
   "id": "f995d3e2",
   "metadata": {},
   "outputs": [
    {
     "data": {
      "text/html": [
       "<div>\n",
       "<style scoped>\n",
       "    .dataframe tbody tr th:only-of-type {\n",
       "        vertical-align: middle;\n",
       "    }\n",
       "\n",
       "    .dataframe tbody tr th {\n",
       "        vertical-align: top;\n",
       "    }\n",
       "\n",
       "    .dataframe thead th {\n",
       "        text-align: right;\n",
       "    }\n",
       "</style>\n",
       "<table border=\"1\" class=\"dataframe\">\n",
       "  <thead>\n",
       "    <tr style=\"text-align: right;\">\n",
       "      <th></th>\n",
       "      <th>customer_id</th>\n",
       "      <th>device_id</th>\n",
       "      <th>item_id</th>\n",
       "      <th>line_item_id</th>\n",
       "      <th>order_id</th>\n",
       "      <th>event_id</th>\n",
       "      <th>event_timestamp</th>\n",
       "      <th>quantity</th>\n",
       "      <th>currency</th>\n",
       "      <th>checked_out_at</th>\n",
       "      <th>status</th>\n",
       "      <th>location</th>\n",
       "    </tr>\n",
       "  </thead>\n",
       "  <tbody>\n",
       "    <tr>\n",
       "      <th>88</th>\n",
       "      <td>1afae3c7-6439-477e-b783-2da4b2d52dd3</td>\n",
       "      <td>eab9f1d1-c830-44ed-a34f-d65ac40c54dc</td>\n",
       "      <td>13</td>\n",
       "      <td>3208</td>\n",
       "      <td>54722bfc-5e76-403e-b8ee-f3ece75e0695</td>\n",
       "      <td>14843</td>\n",
       "      <td>2024-03-22 20:28:33.725397</td>\n",
       "      <td>2</td>\n",
       "      <td>USD</td>\n",
       "      <td>2024-03-30 04:06:10.418189</td>\n",
       "      <td>cancelled</td>\n",
       "      <td>Ecuador</td>\n",
       "    </tr>\n",
       "    <tr>\n",
       "      <th>89</th>\n",
       "      <td>1afae3c7-6439-477e-b783-2da4b2d52dd3</td>\n",
       "      <td>eab9f1d1-c830-44ed-a34f-d65ac40c54dc</td>\n",
       "      <td>6</td>\n",
       "      <td>3209</td>\n",
       "      <td>54722bfc-5e76-403e-b8ee-f3ece75e0695</td>\n",
       "      <td>14843</td>\n",
       "      <td>2024-03-22 20:28:33.725397</td>\n",
       "      <td>1</td>\n",
       "      <td>USD</td>\n",
       "      <td>2024-03-30 04:06:10.418189</td>\n",
       "      <td>cancelled</td>\n",
       "      <td>Ecuador</td>\n",
       "    </tr>\n",
       "    <tr>\n",
       "      <th>90</th>\n",
       "      <td>1afae3c7-6439-477e-b783-2da4b2d52dd3</td>\n",
       "      <td>eab9f1d1-c830-44ed-a34f-d65ac40c54dc</td>\n",
       "      <td>15</td>\n",
       "      <td>3210</td>\n",
       "      <td>54722bfc-5e76-403e-b8ee-f3ece75e0695</td>\n",
       "      <td>14843</td>\n",
       "      <td>2024-03-22 20:28:33.725397</td>\n",
       "      <td>5</td>\n",
       "      <td>USD</td>\n",
       "      <td>2024-03-30 04:06:10.418189</td>\n",
       "      <td>cancelled</td>\n",
       "      <td>Ecuador</td>\n",
       "    </tr>\n",
       "    <tr>\n",
       "      <th>91</th>\n",
       "      <td>1afae3c7-6439-477e-b783-2da4b2d52dd3</td>\n",
       "      <td>eab9f1d1-c830-44ed-a34f-d65ac40c54dc</td>\n",
       "      <td>8</td>\n",
       "      <td>3211</td>\n",
       "      <td>54722bfc-5e76-403e-b8ee-f3ece75e0695</td>\n",
       "      <td>14843</td>\n",
       "      <td>2024-03-22 20:28:33.725397</td>\n",
       "      <td>3</td>\n",
       "      <td>USD</td>\n",
       "      <td>2024-03-30 04:06:10.418189</td>\n",
       "      <td>cancelled</td>\n",
       "      <td>Ecuador</td>\n",
       "    </tr>\n",
       "    <tr>\n",
       "      <th>92</th>\n",
       "      <td>1afae3c7-6439-477e-b783-2da4b2d52dd3</td>\n",
       "      <td>eab9f1d1-c830-44ed-a34f-d65ac40c54dc</td>\n",
       "      <td>1</td>\n",
       "      <td>3212</td>\n",
       "      <td>54722bfc-5e76-403e-b8ee-f3ece75e0695</td>\n",
       "      <td>14843</td>\n",
       "      <td>2024-03-22 20:28:33.725397</td>\n",
       "      <td>3</td>\n",
       "      <td>USD</td>\n",
       "      <td>2024-03-30 04:06:10.418189</td>\n",
       "      <td>cancelled</td>\n",
       "      <td>Ecuador</td>\n",
       "    </tr>\n",
       "    <tr>\n",
       "      <th>...</th>\n",
       "      <td>...</td>\n",
       "      <td>...</td>\n",
       "      <td>...</td>\n",
       "      <td>...</td>\n",
       "      <td>...</td>\n",
       "      <td>...</td>\n",
       "      <td>...</td>\n",
       "      <td>...</td>\n",
       "      <td>...</td>\n",
       "      <td>...</td>\n",
       "      <td>...</td>\n",
       "      <td>...</td>\n",
       "    </tr>\n",
       "    <tr>\n",
       "      <th>578315</th>\n",
       "      <td>ef15a7b3-326c-405f-9eef-3dbf43c85a9d</td>\n",
       "      <td>74bb4936-9890-421b-a62a-ee544191fa1e</td>\n",
       "      <td>1</td>\n",
       "      <td>34941</td>\n",
       "      <td>ad73a2a0-354a-40bf-81cd-ff017ac859d5</td>\n",
       "      <td>161958</td>\n",
       "      <td>2024-03-30 04:03:18.224196</td>\n",
       "      <td>3</td>\n",
       "      <td>USD</td>\n",
       "      <td>2024-03-30 04:14:18.224200</td>\n",
       "      <td>failed</td>\n",
       "      <td>Christmas Island</td>\n",
       "    </tr>\n",
       "    <tr>\n",
       "      <th>578316</th>\n",
       "      <td>ef15a7b3-326c-405f-9eef-3dbf43c85a9d</td>\n",
       "      <td>74bb4936-9890-421b-a62a-ee544191fa1e</td>\n",
       "      <td>4</td>\n",
       "      <td>34940</td>\n",
       "      <td>ad73a2a0-354a-40bf-81cd-ff017ac859d5</td>\n",
       "      <td>161959</td>\n",
       "      <td>2024-03-30 04:03:18.224198</td>\n",
       "      <td>3</td>\n",
       "      <td>USD</td>\n",
       "      <td>2024-03-30 04:14:18.224200</td>\n",
       "      <td>failed</td>\n",
       "      <td>Christmas Island</td>\n",
       "    </tr>\n",
       "    <tr>\n",
       "      <th>578317</th>\n",
       "      <td>ef15a7b3-326c-405f-9eef-3dbf43c85a9d</td>\n",
       "      <td>74bb4936-9890-421b-a62a-ee544191fa1e</td>\n",
       "      <td>1</td>\n",
       "      <td>34941</td>\n",
       "      <td>ad73a2a0-354a-40bf-81cd-ff017ac859d5</td>\n",
       "      <td>161959</td>\n",
       "      <td>2024-03-30 04:03:18.224198</td>\n",
       "      <td>3</td>\n",
       "      <td>USD</td>\n",
       "      <td>2024-03-30 04:14:18.224200</td>\n",
       "      <td>failed</td>\n",
       "      <td>Christmas Island</td>\n",
       "    </tr>\n",
       "    <tr>\n",
       "      <th>578318</th>\n",
       "      <td>ef15a7b3-326c-405f-9eef-3dbf43c85a9d</td>\n",
       "      <td>74bb4936-9890-421b-a62a-ee544191fa1e</td>\n",
       "      <td>4</td>\n",
       "      <td>34940</td>\n",
       "      <td>ad73a2a0-354a-40bf-81cd-ff017ac859d5</td>\n",
       "      <td>161960</td>\n",
       "      <td>2024-03-30 04:14:18.224200</td>\n",
       "      <td>3</td>\n",
       "      <td>USD</td>\n",
       "      <td>2024-03-30 04:14:18.224200</td>\n",
       "      <td>failed</td>\n",
       "      <td>Christmas Island</td>\n",
       "    </tr>\n",
       "    <tr>\n",
       "      <th>578319</th>\n",
       "      <td>ef15a7b3-326c-405f-9eef-3dbf43c85a9d</td>\n",
       "      <td>74bb4936-9890-421b-a62a-ee544191fa1e</td>\n",
       "      <td>1</td>\n",
       "      <td>34941</td>\n",
       "      <td>ad73a2a0-354a-40bf-81cd-ff017ac859d5</td>\n",
       "      <td>161960</td>\n",
       "      <td>2024-03-30 04:14:18.224200</td>\n",
       "      <td>3</td>\n",
       "      <td>USD</td>\n",
       "      <td>2024-03-30 04:14:18.224200</td>\n",
       "      <td>failed</td>\n",
       "      <td>Christmas Island</td>\n",
       "    </tr>\n",
       "  </tbody>\n",
       "</table>\n",
       "<p>198037 rows × 12 columns</p>\n",
       "</div>"
      ],
      "text/plain": [
       "                                 customer_id  \\\n",
       "88      1afae3c7-6439-477e-b783-2da4b2d52dd3   \n",
       "89      1afae3c7-6439-477e-b783-2da4b2d52dd3   \n",
       "90      1afae3c7-6439-477e-b783-2da4b2d52dd3   \n",
       "91      1afae3c7-6439-477e-b783-2da4b2d52dd3   \n",
       "92      1afae3c7-6439-477e-b783-2da4b2d52dd3   \n",
       "...                                      ...   \n",
       "578315  ef15a7b3-326c-405f-9eef-3dbf43c85a9d   \n",
       "578316  ef15a7b3-326c-405f-9eef-3dbf43c85a9d   \n",
       "578317  ef15a7b3-326c-405f-9eef-3dbf43c85a9d   \n",
       "578318  ef15a7b3-326c-405f-9eef-3dbf43c85a9d   \n",
       "578319  ef15a7b3-326c-405f-9eef-3dbf43c85a9d   \n",
       "\n",
       "                                   device_id  item_id  line_item_id  \\\n",
       "88      eab9f1d1-c830-44ed-a34f-d65ac40c54dc       13          3208   \n",
       "89      eab9f1d1-c830-44ed-a34f-d65ac40c54dc        6          3209   \n",
       "90      eab9f1d1-c830-44ed-a34f-d65ac40c54dc       15          3210   \n",
       "91      eab9f1d1-c830-44ed-a34f-d65ac40c54dc        8          3211   \n",
       "92      eab9f1d1-c830-44ed-a34f-d65ac40c54dc        1          3212   \n",
       "...                                      ...      ...           ...   \n",
       "578315  74bb4936-9890-421b-a62a-ee544191fa1e        1         34941   \n",
       "578316  74bb4936-9890-421b-a62a-ee544191fa1e        4         34940   \n",
       "578317  74bb4936-9890-421b-a62a-ee544191fa1e        1         34941   \n",
       "578318  74bb4936-9890-421b-a62a-ee544191fa1e        4         34940   \n",
       "578319  74bb4936-9890-421b-a62a-ee544191fa1e        1         34941   \n",
       "\n",
       "                                    order_id  event_id  \\\n",
       "88      54722bfc-5e76-403e-b8ee-f3ece75e0695     14843   \n",
       "89      54722bfc-5e76-403e-b8ee-f3ece75e0695     14843   \n",
       "90      54722bfc-5e76-403e-b8ee-f3ece75e0695     14843   \n",
       "91      54722bfc-5e76-403e-b8ee-f3ece75e0695     14843   \n",
       "92      54722bfc-5e76-403e-b8ee-f3ece75e0695     14843   \n",
       "...                                      ...       ...   \n",
       "578315  ad73a2a0-354a-40bf-81cd-ff017ac859d5    161958   \n",
       "578316  ad73a2a0-354a-40bf-81cd-ff017ac859d5    161959   \n",
       "578317  ad73a2a0-354a-40bf-81cd-ff017ac859d5    161959   \n",
       "578318  ad73a2a0-354a-40bf-81cd-ff017ac859d5    161960   \n",
       "578319  ad73a2a0-354a-40bf-81cd-ff017ac859d5    161960   \n",
       "\n",
       "                   event_timestamp  quantity currency  \\\n",
       "88      2024-03-22 20:28:33.725397         2      USD   \n",
       "89      2024-03-22 20:28:33.725397         1      USD   \n",
       "90      2024-03-22 20:28:33.725397         5      USD   \n",
       "91      2024-03-22 20:28:33.725397         3      USD   \n",
       "92      2024-03-22 20:28:33.725397         3      USD   \n",
       "...                            ...       ...      ...   \n",
       "578315  2024-03-30 04:03:18.224196         3      USD   \n",
       "578316  2024-03-30 04:03:18.224198         3      USD   \n",
       "578317  2024-03-30 04:03:18.224198         3      USD   \n",
       "578318  2024-03-30 04:14:18.224200         3      USD   \n",
       "578319  2024-03-30 04:14:18.224200         3      USD   \n",
       "\n",
       "                    checked_out_at     status          location  \n",
       "88      2024-03-30 04:06:10.418189  cancelled           Ecuador  \n",
       "89      2024-03-30 04:06:10.418189  cancelled           Ecuador  \n",
       "90      2024-03-30 04:06:10.418189  cancelled           Ecuador  \n",
       "91      2024-03-30 04:06:10.418189  cancelled           Ecuador  \n",
       "92      2024-03-30 04:06:10.418189  cancelled           Ecuador  \n",
       "...                            ...        ...               ...  \n",
       "578315  2024-03-30 04:14:18.224200     failed  Christmas Island  \n",
       "578316  2024-03-30 04:14:18.224200     failed  Christmas Island  \n",
       "578317  2024-03-30 04:14:18.224200     failed  Christmas Island  \n",
       "578318  2024-03-30 04:14:18.224200     failed  Christmas Island  \n",
       "578319  2024-03-30 04:14:18.224200     failed  Christmas Island  \n",
       "\n",
       "[198037 rows x 12 columns]"
      ]
     },
     "execution_count": 63,
     "metadata": {},
     "output_type": "execute_result"
    }
   ],
   "source": [
    "# Let's filter USD transactions\n",
    "\n",
    "sales_usd = sales[sales['currency'] == 'USD']\n",
    "sales_usd"
   ]
  },
  {
   "cell_type": "code",
   "execution_count": null,
   "id": "099045e5",
   "metadata": {},
   "outputs": [
    {
     "name": "stdout",
     "output_type": "stream",
     "text": [
      "198,037 transactions were performed using United States Dollar.\n"
     ]
    }
   ],
   "source": [
    "# Lets check the total transactions performed using USD\n",
    "sales_usd['currency'].value_counts()\n",
    "print(f\"198,037 transactions were performed using United States Dollar.\")"
   ]
  },
  {
   "cell_type": "code",
   "execution_count": 73,
   "id": "970fcc67",
   "metadata": {},
   "outputs": [
    {
     "data": {
      "text/plain": [
       "status\n",
       "failed       68183\n",
       "cancelled    67672\n",
       "success      62182\n",
       "Name: count, dtype: int64"
      ]
     },
     "execution_count": 73,
     "metadata": {},
     "output_type": "execute_result"
    }
   ],
   "source": [
    "# Lets check the percentage of USD transactions that failed,succed,and canceled.\n",
    "\n",
    "sales_usd_status = sales_usd['status'].value_counts()\n",
    "sales_usd_status"
   ]
  },
  {
   "cell_type": "code",
   "execution_count": 101,
   "id": "ef8ace71",
   "metadata": {},
   "outputs": [
    {
     "data": {
      "text/plain": [
       "Text(0.5, 1.0, 'Sales in United States Dollars Analysis')"
      ]
     },
     "execution_count": 101,
     "metadata": {},
     "output_type": "execute_result"
    },
    {
     "data": {
      "image/png": "[encoded data removed]",
      "text/plain": [
       "<Figure size 640x480 with 1 Axes>"
      ]
     },
     "metadata": {},
     "output_type": "display_data"
    }
   ],
   "source": [
    "# Let visualize this\n",
    "\n",
    "sales_usd_status.plot(kind='bar',color = 'purple')\n",
    "plt.xlabel('Sales in USD status')\n",
    "plt.ylabel('Index')\n",
    "plt.xticks(rotation = 45)\n",
    "plt.title('Sales in United States Dollars Analysis')"
   ]
  },
  {
   "cell_type": "markdown",
   "id": "13165d78",
   "metadata": {},
   "source": [
    "#### Conclusion.\n",
    "\n",
    "It can be seen that sales made in USD resulted in more failed and cancelled transactions than successful ones."
   ]
  },
  {
   "cell_type": "code",
   "execution_count": 102,
   "id": "ca0b6cf8",
   "metadata": {},
   "outputs": [
    {
     "data": {
      "text/html": [
       "<div>\n",
       "<style scoped>\n",
       "    .dataframe tbody tr th:only-of-type {\n",
       "        vertical-align: middle;\n",
       "    }\n",
       "\n",
       "    .dataframe tbody tr th {\n",
       "        vertical-align: top;\n",
       "    }\n",
       "\n",
       "    .dataframe thead th {\n",
       "        text-align: right;\n",
       "    }\n",
       "</style>\n",
       "<table border=\"1\" class=\"dataframe\">\n",
       "  <thead>\n",
       "    <tr style=\"text-align: right;\">\n",
       "      <th></th>\n",
       "      <th>customer_id</th>\n",
       "      <th>device_id</th>\n",
       "      <th>item_id</th>\n",
       "      <th>line_item_id</th>\n",
       "      <th>order_id</th>\n",
       "      <th>event_id</th>\n",
       "      <th>event_timestamp</th>\n",
       "      <th>quantity</th>\n",
       "      <th>currency</th>\n",
       "      <th>checked_out_at</th>\n",
       "      <th>status</th>\n",
       "      <th>location</th>\n",
       "    </tr>\n",
       "  </thead>\n",
       "  <tbody>\n",
       "    <tr>\n",
       "      <th>222</th>\n",
       "      <td>11f73687-45ab-4665-9b1a-14356a593623</td>\n",
       "      <td>aefb983d-2b30-4e1b-97c1-3816f2aafd9d</td>\n",
       "      <td>13</td>\n",
       "      <td>3217</td>\n",
       "      <td>bb15e304-1f09-4360-85da-1bbf58aa9669</td>\n",
       "      <td>14918</td>\n",
       "      <td>2024-03-21 03:30:30.035833</td>\n",
       "      <td>5</td>\n",
       "      <td>GBP</td>\n",
       "      <td>2024-03-30 04:13:10.429566</td>\n",
       "      <td>success</td>\n",
       "      <td>Grenada</td>\n",
       "    </tr>\n",
       "    <tr>\n",
       "      <th>223</th>\n",
       "      <td>11f73687-45ab-4665-9b1a-14356a593623</td>\n",
       "      <td>aefb983d-2b30-4e1b-97c1-3816f2aafd9d</td>\n",
       "      <td>9</td>\n",
       "      <td>3218</td>\n",
       "      <td>bb15e304-1f09-4360-85da-1bbf58aa9669</td>\n",
       "      <td>14918</td>\n",
       "      <td>2024-03-21 03:30:30.035833</td>\n",
       "      <td>4</td>\n",
       "      <td>GBP</td>\n",
       "      <td>2024-03-30 04:13:10.429566</td>\n",
       "      <td>success</td>\n",
       "      <td>Grenada</td>\n",
       "    </tr>\n",
       "    <tr>\n",
       "      <th>224</th>\n",
       "      <td>11f73687-45ab-4665-9b1a-14356a593623</td>\n",
       "      <td>aefb983d-2b30-4e1b-97c1-3816f2aafd9d</td>\n",
       "      <td>2</td>\n",
       "      <td>3219</td>\n",
       "      <td>bb15e304-1f09-4360-85da-1bbf58aa9669</td>\n",
       "      <td>14918</td>\n",
       "      <td>2024-03-21 03:30:30.035833</td>\n",
       "      <td>4</td>\n",
       "      <td>GBP</td>\n",
       "      <td>2024-03-30 04:13:10.429566</td>\n",
       "      <td>success</td>\n",
       "      <td>Grenada</td>\n",
       "    </tr>\n",
       "    <tr>\n",
       "      <th>225</th>\n",
       "      <td>11f73687-45ab-4665-9b1a-14356a593623</td>\n",
       "      <td>aefb983d-2b30-4e1b-97c1-3816f2aafd9d</td>\n",
       "      <td>12</td>\n",
       "      <td>3220</td>\n",
       "      <td>bb15e304-1f09-4360-85da-1bbf58aa9669</td>\n",
       "      <td>14918</td>\n",
       "      <td>2024-03-21 03:30:30.035833</td>\n",
       "      <td>5</td>\n",
       "      <td>GBP</td>\n",
       "      <td>2024-03-30 04:13:10.429566</td>\n",
       "      <td>success</td>\n",
       "      <td>Grenada</td>\n",
       "    </tr>\n",
       "    <tr>\n",
       "      <th>226</th>\n",
       "      <td>11f73687-45ab-4665-9b1a-14356a593623</td>\n",
       "      <td>aefb983d-2b30-4e1b-97c1-3816f2aafd9d</td>\n",
       "      <td>6</td>\n",
       "      <td>3221</td>\n",
       "      <td>bb15e304-1f09-4360-85da-1bbf58aa9669</td>\n",
       "      <td>14918</td>\n",
       "      <td>2024-03-21 03:30:30.035833</td>\n",
       "      <td>2</td>\n",
       "      <td>GBP</td>\n",
       "      <td>2024-03-30 04:13:10.429566</td>\n",
       "      <td>success</td>\n",
       "      <td>Grenada</td>\n",
       "    </tr>\n",
       "    <tr>\n",
       "      <th>...</th>\n",
       "      <td>...</td>\n",
       "      <td>...</td>\n",
       "      <td>...</td>\n",
       "      <td>...</td>\n",
       "      <td>...</td>\n",
       "      <td>...</td>\n",
       "      <td>...</td>\n",
       "      <td>...</td>\n",
       "      <td>...</td>\n",
       "      <td>...</td>\n",
       "      <td>...</td>\n",
       "      <td>...</td>\n",
       "    </tr>\n",
       "    <tr>\n",
       "      <th>578295</th>\n",
       "      <td>3aa213f4-2699-43b4-96b8-bf0de1cda133</td>\n",
       "      <td>35a035eb-5b04-45ff-8be7-66b8bbcc20a4</td>\n",
       "      <td>10</td>\n",
       "      <td>34935</td>\n",
       "      <td>4c2defc5-b1fe-4f2f-90b1-6ccce7bf481d</td>\n",
       "      <td>161950</td>\n",
       "      <td>2024-03-30 04:19:18.223427</td>\n",
       "      <td>4</td>\n",
       "      <td>GBP</td>\n",
       "      <td>2024-03-30 04:19:18.223427</td>\n",
       "      <td>cancelled</td>\n",
       "      <td>Liechtenstein</td>\n",
       "    </tr>\n",
       "    <tr>\n",
       "      <th>578296</th>\n",
       "      <td>3aa213f4-2699-43b4-96b8-bf0de1cda133</td>\n",
       "      <td>35a035eb-5b04-45ff-8be7-66b8bbcc20a4</td>\n",
       "      <td>6</td>\n",
       "      <td>34936</td>\n",
       "      <td>4c2defc5-b1fe-4f2f-90b1-6ccce7bf481d</td>\n",
       "      <td>161950</td>\n",
       "      <td>2024-03-30 04:19:18.223427</td>\n",
       "      <td>3</td>\n",
       "      <td>GBP</td>\n",
       "      <td>2024-03-30 04:19:18.223427</td>\n",
       "      <td>cancelled</td>\n",
       "      <td>Liechtenstein</td>\n",
       "    </tr>\n",
       "    <tr>\n",
       "      <th>578297</th>\n",
       "      <td>3aa213f4-2699-43b4-96b8-bf0de1cda133</td>\n",
       "      <td>35a035eb-5b04-45ff-8be7-66b8bbcc20a4</td>\n",
       "      <td>4</td>\n",
       "      <td>34937</td>\n",
       "      <td>4c2defc5-b1fe-4f2f-90b1-6ccce7bf481d</td>\n",
       "      <td>161950</td>\n",
       "      <td>2024-03-30 04:19:18.223427</td>\n",
       "      <td>3</td>\n",
       "      <td>GBP</td>\n",
       "      <td>2024-03-30 04:19:18.223427</td>\n",
       "      <td>cancelled</td>\n",
       "      <td>Liechtenstein</td>\n",
       "    </tr>\n",
       "    <tr>\n",
       "      <th>578298</th>\n",
       "      <td>3aa213f4-2699-43b4-96b8-bf0de1cda133</td>\n",
       "      <td>35a035eb-5b04-45ff-8be7-66b8bbcc20a4</td>\n",
       "      <td>13</td>\n",
       "      <td>34938</td>\n",
       "      <td>4c2defc5-b1fe-4f2f-90b1-6ccce7bf481d</td>\n",
       "      <td>161950</td>\n",
       "      <td>2024-03-30 04:19:18.223427</td>\n",
       "      <td>2</td>\n",
       "      <td>GBP</td>\n",
       "      <td>2024-03-30 04:19:18.223427</td>\n",
       "      <td>cancelled</td>\n",
       "      <td>Liechtenstein</td>\n",
       "    </tr>\n",
       "    <tr>\n",
       "      <th>578299</th>\n",
       "      <td>3aa213f4-2699-43b4-96b8-bf0de1cda133</td>\n",
       "      <td>35a035eb-5b04-45ff-8be7-66b8bbcc20a4</td>\n",
       "      <td>3</td>\n",
       "      <td>34939</td>\n",
       "      <td>4c2defc5-b1fe-4f2f-90b1-6ccce7bf481d</td>\n",
       "      <td>161950</td>\n",
       "      <td>2024-03-30 04:19:18.223427</td>\n",
       "      <td>2</td>\n",
       "      <td>GBP</td>\n",
       "      <td>2024-03-30 04:19:18.223427</td>\n",
       "      <td>cancelled</td>\n",
       "      <td>Liechtenstein</td>\n",
       "    </tr>\n",
       "  </tbody>\n",
       "</table>\n",
       "<p>191403 rows × 12 columns</p>\n",
       "</div>"
      ],
      "text/plain": [
       "                                 customer_id  \\\n",
       "222     11f73687-45ab-4665-9b1a-14356a593623   \n",
       "223     11f73687-45ab-4665-9b1a-14356a593623   \n",
       "224     11f73687-45ab-4665-9b1a-14356a593623   \n",
       "225     11f73687-45ab-4665-9b1a-14356a593623   \n",
       "226     11f73687-45ab-4665-9b1a-14356a593623   \n",
       "...                                      ...   \n",
       "578295  3aa213f4-2699-43b4-96b8-bf0de1cda133   \n",
       "578296  3aa213f4-2699-43b4-96b8-bf0de1cda133   \n",
       "578297  3aa213f4-2699-43b4-96b8-bf0de1cda133   \n",
       "578298  3aa213f4-2699-43b4-96b8-bf0de1cda133   \n",
       "578299  3aa213f4-2699-43b4-96b8-bf0de1cda133   \n",
       "\n",
       "                                   device_id  item_id  line_item_id  \\\n",
       "222     aefb983d-2b30-4e1b-97c1-3816f2aafd9d       13          3217   \n",
       "223     aefb983d-2b30-4e1b-97c1-3816f2aafd9d        9          3218   \n",
       "224     aefb983d-2b30-4e1b-97c1-3816f2aafd9d        2          3219   \n",
       "225     aefb983d-2b30-4e1b-97c1-3816f2aafd9d       12          3220   \n",
       "226     aefb983d-2b30-4e1b-97c1-3816f2aafd9d        6          3221   \n",
       "...                                      ...      ...           ...   \n",
       "578295  35a035eb-5b04-45ff-8be7-66b8bbcc20a4       10         34935   \n",
       "578296  35a035eb-5b04-45ff-8be7-66b8bbcc20a4        6         34936   \n",
       "578297  35a035eb-5b04-45ff-8be7-66b8bbcc20a4        4         34937   \n",
       "578298  35a035eb-5b04-45ff-8be7-66b8bbcc20a4       13         34938   \n",
       "578299  35a035eb-5b04-45ff-8be7-66b8bbcc20a4        3         34939   \n",
       "\n",
       "                                    order_id  event_id  \\\n",
       "222     bb15e304-1f09-4360-85da-1bbf58aa9669     14918   \n",
       "223     bb15e304-1f09-4360-85da-1bbf58aa9669     14918   \n",
       "224     bb15e304-1f09-4360-85da-1bbf58aa9669     14918   \n",
       "225     bb15e304-1f09-4360-85da-1bbf58aa9669     14918   \n",
       "226     bb15e304-1f09-4360-85da-1bbf58aa9669     14918   \n",
       "...                                      ...       ...   \n",
       "578295  4c2defc5-b1fe-4f2f-90b1-6ccce7bf481d    161950   \n",
       "578296  4c2defc5-b1fe-4f2f-90b1-6ccce7bf481d    161950   \n",
       "578297  4c2defc5-b1fe-4f2f-90b1-6ccce7bf481d    161950   \n",
       "578298  4c2defc5-b1fe-4f2f-90b1-6ccce7bf481d    161950   \n",
       "578299  4c2defc5-b1fe-4f2f-90b1-6ccce7bf481d    161950   \n",
       "\n",
       "                   event_timestamp  quantity currency  \\\n",
       "222     2024-03-21 03:30:30.035833         5      GBP   \n",
       "223     2024-03-21 03:30:30.035833         4      GBP   \n",
       "224     2024-03-21 03:30:30.035833         4      GBP   \n",
       "225     2024-03-21 03:30:30.035833         5      GBP   \n",
       "226     2024-03-21 03:30:30.035833         2      GBP   \n",
       "...                            ...       ...      ...   \n",
       "578295  2024-03-30 04:19:18.223427         4      GBP   \n",
       "578296  2024-03-30 04:19:18.223427         3      GBP   \n",
       "578297  2024-03-30 04:19:18.223427         3      GBP   \n",
       "578298  2024-03-30 04:19:18.223427         2      GBP   \n",
       "578299  2024-03-30 04:19:18.223427         2      GBP   \n",
       "\n",
       "                    checked_out_at     status       location  \n",
       "222     2024-03-30 04:13:10.429566    success        Grenada  \n",
       "223     2024-03-30 04:13:10.429566    success        Grenada  \n",
       "224     2024-03-30 04:13:10.429566    success        Grenada  \n",
       "225     2024-03-30 04:13:10.429566    success        Grenada  \n",
       "226     2024-03-30 04:13:10.429566    success        Grenada  \n",
       "...                            ...        ...            ...  \n",
       "578295  2024-03-30 04:19:18.223427  cancelled  Liechtenstein  \n",
       "578296  2024-03-30 04:19:18.223427  cancelled  Liechtenstein  \n",
       "578297  2024-03-30 04:19:18.223427  cancelled  Liechtenstein  \n",
       "578298  2024-03-30 04:19:18.223427  cancelled  Liechtenstein  \n",
       "578299  2024-03-30 04:19:18.223427  cancelled  Liechtenstein  \n",
       "\n",
       "[191403 rows x 12 columns]"
      ]
     },
     "execution_count": 102,
     "metadata": {},
     "output_type": "execute_result"
    }
   ],
   "source": [
    "# Let's filter GBP transactions\n",
    "\n",
    "sales_GBP = sales[sales['currency'] == 'GBP']\n",
    "sales_GBP"
   ]
  },
  {
   "cell_type": "code",
   "execution_count": 106,
   "id": "83189ecf",
   "metadata": {},
   "outputs": [
    {
     "name": "stdout",
     "output_type": "stream",
     "text": [
      "191,403 transactions were performed using Great Britain Pounds.\n"
     ]
    }
   ],
   "source": [
    "# Lets check the total transactions performed using USD\n",
    "sales_GBP['currency'].value_counts()\n",
    "print(f\"191,403 transactions were performed using Great Britain Pounds.\")"
   ]
  },
  {
   "cell_type": "code",
   "execution_count": 108,
   "id": "9ba535d2",
   "metadata": {},
   "outputs": [
    {
     "data": {
      "text/plain": [
       "status\n",
       "cancelled    64324\n",
       "success      64266\n",
       "failed       62813\n",
       "Name: count, dtype: int64"
      ]
     },
     "execution_count": 108,
     "metadata": {},
     "output_type": "execute_result"
    }
   ],
   "source": [
    "# Lets check the percentage of GBP transactions that failed,succed,and canceled.\n",
    "\n",
    "sales_GBP_status = sales_GBP['status'].value_counts()\n",
    "sales_GBP_status"
   ]
  },
  {
   "cell_type": "code",
   "execution_count": 113,
   "id": "50e5e24e",
   "metadata": {},
   "outputs": [
    {
     "data": {
      "text/plain": [
       "Text(0.5, 1.0, 'Sales in Great Britain Pounds Analysis')"
      ]
     },
     "execution_count": 113,
     "metadata": {},
     "output_type": "execute_result"
    },
    {
     "data": {
      "image/png": "[encoded data removed]",
      "text/plain": [
       "<Figure size 640x480 with 1 Axes>"
      ]
     },
     "metadata": {},
     "output_type": "display_data"
    }
   ],
   "source": [
    "# Let's visualize this\n",
    "sales_GBP_status.plot(kind='line',color = 'indigo')\n",
    "plt.xlabel('Sales in GBP status')\n",
    "plt.ylabel('Index')\n",
    "plt.xticks(rotation = 45)\n",
    "plt.title('Sales in Great Britain Pounds Analysis')"
   ]
  },
  {
   "cell_type": "markdown",
   "id": "2540a9cf",
   "metadata": {},
   "source": [
    "#### Conclusion\n",
    "\n",
    "\n",
    "It can be seen that sales made in GBP resulted in more cancelled , but also more successful transactions than failed. Which is a little better than sales made in USD."
   ]
  },
  {
   "cell_type": "code",
   "execution_count": 114,
   "id": "9470c6af",
   "metadata": {},
   "outputs": [
    {
     "data": {
      "text/html": [
       "<div>\n",
       "<style scoped>\n",
       "    .dataframe tbody tr th:only-of-type {\n",
       "        vertical-align: middle;\n",
       "    }\n",
       "\n",
       "    .dataframe tbody tr th {\n",
       "        vertical-align: top;\n",
       "    }\n",
       "\n",
       "    .dataframe thead th {\n",
       "        text-align: right;\n",
       "    }\n",
       "</style>\n",
       "<table border=\"1\" class=\"dataframe\">\n",
       "  <thead>\n",
       "    <tr style=\"text-align: right;\">\n",
       "      <th></th>\n",
       "      <th>customer_id</th>\n",
       "      <th>device_id</th>\n",
       "      <th>item_id</th>\n",
       "      <th>line_item_id</th>\n",
       "      <th>order_id</th>\n",
       "      <th>event_id</th>\n",
       "      <th>event_timestamp</th>\n",
       "      <th>quantity</th>\n",
       "      <th>currency</th>\n",
       "      <th>checked_out_at</th>\n",
       "      <th>status</th>\n",
       "      <th>location</th>\n",
       "    </tr>\n",
       "  </thead>\n",
       "  <tbody>\n",
       "    <tr>\n",
       "      <th>0</th>\n",
       "      <td>cda7bec0-7cbf-4145-baf9-e049bab94504</td>\n",
       "      <td>33b485de-7338-4997-b1d0-b988ba17b245</td>\n",
       "      <td>4</td>\n",
       "      <td>3201</td>\n",
       "      <td>9e950ce3-2e12-479c-a051-493c1a497d49</td>\n",
       "      <td>14786</td>\n",
       "      <td>2024-03-26 22:05:58.863661</td>\n",
       "      <td>2</td>\n",
       "      <td>NGN</td>\n",
       "      <td>2024-03-30 04:19:10.406794</td>\n",
       "      <td>success</td>\n",
       "      <td>Saint Helena</td>\n",
       "    </tr>\n",
       "    <tr>\n",
       "      <th>1</th>\n",
       "      <td>cda7bec0-7cbf-4145-baf9-e049bab94504</td>\n",
       "      <td>33b485de-7338-4997-b1d0-b988ba17b245</td>\n",
       "      <td>5</td>\n",
       "      <td>3202</td>\n",
       "      <td>9e950ce3-2e12-479c-a051-493c1a497d49</td>\n",
       "      <td>14786</td>\n",
       "      <td>2024-03-26 22:05:58.863661</td>\n",
       "      <td>4</td>\n",
       "      <td>NGN</td>\n",
       "      <td>2024-03-30 04:19:10.406794</td>\n",
       "      <td>success</td>\n",
       "      <td>Saint Helena</td>\n",
       "    </tr>\n",
       "    <tr>\n",
       "      <th>2</th>\n",
       "      <td>cda7bec0-7cbf-4145-baf9-e049bab94504</td>\n",
       "      <td>33b485de-7338-4997-b1d0-b988ba17b245</td>\n",
       "      <td>9</td>\n",
       "      <td>3203</td>\n",
       "      <td>9e950ce3-2e12-479c-a051-493c1a497d49</td>\n",
       "      <td>14786</td>\n",
       "      <td>2024-03-26 22:05:58.863661</td>\n",
       "      <td>5</td>\n",
       "      <td>NGN</td>\n",
       "      <td>2024-03-30 04:19:10.406794</td>\n",
       "      <td>success</td>\n",
       "      <td>Saint Helena</td>\n",
       "    </tr>\n",
       "    <tr>\n",
       "      <th>3</th>\n",
       "      <td>cda7bec0-7cbf-4145-baf9-e049bab94504</td>\n",
       "      <td>33b485de-7338-4997-b1d0-b988ba17b245</td>\n",
       "      <td>12</td>\n",
       "      <td>3204</td>\n",
       "      <td>9e950ce3-2e12-479c-a051-493c1a497d49</td>\n",
       "      <td>14786</td>\n",
       "      <td>2024-03-26 22:05:58.863661</td>\n",
       "      <td>1</td>\n",
       "      <td>NGN</td>\n",
       "      <td>2024-03-30 04:19:10.406794</td>\n",
       "      <td>success</td>\n",
       "      <td>Saint Helena</td>\n",
       "    </tr>\n",
       "    <tr>\n",
       "      <th>4</th>\n",
       "      <td>cda7bec0-7cbf-4145-baf9-e049bab94504</td>\n",
       "      <td>33b485de-7338-4997-b1d0-b988ba17b245</td>\n",
       "      <td>6</td>\n",
       "      <td>3205</td>\n",
       "      <td>9e950ce3-2e12-479c-a051-493c1a497d49</td>\n",
       "      <td>14786</td>\n",
       "      <td>2024-03-26 22:05:58.863661</td>\n",
       "      <td>2</td>\n",
       "      <td>NGN</td>\n",
       "      <td>2024-03-30 04:19:10.406794</td>\n",
       "      <td>success</td>\n",
       "      <td>Saint Helena</td>\n",
       "    </tr>\n",
       "    <tr>\n",
       "      <th>...</th>\n",
       "      <td>...</td>\n",
       "      <td>...</td>\n",
       "      <td>...</td>\n",
       "      <td>...</td>\n",
       "      <td>...</td>\n",
       "      <td>...</td>\n",
       "      <td>...</td>\n",
       "      <td>...</td>\n",
       "      <td>...</td>\n",
       "      <td>...</td>\n",
       "      <td>...</td>\n",
       "      <td>...</td>\n",
       "    </tr>\n",
       "    <tr>\n",
       "      <th>577920</th>\n",
       "      <td>0e09a426-41e3-49bc-93e4-8225be897588</td>\n",
       "      <td>d97092b8-2ae2-4ddf-9767-ed5ceb36d6a5</td>\n",
       "      <td>13</td>\n",
       "      <td>34922</td>\n",
       "      <td>f35fc5ad-3770-41c0-82f2-c762303268fa</td>\n",
       "      <td>161879</td>\n",
       "      <td>2024-03-30 04:03:18.220178</td>\n",
       "      <td>5</td>\n",
       "      <td>NGN</td>\n",
       "      <td>2024-03-30 04:19:18.220181</td>\n",
       "      <td>success</td>\n",
       "      <td>Montserrat</td>\n",
       "    </tr>\n",
       "    <tr>\n",
       "      <th>577921</th>\n",
       "      <td>0e09a426-41e3-49bc-93e4-8225be897588</td>\n",
       "      <td>d97092b8-2ae2-4ddf-9767-ed5ceb36d6a5</td>\n",
       "      <td>8</td>\n",
       "      <td>34919</td>\n",
       "      <td>f35fc5ad-3770-41c0-82f2-c762303268fa</td>\n",
       "      <td>161880</td>\n",
       "      <td>2024-03-30 04:19:18.220181</td>\n",
       "      <td>1</td>\n",
       "      <td>NGN</td>\n",
       "      <td>2024-03-30 04:19:18.220181</td>\n",
       "      <td>success</td>\n",
       "      <td>Montserrat</td>\n",
       "    </tr>\n",
       "    <tr>\n",
       "      <th>577922</th>\n",
       "      <td>0e09a426-41e3-49bc-93e4-8225be897588</td>\n",
       "      <td>d97092b8-2ae2-4ddf-9767-ed5ceb36d6a5</td>\n",
       "      <td>2</td>\n",
       "      <td>34920</td>\n",
       "      <td>f35fc5ad-3770-41c0-82f2-c762303268fa</td>\n",
       "      <td>161880</td>\n",
       "      <td>2024-03-30 04:19:18.220181</td>\n",
       "      <td>2</td>\n",
       "      <td>NGN</td>\n",
       "      <td>2024-03-30 04:19:18.220181</td>\n",
       "      <td>success</td>\n",
       "      <td>Montserrat</td>\n",
       "    </tr>\n",
       "    <tr>\n",
       "      <th>577923</th>\n",
       "      <td>0e09a426-41e3-49bc-93e4-8225be897588</td>\n",
       "      <td>d97092b8-2ae2-4ddf-9767-ed5ceb36d6a5</td>\n",
       "      <td>6</td>\n",
       "      <td>34921</td>\n",
       "      <td>f35fc5ad-3770-41c0-82f2-c762303268fa</td>\n",
       "      <td>161880</td>\n",
       "      <td>2024-03-30 04:19:18.220181</td>\n",
       "      <td>1</td>\n",
       "      <td>NGN</td>\n",
       "      <td>2024-03-30 04:19:18.220181</td>\n",
       "      <td>success</td>\n",
       "      <td>Montserrat</td>\n",
       "    </tr>\n",
       "    <tr>\n",
       "      <th>577924</th>\n",
       "      <td>0e09a426-41e3-49bc-93e4-8225be897588</td>\n",
       "      <td>d97092b8-2ae2-4ddf-9767-ed5ceb36d6a5</td>\n",
       "      <td>13</td>\n",
       "      <td>34922</td>\n",
       "      <td>f35fc5ad-3770-41c0-82f2-c762303268fa</td>\n",
       "      <td>161880</td>\n",
       "      <td>2024-03-30 04:19:18.220181</td>\n",
       "      <td>5</td>\n",
       "      <td>NGN</td>\n",
       "      <td>2024-03-30 04:19:18.220181</td>\n",
       "      <td>success</td>\n",
       "      <td>Montserrat</td>\n",
       "    </tr>\n",
       "  </tbody>\n",
       "</table>\n",
       "<p>188880 rows × 12 columns</p>\n",
       "</div>"
      ],
      "text/plain": [
       "                                 customer_id  \\\n",
       "0       cda7bec0-7cbf-4145-baf9-e049bab94504   \n",
       "1       cda7bec0-7cbf-4145-baf9-e049bab94504   \n",
       "2       cda7bec0-7cbf-4145-baf9-e049bab94504   \n",
       "3       cda7bec0-7cbf-4145-baf9-e049bab94504   \n",
       "4       cda7bec0-7cbf-4145-baf9-e049bab94504   \n",
       "...                                      ...   \n",
       "577920  0e09a426-41e3-49bc-93e4-8225be897588   \n",
       "577921  0e09a426-41e3-49bc-93e4-8225be897588   \n",
       "577922  0e09a426-41e3-49bc-93e4-8225be897588   \n",
       "577923  0e09a426-41e3-49bc-93e4-8225be897588   \n",
       "577924  0e09a426-41e3-49bc-93e4-8225be897588   \n",
       "\n",
       "                                   device_id  item_id  line_item_id  \\\n",
       "0       33b485de-7338-4997-b1d0-b988ba17b245        4          3201   \n",
       "1       33b485de-7338-4997-b1d0-b988ba17b245        5          3202   \n",
       "2       33b485de-7338-4997-b1d0-b988ba17b245        9          3203   \n",
       "3       33b485de-7338-4997-b1d0-b988ba17b245       12          3204   \n",
       "4       33b485de-7338-4997-b1d0-b988ba17b245        6          3205   \n",
       "...                                      ...      ...           ...   \n",
       "577920  d97092b8-2ae2-4ddf-9767-ed5ceb36d6a5       13         34922   \n",
       "577921  d97092b8-2ae2-4ddf-9767-ed5ceb36d6a5        8         34919   \n",
       "577922  d97092b8-2ae2-4ddf-9767-ed5ceb36d6a5        2         34920   \n",
       "577923  d97092b8-2ae2-4ddf-9767-ed5ceb36d6a5        6         34921   \n",
       "577924  d97092b8-2ae2-4ddf-9767-ed5ceb36d6a5       13         34922   \n",
       "\n",
       "                                    order_id  event_id  \\\n",
       "0       9e950ce3-2e12-479c-a051-493c1a497d49     14786   \n",
       "1       9e950ce3-2e12-479c-a051-493c1a497d49     14786   \n",
       "2       9e950ce3-2e12-479c-a051-493c1a497d49     14786   \n",
       "3       9e950ce3-2e12-479c-a051-493c1a497d49     14786   \n",
       "4       9e950ce3-2e12-479c-a051-493c1a497d49     14786   \n",
       "...                                      ...       ...   \n",
       "577920  f35fc5ad-3770-41c0-82f2-c762303268fa    161879   \n",
       "577921  f35fc5ad-3770-41c0-82f2-c762303268fa    161880   \n",
       "577922  f35fc5ad-3770-41c0-82f2-c762303268fa    161880   \n",
       "577923  f35fc5ad-3770-41c0-82f2-c762303268fa    161880   \n",
       "577924  f35fc5ad-3770-41c0-82f2-c762303268fa    161880   \n",
       "\n",
       "                   event_timestamp  quantity currency  \\\n",
       "0       2024-03-26 22:05:58.863661         2      NGN   \n",
       "1       2024-03-26 22:05:58.863661         4      NGN   \n",
       "2       2024-03-26 22:05:58.863661         5      NGN   \n",
       "3       2024-03-26 22:05:58.863661         1      NGN   \n",
       "4       2024-03-26 22:05:58.863661         2      NGN   \n",
       "...                            ...       ...      ...   \n",
       "577920  2024-03-30 04:03:18.220178         5      NGN   \n",
       "577921  2024-03-30 04:19:18.220181         1      NGN   \n",
       "577922  2024-03-30 04:19:18.220181         2      NGN   \n",
       "577923  2024-03-30 04:19:18.220181         1      NGN   \n",
       "577924  2024-03-30 04:19:18.220181         5      NGN   \n",
       "\n",
       "                    checked_out_at   status      location  \n",
       "0       2024-03-30 04:19:10.406794  success  Saint Helena  \n",
       "1       2024-03-30 04:19:10.406794  success  Saint Helena  \n",
       "2       2024-03-30 04:19:10.406794  success  Saint Helena  \n",
       "3       2024-03-30 04:19:10.406794  success  Saint Helena  \n",
       "4       2024-03-30 04:19:10.406794  success  Saint Helena  \n",
       "...                            ...      ...           ...  \n",
       "577920  2024-03-30 04:19:18.220181  success    Montserrat  \n",
       "577921  2024-03-30 04:19:18.220181  success    Montserrat  \n",
       "577922  2024-03-30 04:19:18.220181  success    Montserrat  \n",
       "577923  2024-03-30 04:19:18.220181  success    Montserrat  \n",
       "577924  2024-03-30 04:19:18.220181  success    Montserrat  \n",
       "\n",
       "[188880 rows x 12 columns]"
      ]
     },
     "execution_count": 114,
     "metadata": {},
     "output_type": "execute_result"
    }
   ],
   "source": [
    "# Let's filter NGN transactions\n",
    "\n",
    "sales_NGN = sales[sales['currency'] == 'NGN']\n",
    "sales_NGN"
   ]
  },
  {
   "cell_type": "code",
   "execution_count": 116,
   "id": "2efce858",
   "metadata": {},
   "outputs": [
    {
     "name": "stdout",
     "output_type": "stream",
     "text": [
      "188,880 transactions were performed using the Nigerian Naira.\n"
     ]
    }
   ],
   "source": [
    "# Lets check the total transactions performed using NGN\n",
    "sales_NGN['currency'].value_counts()\n",
    "print(f\"188,880 transactions were performed using the Nigerian Naira.\")"
   ]
  },
  {
   "cell_type": "code",
   "execution_count": 117,
   "id": "9246e9bc",
   "metadata": {},
   "outputs": [
    {
     "data": {
      "text/plain": [
       "status\n",
       "success      66146\n",
       "failed       65387\n",
       "cancelled    57347\n",
       "Name: count, dtype: int64"
      ]
     },
     "execution_count": 117,
     "metadata": {},
     "output_type": "execute_result"
    }
   ],
   "source": [
    "# Lets check the percentage of NGN transactions that failed,succed,and canceled.\n",
    "\n",
    "sales_NGN_status = sales_NGN['status'].value_counts()\n",
    "sales_NGN_status"
   ]
  },
  {
   "cell_type": "code",
   "execution_count": null,
   "id": "d94cb34d",
   "metadata": {},
   "outputs": [
    {
     "data": {
      "text/plain": [
       "Text(0.5, 1.0, 'Sales in Nigerian Naira Analysis')"
      ]
     },
     "execution_count": 128,
     "metadata": {},
     "output_type": "execute_result"
    },
    {
     "data": {
      "image/png": "[encoded data removed]",
      "text/plain": [
       "<Figure size 640x480 with 1 Axes>"
      ]
     },
     "metadata": {},
     "output_type": "display_data"
    }
   ],
   "source": [
    "# Let's visualize this\n",
    "sales_NGN_status.plot(kind='area',color = 'pink')\n",
    "plt.xlabel('Sales in NGN status')\n",
    "plt.ylabel('Index')\n",
    "plt.xticks(rotation = 45)\n",
    "plt.title('Sales in Nigerian Naira Analysis')"
   ]
  },
  {
   "cell_type": "markdown",
   "id": "3e542181",
   "metadata": {},
   "source": [
    "#### Conclusion\n",
    "\n",
    "\n",
    "It can be seen that sales made in NGN resulted in more successful sales than sales made in USD and GBP."
   ]
  },
  {
   "cell_type": "markdown",
   "id": "a2263a83",
   "metadata": {},
   "source": [
    "#### Recommendation as regards to Currency\n",
    "\n",
    "Sales made in Nigerian Naira should be facilitated more and encouraged as this produced and leads to more successful transactions than sales made in both USD and GBP."
   ]
  },
  {
   "cell_type": "code",
   "execution_count": 129,
   "id": "540d5d65",
   "metadata": {},
   "outputs": [
    {
     "data": {
      "text/plain": [
       "location\n",
       "Korea        6997\n",
       "Argentina    4507\n",
       "Mauritius    4414\n",
       "Jersey       4130\n",
       "Panama       3936\n",
       "             ... \n",
       "Chad         1082\n",
       "Malaysia     1037\n",
       "Austria       921\n",
       "Italy         783\n",
       "Uruguay       734\n",
       "Name: count, Length: 243, dtype: int64"
      ]
     },
     "execution_count": 129,
     "metadata": {},
     "output_type": "execute_result"
    }
   ],
   "source": [
    "# Let's see the location with most sales and also location with least sales.\n",
    "\n",
    "sales['location'].value_counts()"
   ]
  },
  {
   "cell_type": "code",
   "execution_count": 130,
   "id": "020a5de2",
   "metadata": {},
   "outputs": [
    {
     "name": "stdout",
     "output_type": "stream",
     "text": [
      "Korea is the location with most sales with 6997 sales\n",
      "Uruguay is the location with the least sales with 734 sales \n"
     ]
    }
   ],
   "source": [
    "print(f\"Korea is the location with most sales with 6997 sales\")\n",
    "print(f\"Uruguay is the location with the least sales with 734 sales \")"
   ]
  },
  {
   "cell_type": "markdown",
   "id": "9bea89b0",
   "metadata": {},
   "source": [
    "#### Recommendation as regards to Location\n",
    "\n",
    "\n",
    "\n",
    "Korea, with 6,997 sales, is the top-performing market. Consider increasing investment in this region to further increase the productivity thereby increasing the sales.\n",
    "\n",
    "\n",
    "\n",
    "Uruguay, with only 734 sales, is the lowest-performing market. A deeper analysis should be carried out to identify the factors causing it and how it can be fixed to increase the sales."
   ]
  }
 ],
 "metadata": {
  "kernelspec": {
   "display_name": "Python 3",
   "language": "python",
   "name": "python3"
  },
  "language_info": {
   "codemirror_mode": {
    "name": "ipython",
    "version": 3
   },
   "file_extension": ".py",
   "mimetype": "text/x-python",
   "name": "python",
   "nbconvert_exporter": "python",
   "pygments_lexer": "ipython3",
   "version": "3.13.5"
  }
 },
 "nbformat": 4,
 "nbformat_minor": 5
}
