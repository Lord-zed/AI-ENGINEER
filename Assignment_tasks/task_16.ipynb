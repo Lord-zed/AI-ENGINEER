{
 "cells": [
  {
   "cell_type": "code",
   "execution_count": null,
   "id": "df6d6608",
   "metadata": {},
   "outputs": [],
   "source": [
    "import numpy as np\n"
   ]
  },
  {
   "cell_type": "code",
   "execution_count": 2,
   "id": "7add37af",
   "metadata": {},
   "outputs": [
    {
     "name": "stdout",
     "output_type": "stream",
     "text": [
      "Matrix A [[ 2 -1]\n",
      " [ 0  3]]\n",
      "Matrix B\n",
      " [[ 1  4]\n",
      " [-2  5]]\n"
     ]
    }
   ],
   "source": [
    "Matrix_A = np.array([[2, -1], [0, 3]])\n",
    "Matrix_B = np.array([[1, 4], [-2, 5]])\n",
    "print(\"Matrix A\", Matrix_A)\n",
    "print(\"Matrix B\\n\", Matrix_B)\n"
   ]
  },
  {
   "cell_type": "markdown",
   "id": "5add4dd4",
   "metadata": {},
   "source": [
    "### QUESTION A\n",
    "let's the scalers (c = 2), (d = 3)"
   ]
  },
  {
   "cell_type": "code",
   "execution_count": 3,
   "id": "9efd050a",
   "metadata": {},
   "outputs": [
    {
     "name": "stdout",
     "output_type": "stream",
     "text": [
      "The scaler multiplication for Matrix A, c(A):\n",
      " [[ 4 -2]\n",
      " [ 0  6]]\n",
      "The scaler multiplication for Matrix B, d(B):\n",
      " [[ 3 12]\n",
      " [-6 15]]\n"
     ]
    }
   ],
   "source": [
    "\n",
    "## (i) c(A)\n",
    "scaler_c = 2\n",
    "\n",
    "scaler_A = scaler_c * Matrix_A\n",
    "print(\"The scaler multiplication for Matrix A, c(A):\\n\", scaler_A) \n",
    "\n",
    "## (i) d(B)\n",
    "scaler_d = 3\n",
    "\n",
    "scaler_B = scaler_d * Matrix_B\n",
    "print(\"The scaler multiplication for Matrix B, d(B):\\n\", scaler_B) "
   ]
  },
  {
   "cell_type": "markdown",
   "id": "2847b5f3",
   "metadata": {},
   "source": [
    "#### (iii) (c + d)A"
   ]
  },
  {
   "cell_type": "code",
   "execution_count": 17,
   "id": "e3666654",
   "metadata": {},
   "outputs": [
    {
     "name": "stdout",
     "output_type": "stream",
     "text": [
      "(c + d)A = \n",
      " [[10 -5]\n",
      " [ 0 15]]\n"
     ]
    }
   ],
   "source": [
    "scaler_sum = scaler_c + scaler_d\n",
    "for_A = scaler_sum * Matrix_A\n",
    "\n",
    "print(\"(c + d)A = \\n\", for_A)"
   ]
  },
  {
   "cell_type": "markdown",
   "id": "f612f85a",
   "metadata": {},
   "source": [
    "### QUESTION B\n",
    "\n",
    "Verify for scaler multiplication: (c + d)(A)\n",
    "<br>\n",
    "\n",
    "(c + d)(A) = cA + dA\n"
   ]
  },
  {
   "cell_type": "code",
   "execution_count": 25,
   "id": "002ae4f4",
   "metadata": {},
   "outputs": [
    {
     "name": "stdout",
     "output_type": "stream",
     "text": [
      "cA = [[ 4 -2]\n",
      " [ 0  6]]\n",
      "dA = [[ 6 -3]\n",
      " [ 0  9]]\n",
      "cA + dA =\n",
      " [[10 -5]\n",
      " [ 0 15]]\n"
     ]
    }
   ],
   "source": [
    "left = scaler_c * Matrix_A\n",
    "right = scaler_d * Matrix_A\n",
    "\n",
    "total = left + right\n",
    "print(\"cA =\", left)\n",
    "print(\"dA =\", right)\n",
    "print(\"cA + dA =\\n\", total)"
   ]
  },
  {
   "cell_type": "markdown",
   "id": "f3454319",
   "metadata": {},
   "source": [
    "### QUESTION C\n",
    "\n",
    "The transpose of A and B"
   ]
  },
  {
   "cell_type": "code",
   "execution_count": 27,
   "id": "7fed3379",
   "metadata": {},
   "outputs": [
    {
     "name": "stdout",
     "output_type": "stream",
     "text": [
      "Transpose A^T:\n",
      " [[ 2  0]\n",
      " [-1  3]]\n",
      "Transpose B^T:\n",
      " [[ 1 -2]\n",
      " [ 4  5]]\n"
     ]
    }
   ],
   "source": [
    "transpose_A = Matrix_A.T\n",
    "transpose_B = Matrix_B.T\n",
    "\n",
    "print(\"Transpose A^T:\\n\", transpose_A)\n",
    "print(\"Transpose B^T:\\n\", transpose_B)"
   ]
  },
  {
   "cell_type": "markdown",
   "id": "55b77f01",
   "metadata": {},
   "source": [
    "###\n",
    "\n",
    "The Determinant and Inverse of A and B"
   ]
  },
  {
   "cell_type": "code",
   "execution_count": 29,
   "id": "32f5ddf6",
   "metadata": {},
   "outputs": [
    {
     "name": "stdout",
     "output_type": "stream",
     "text": [
      "detA = 6.0\n",
      "detB 13.0\n"
     ]
    }
   ],
   "source": [
    "det_A = np.linalg.det(Matrix_A)\n",
    "det_B = np.linalg.det(Matrix_B)\n",
    "\n",
    "print(\"detA =\", det_A)\n",
    "print(\"detB\", det_B)"
   ]
  },
  {
   "cell_type": "markdown",
   "id": "2ee2de53",
   "metadata": {},
   "source": [
    "###\n",
    " Inverse  of the Matrix A and B"
   ]
  },
  {
   "cell_type": "code",
   "execution_count": 31,
   "id": "48e54d36",
   "metadata": {},
   "outputs": [
    {
     "name": "stdout",
     "output_type": "stream",
     "text": [
      "Inverse A:\n",
      " [[0.5        0.16666667]\n",
      " [0.         0.33333333]]\n",
      "Inverse B:\n",
      " [[ 0.38461538 -0.30769231]\n",
      " [ 0.15384615  0.07692308]]\n"
     ]
    }
   ],
   "source": [
    "inv_A = np.linalg.inv(Matrix_A)\n",
    "inv_B = np.linalg.inv(Matrix_B)\n",
    "\n",
    "print(\"Inverse A:\\n\", inv_A)\n",
    "print(\"Inverse B:\\n\", inv_B)"
   ]
  }
 ],
 "metadata": {
  "kernelspec": {
   "display_name": "Python 3",
   "language": "python",
   "name": "python3"
  },
  "language_info": {
   "codemirror_mode": {
    "name": "ipython",
    "version": 3
   },
   "file_extension": ".py",
   "mimetype": "text/x-python",
   "name": "python",
   "nbconvert_exporter": "python",
   "pygments_lexer": "ipython3",
   "version": "3.13.7"
  }
 },
 "nbformat": 4,
 "nbformat_minor": 5
}
