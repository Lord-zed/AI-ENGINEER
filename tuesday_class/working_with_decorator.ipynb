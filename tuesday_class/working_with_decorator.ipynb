{
 "cells": [
  {
   "cell_type": "code",
   "execution_count": 5,
   "id": "c57b0001",
   "metadata": {},
   "outputs": [
    {
     "name": "stdout",
     "output_type": "stream",
     "text": [
      "Welcome to our shop!\n",
      "shopkeeper says: Welcome to our shop!\n"
     ]
    }
   ],
   "source": [
    "def greet_customer():\n",
    "    return \"Welcome to our shop!\"\n",
    "\n",
    "# you can assign functions to variables\n",
    "my_greetings=greet_customer\n",
    "print(my_greetings())  # welcome to our shop!\n",
    "\n",
    "# you can pass functions as arguments\n",
    "def use_greeting(greeting_func):\n",
    "    return f\"shopkeeper says: {greeting_func()}\"\n",
    "print(use_greeting(greet_customer))"
   ]
  },
  {
   "cell_type": "markdown",
   "id": "cce4f774",
   "metadata": {},
   "source": [
    "***Lets create our first decorator***"
   ]
  },
  {
   "cell_type": "code",
   "execution_count": 9,
   "id": "45eb634b",
   "metadata": {},
   "outputs": [],
   "source": [
    "def add_nigerian_politeness(original_function):\n",
    "    \"\"\"This decorator adds Nigeria politeness to any greeting\"\"\"\n",
    "    def wrapper():\n",
    "        result= original_function()\n",
    "        return f\"Good morning ooo! {result} How is family\"\n",
    "    return wrapper\n",
    "\n",
    "# Original simple gretting \n",
    "def basic_greeting():\n",
    "    return \"Hello\""
   ]
  },
  {
   "cell_type": "code",
   "execution_count": 10,
   "id": "8948e219",
   "metadata": {},
   "outputs": [
    {
     "name": "stdout",
     "output_type": "stream",
     "text": [
      "Good morning ooo! Hello How is family\n"
     ]
    }
   ],
   "source": [
    "# APPly the decorator manually\n",
    "polite_greeting=add_nigerian_politeness(basic_greeting)\n",
    "print(polite_greeting())"
   ]
  },
  {
   "cell_type": "code",
   "execution_count": 11,
   "id": "32b2f169",
   "metadata": {},
   "outputs": [
    {
     "name": "stdout",
     "output_type": "stream",
     "text": [
      "Good morning ooo! Welcome to my provision store How is family\n"
     ]
    }
   ],
   "source": [
    "# using the @ symbol ( syntatic sugar)\n",
    "@add_nigerian_politeness\n",
    "def shop_greeting():\n",
    "    return \"Welcome to my provision store\"\n",
    "\n",
    "print(shop_greeting())"
   ]
  },
  {
   "cell_type": "code",
   "execution_count": null,
   "id": "d7a48a78",
   "metadata": {},
   "outputs": [],
   "source": [
    "# This comes with arguments\n",
    "# sometimes you want to pass information to your decorators"
   ]
  },
  {
   "cell_type": "code",
   "execution_count": null,
   "id": "966b114e",
   "metadata": {},
   "outputs": [],
   "source": [
    "def add"
   ]
  }
 ],
 "metadata": {
  "kernelspec": {
   "display_name": "Python 3",
   "language": "python",
   "name": "python3"
  },
  "language_info": {
   "codemirror_mode": {
    "name": "ipython",
    "version": 3
   },
   "file_extension": ".py",
   "mimetype": "text/x-python",
   "name": "python",
   "nbconvert_exporter": "python",
   "pygments_lexer": "ipython3",
   "version": "3.13.7"
  }
 },
 "nbformat": 4,
 "nbformat_minor": 5
}
