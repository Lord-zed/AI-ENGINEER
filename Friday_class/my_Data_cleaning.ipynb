{
 "cells": [
  {
   "cell_type": "markdown",
   "id": "35c03e0c",
   "metadata": {},
   "source": [
    "## Data cleaning "
   ]
  },
  {
   "cell_type": "code",
   "execution_count": null,
   "id": "7c49018a",
   "metadata": {},
   "outputs": [],
   "source": [
    "# import library\n",
    "import pandas as pd\n",
    "import numpy as np\n",
    "from datetime import datetime\n",
    "import gdown"
   ]
  },
  {
   "cell_type": "code",
   "execution_count": 8,
   "id": "efef04a7",
   "metadata": {},
   "outputs": [],
   "source": [
    "url=\"https://media.githubusercontent.com/media/RasakOlasunkanmi/Practice_datasets/refs/heads/master/hr_data.csv\"\n",
    "df = pd.read_csv(url)"
   ]
  },
  {
   "cell_type": "code",
   "execution_count": 9,
   "id": "0532a049",
   "metadata": {},
   "outputs": [
    {
     "data": {
      "text/html": [
       "<div>\n",
       "<style scoped>\n",
       "    .dataframe tbody tr th:only-of-type {\n",
       "        vertical-align: middle;\n",
       "    }\n",
       "\n",
       "    .dataframe tbody tr th {\n",
       "        vertical-align: top;\n",
       "    }\n",
       "\n",
       "    .dataframe thead th {\n",
       "        text-align: right;\n",
       "    }\n",
       "</style>\n",
       "<table border=\"1\" class=\"dataframe\">\n",
       "  <thead>\n",
       "    <tr style=\"text-align: right;\">\n",
       "      <th></th>\n",
       "      <th>ID</th>\n",
       "      <th>Name</th>\n",
       "      <th>Age</th>\n",
       "      <th>Email</th>\n",
       "      <th>Join Date</th>\n",
       "      <th>Salary</th>\n",
       "      <th>Department</th>\n",
       "    </tr>\n",
       "  </thead>\n",
       "  <tbody>\n",
       "    <tr>\n",
       "      <th>0</th>\n",
       "      <td>1</td>\n",
       "      <td>Chinedu Okoro</td>\n",
       "      <td>29</td>\n",
       "      <td>chinedu.okoro@gmail.com</td>\n",
       "      <td>2023-01-15</td>\n",
       "      <td>$50,000</td>\n",
       "      <td>Engineering</td>\n",
       "    </tr>\n",
       "    <tr>\n",
       "      <th>1</th>\n",
       "      <td>2</td>\n",
       "      <td>Ngozi Eze</td>\n",
       "      <td>34</td>\n",
       "      <td>ngozi.eze@hotmail.com</td>\n",
       "      <td>15/01/2023</td>\n",
       "      <td>55000</td>\n",
       "      <td>Engineering</td>\n",
       "    </tr>\n",
       "    <tr>\n",
       "      <th>2</th>\n",
       "      <td>3</td>\n",
       "      <td>Emeka Uche</td>\n",
       "      <td>NaN</td>\n",
       "      <td>emeka.uche@yahoo.com</td>\n",
       "      <td>2022-12-05</td>\n",
       "      <td>60000</td>\n",
       "      <td>Sales</td>\n",
       "    </tr>\n",
       "    <tr>\n",
       "      <th>3</th>\n",
       "      <td>4</td>\n",
       "      <td>Adeola Balogun</td>\n",
       "      <td>27</td>\n",
       "      <td>adeola@@gmail.com</td>\n",
       "      <td>2023/02/30</td>\n",
       "      <td>$45,000</td>\n",
       "      <td>HR</td>\n",
       "    </tr>\n",
       "    <tr>\n",
       "      <th>4</th>\n",
       "      <td>5</td>\n",
       "      <td>Ifeyinwa Okafor</td>\n",
       "      <td>thirty</td>\n",
       "      <td>ifeyinwa.okafor@gmail.com</td>\n",
       "      <td>2023-03-10</td>\n",
       "      <td>48000</td>\n",
       "      <td>Marketing</td>\n",
       "    </tr>\n",
       "  </tbody>\n",
       "</table>\n",
       "</div>"
      ],
      "text/plain": [
       "   ID             Name     Age                      Email   Join Date  \\\n",
       "0   1    Chinedu Okoro      29    chinedu.okoro@gmail.com  2023-01-15   \n",
       "1   2        Ngozi Eze      34      ngozi.eze@hotmail.com  15/01/2023   \n",
       "2   3       Emeka Uche     NaN       emeka.uche@yahoo.com  2022-12-05   \n",
       "3   4   Adeola Balogun      27          adeola@@gmail.com  2023/02/30   \n",
       "4   5  Ifeyinwa Okafor  thirty  ifeyinwa.okafor@gmail.com  2023-03-10   \n",
       "\n",
       "    Salary     Department  \n",
       "0  $50,000    Engineering  \n",
       "1    55000   Engineering   \n",
       "2    60000          Sales  \n",
       "3  $45,000             HR  \n",
       "4    48000      Marketing  "
      ]
     },
     "execution_count": 9,
     "metadata": {},
     "output_type": "execute_result"
    }
   ],
   "source": [
    "df.head()\n"
   ]
  },
  {
   "cell_type": "code",
   "execution_count": 10,
   "id": "a581341e",
   "metadata": {},
   "outputs": [
    {
     "data": {
      "text/plain": [
       "(100, 7)"
      ]
     },
     "execution_count": 10,
     "metadata": {},
     "output_type": "execute_result"
    }
   ],
   "source": [
    "df.shape"
   ]
  },
  {
   "cell_type": "code",
   "execution_count": 11,
   "id": "d1e1b5fb",
   "metadata": {},
   "outputs": [
    {
     "name": "stdout",
     "output_type": "stream",
     "text": [
      "<class 'pandas.core.frame.DataFrame'>\n",
      "RangeIndex: 100 entries, 0 to 99\n",
      "Data columns (total 7 columns):\n",
      " #   Column      Non-Null Count  Dtype \n",
      "---  ------      --------------  ----- \n",
      " 0   ID          100 non-null    int64 \n",
      " 1   Name        100 non-null    object\n",
      " 2   Age         99 non-null     object\n",
      " 3   Email       99 non-null     object\n",
      " 4   Join Date   100 non-null    object\n",
      " 5   Salary      100 non-null    object\n",
      " 6   Department  100 non-null    object\n",
      "dtypes: int64(1), object(6)\n",
      "memory usage: 5.6+ KB\n"
     ]
    }
   ],
   "source": [
    "df.info()"
   ]
  },
  {
   "cell_type": "code",
   "execution_count": 14,
   "id": "be31fe3b",
   "metadata": {},
   "outputs": [
    {
     "data": {
      "text/html": [
       "<div>\n",
       "<style scoped>\n",
       "    .dataframe tbody tr th:only-of-type {\n",
       "        vertical-align: middle;\n",
       "    }\n",
       "\n",
       "    .dataframe tbody tr th {\n",
       "        vertical-align: top;\n",
       "    }\n",
       "\n",
       "    .dataframe thead th {\n",
       "        text-align: right;\n",
       "    }\n",
       "</style>\n",
       "<table border=\"1\" class=\"dataframe\">\n",
       "  <thead>\n",
       "    <tr style=\"text-align: right;\">\n",
       "      <th></th>\n",
       "      <th>ID</th>\n",
       "    </tr>\n",
       "  </thead>\n",
       "  <tbody>\n",
       "    <tr>\n",
       "      <th>count</th>\n",
       "      <td>100.000000</td>\n",
       "    </tr>\n",
       "    <tr>\n",
       "      <th>mean</th>\n",
       "      <td>50.500000</td>\n",
       "    </tr>\n",
       "    <tr>\n",
       "      <th>std</th>\n",
       "      <td>29.011492</td>\n",
       "    </tr>\n",
       "    <tr>\n",
       "      <th>min</th>\n",
       "      <td>1.000000</td>\n",
       "    </tr>\n",
       "    <tr>\n",
       "      <th>25%</th>\n",
       "      <td>25.750000</td>\n",
       "    </tr>\n",
       "    <tr>\n",
       "      <th>50%</th>\n",
       "      <td>50.500000</td>\n",
       "    </tr>\n",
       "    <tr>\n",
       "      <th>75%</th>\n",
       "      <td>75.250000</td>\n",
       "    </tr>\n",
       "    <tr>\n",
       "      <th>max</th>\n",
       "      <td>100.000000</td>\n",
       "    </tr>\n",
       "  </tbody>\n",
       "</table>\n",
       "</div>"
      ],
      "text/plain": [
       "               ID\n",
       "count  100.000000\n",
       "mean    50.500000\n",
       "std     29.011492\n",
       "min      1.000000\n",
       "25%     25.750000\n",
       "50%     50.500000\n",
       "75%     75.250000\n",
       "max    100.000000"
      ]
     },
     "execution_count": 14,
     "metadata": {},
     "output_type": "execute_result"
    }
   ],
   "source": [
    "df.describe()"
   ]
  },
  {
   "cell_type": "code",
   "execution_count": 18,
   "id": "a6392a19",
   "metadata": {},
   "outputs": [
    {
     "data": {
      "text/plain": [
       "ID            0\n",
       "Name          0\n",
       "Age           1\n",
       "Email         1\n",
       "Join Date     0\n",
       "Salary        0\n",
       "Department    0\n",
       "dtype: int64"
      ]
     },
     "execution_count": 18,
     "metadata": {},
     "output_type": "execute_result"
    }
   ],
   "source": [
    "df.isnull().sum()"
   ]
  },
  {
   "cell_type": "markdown",
   "id": "3116aca1",
   "metadata": {},
   "source": [
    "## Data Cleaning"
   ]
  },
  {
   "cell_type": "code",
   "execution_count": 17,
   "id": "0428c88b",
   "metadata": {},
   "outputs": [
    {
     "data": {
      "text/plain": [
       "np.int64(0)"
      ]
     },
     "execution_count": 17,
     "metadata": {},
     "output_type": "execute_result"
    }
   ],
   "source": [
    "# let's check for duplicate\n",
    "df.duplicated().sum()"
   ]
  },
  {
   "cell_type": "markdown",
   "id": "b9ecfeaa",
   "metadata": {},
   "source": [
    "**lets fix the ID first**"
   ]
  },
  {
   "cell_type": "code",
   "execution_count": 27,
   "id": "8d1df6e4",
   "metadata": {},
   "outputs": [
    {
     "data": {
      "text/html": [
       "<div>\n",
       "<style scoped>\n",
       "    .dataframe tbody tr th:only-of-type {\n",
       "        vertical-align: middle;\n",
       "    }\n",
       "\n",
       "    .dataframe tbody tr th {\n",
       "        vertical-align: top;\n",
       "    }\n",
       "\n",
       "    .dataframe thead th {\n",
       "        text-align: right;\n",
       "    }\n",
       "</style>\n",
       "<table border=\"1\" class=\"dataframe\">\n",
       "  <thead>\n",
       "    <tr style=\"text-align: right;\">\n",
       "      <th></th>\n",
       "      <th>ID</th>\n",
       "      <th>Name</th>\n",
       "      <th>Age</th>\n",
       "      <th>Email</th>\n",
       "      <th>Join Date</th>\n",
       "      <th>Salary</th>\n",
       "      <th>Department</th>\n",
       "    </tr>\n",
       "  </thead>\n",
       "  <tbody>\n",
       "    <tr>\n",
       "      <th>0</th>\n",
       "      <td>0111111101</td>\n",
       "      <td>Chinedu Okoro</td>\n",
       "      <td>29</td>\n",
       "      <td>chinedu.okoro@gmail.com</td>\n",
       "      <td>2023-01-15</td>\n",
       "      <td>$50,000</td>\n",
       "      <td>Engineering</td>\n",
       "    </tr>\n",
       "    <tr>\n",
       "      <th>1</th>\n",
       "      <td>0111111102</td>\n",
       "      <td>Ngozi Eze</td>\n",
       "      <td>34</td>\n",
       "      <td>ngozi.eze@hotmail.com</td>\n",
       "      <td>15/01/2023</td>\n",
       "      <td>55000</td>\n",
       "      <td>Engineering</td>\n",
       "    </tr>\n",
       "    <tr>\n",
       "      <th>2</th>\n",
       "      <td>0111111103</td>\n",
       "      <td>Emeka Uche</td>\n",
       "      <td>NaN</td>\n",
       "      <td>emeka.uche@yahoo.com</td>\n",
       "      <td>2022-12-05</td>\n",
       "      <td>60000</td>\n",
       "      <td>Sales</td>\n",
       "    </tr>\n",
       "    <tr>\n",
       "      <th>3</th>\n",
       "      <td>0111111104</td>\n",
       "      <td>Adeola Balogun</td>\n",
       "      <td>27</td>\n",
       "      <td>adeola@@gmail.com</td>\n",
       "      <td>2023/02/30</td>\n",
       "      <td>$45,000</td>\n",
       "      <td>HR</td>\n",
       "    </tr>\n",
       "    <tr>\n",
       "      <th>4</th>\n",
       "      <td>0111111105</td>\n",
       "      <td>Ifeyinwa Okafor</td>\n",
       "      <td>thirty</td>\n",
       "      <td>ifeyinwa.okafor@gmail.com</td>\n",
       "      <td>2023-03-10</td>\n",
       "      <td>48000</td>\n",
       "      <td>Marketing</td>\n",
       "    </tr>\n",
       "  </tbody>\n",
       "</table>\n",
       "</div>"
      ],
      "text/plain": [
       "           ID             Name     Age                      Email   Join Date  \\\n",
       "0  0111111101    Chinedu Okoro      29    chinedu.okoro@gmail.com  2023-01-15   \n",
       "1  0111111102        Ngozi Eze      34      ngozi.eze@hotmail.com  15/01/2023   \n",
       "2  0111111103       Emeka Uche     NaN       emeka.uche@yahoo.com  2022-12-05   \n",
       "3  0111111104   Adeola Balogun      27          adeola@@gmail.com  2023/02/30   \n",
       "4  0111111105  Ifeyinwa Okafor  thirty  ifeyinwa.okafor@gmail.com  2023-03-10   \n",
       "\n",
       "    Salary     Department  \n",
       "0  $50,000    Engineering  \n",
       "1    55000   Engineering   \n",
       "2    60000          Sales  \n",
       "3  $45,000             HR  \n",
       "4    48000      Marketing  "
      ]
     },
     "execution_count": 27,
     "metadata": {},
     "output_type": "execute_result"
    }
   ],
   "source": [
    "df.head()"
   ]
  },
  {
   "cell_type": "markdown",
   "id": "6b6d10d8",
   "metadata": {},
   "source": [
    "Trim off Extra spaces"
   ]
  },
  {
   "cell_type": "code",
   "execution_count": 30,
   "id": "a73512fe",
   "metadata": {},
   "outputs": [
    {
     "data": {
      "text/html": [
       "<div>\n",
       "<style scoped>\n",
       "    .dataframe tbody tr th:only-of-type {\n",
       "        vertical-align: middle;\n",
       "    }\n",
       "\n",
       "    .dataframe tbody tr th {\n",
       "        vertical-align: top;\n",
       "    }\n",
       "\n",
       "    .dataframe thead th {\n",
       "        text-align: right;\n",
       "    }\n",
       "</style>\n",
       "<table border=\"1\" class=\"dataframe\">\n",
       "  <thead>\n",
       "    <tr style=\"text-align: right;\">\n",
       "      <th></th>\n",
       "      <th>ID</th>\n",
       "      <th>Name</th>\n",
       "      <th>Age</th>\n",
       "      <th>Email</th>\n",
       "      <th>Join Date</th>\n",
       "      <th>Salary</th>\n",
       "      <th>Department</th>\n",
       "    </tr>\n",
       "  </thead>\n",
       "  <tbody>\n",
       "    <tr>\n",
       "      <th>0</th>\n",
       "      <td>0111111101</td>\n",
       "      <td>Chinedu Okoro</td>\n",
       "      <td>29</td>\n",
       "      <td>chinedu.okoro@gmail.com</td>\n",
       "      <td>2023-01-15</td>\n",
       "      <td>$50,000</td>\n",
       "      <td>Engineering</td>\n",
       "    </tr>\n",
       "    <tr>\n",
       "      <th>1</th>\n",
       "      <td>0111111102</td>\n",
       "      <td>Ngozi Eze</td>\n",
       "      <td>34</td>\n",
       "      <td>ngozi.eze@hotmail.com</td>\n",
       "      <td>15/01/2023</td>\n",
       "      <td>55000</td>\n",
       "      <td>Engineering</td>\n",
       "    </tr>\n",
       "    <tr>\n",
       "      <th>2</th>\n",
       "      <td>0111111103</td>\n",
       "      <td>Emeka Uche</td>\n",
       "      <td>NaN</td>\n",
       "      <td>emeka.uche@yahoo.com</td>\n",
       "      <td>2022-12-05</td>\n",
       "      <td>60000</td>\n",
       "      <td>Sales</td>\n",
       "    </tr>\n",
       "    <tr>\n",
       "      <th>3</th>\n",
       "      <td>0111111104</td>\n",
       "      <td>Adeola Balogun</td>\n",
       "      <td>27</td>\n",
       "      <td>adeola@@gmail.com</td>\n",
       "      <td>2023/02/30</td>\n",
       "      <td>$45,000</td>\n",
       "      <td>HR</td>\n",
       "    </tr>\n",
       "    <tr>\n",
       "      <th>4</th>\n",
       "      <td>0111111105</td>\n",
       "      <td>Ifeyinwa Okafor</td>\n",
       "      <td>thirty</td>\n",
       "      <td>ifeyinwa.okafor@gmail.com</td>\n",
       "      <td>2023-03-10</td>\n",
       "      <td>48000</td>\n",
       "      <td>Marketing</td>\n",
       "    </tr>\n",
       "  </tbody>\n",
       "</table>\n",
       "</div>"
      ],
      "text/plain": [
       "           ID             Name     Age                      Email   Join Date  \\\n",
       "0  0111111101    Chinedu Okoro      29    chinedu.okoro@gmail.com  2023-01-15   \n",
       "1  0111111102        Ngozi Eze      34      ngozi.eze@hotmail.com  15/01/2023   \n",
       "2  0111111103       Emeka Uche     NaN       emeka.uche@yahoo.com  2022-12-05   \n",
       "3  0111111104   Adeola Balogun      27          adeola@@gmail.com  2023/02/30   \n",
       "4  0111111105  Ifeyinwa Okafor  thirty  ifeyinwa.okafor@gmail.com  2023-03-10   \n",
       "\n",
       "    Salary     Department  \n",
       "0  $50,000    Engineering  \n",
       "1    55000   Engineering   \n",
       "2    60000          Sales  \n",
       "3  $45,000             HR  \n",
       "4    48000      Marketing  "
      ]
     },
     "execution_count": 30,
     "metadata": {},
     "output_type": "execute_result"
    }
   ],
   "source": [
    "trim_col =['Name','Email','Dapartment']\n",
    "for col in trim_col:\n",
    "    if col in df.columns:\n",
    "        df[col] = df[col].astype(str).str.strip()\n",
    "\n",
    "\n",
    "df.head()"
   ]
  },
  {
   "cell_type": "markdown",
   "id": "3c1762fa",
   "metadata": {},
   "source": [
    "**Standardized Date joined**"
   ]
  },
  {
   "cell_type": "code",
   "execution_count": 32,
   "id": "e1bdad58",
   "metadata": {},
   "outputs": [
    {
     "data": {
      "text/html": [
       "<div>\n",
       "<style scoped>\n",
       "    .dataframe tbody tr th:only-of-type {\n",
       "        vertical-align: middle;\n",
       "    }\n",
       "\n",
       "    .dataframe tbody tr th {\n",
       "        vertical-align: top;\n",
       "    }\n",
       "\n",
       "    .dataframe thead th {\n",
       "        text-align: right;\n",
       "    }\n",
       "</style>\n",
       "<table border=\"1\" class=\"dataframe\">\n",
       "  <thead>\n",
       "    <tr style=\"text-align: right;\">\n",
       "      <th></th>\n",
       "      <th>ID</th>\n",
       "      <th>Name</th>\n",
       "      <th>Age</th>\n",
       "      <th>Email</th>\n",
       "      <th>Join Date</th>\n",
       "      <th>Salary</th>\n",
       "      <th>Department</th>\n",
       "    </tr>\n",
       "  </thead>\n",
       "  <tbody>\n",
       "    <tr>\n",
       "      <th>0</th>\n",
       "      <td>0111111101</td>\n",
       "      <td>Chinedu Okoro</td>\n",
       "      <td>29</td>\n",
       "      <td>chinedu.okoro@gmail.com</td>\n",
       "      <td>2023-01-15</td>\n",
       "      <td>$50,000</td>\n",
       "      <td>Engineering</td>\n",
       "    </tr>\n",
       "    <tr>\n",
       "      <th>1</th>\n",
       "      <td>0111111102</td>\n",
       "      <td>Ngozi Eze</td>\n",
       "      <td>34</td>\n",
       "      <td>ngozi.eze@hotmail.com</td>\n",
       "      <td>NaT</td>\n",
       "      <td>55000</td>\n",
       "      <td>Engineering</td>\n",
       "    </tr>\n",
       "    <tr>\n",
       "      <th>2</th>\n",
       "      <td>0111111103</td>\n",
       "      <td>Emeka Uche</td>\n",
       "      <td>NaN</td>\n",
       "      <td>emeka.uche@yahoo.com</td>\n",
       "      <td>2022-12-05</td>\n",
       "      <td>60000</td>\n",
       "      <td>Sales</td>\n",
       "    </tr>\n",
       "    <tr>\n",
       "      <th>3</th>\n",
       "      <td>0111111104</td>\n",
       "      <td>Adeola Balogun</td>\n",
       "      <td>27</td>\n",
       "      <td>adeola@@gmail.com</td>\n",
       "      <td>NaT</td>\n",
       "      <td>$45,000</td>\n",
       "      <td>HR</td>\n",
       "    </tr>\n",
       "    <tr>\n",
       "      <th>4</th>\n",
       "      <td>0111111105</td>\n",
       "      <td>Ifeyinwa Okafor</td>\n",
       "      <td>thirty</td>\n",
       "      <td>ifeyinwa.okafor@gmail.com</td>\n",
       "      <td>2023-03-10</td>\n",
       "      <td>48000</td>\n",
       "      <td>Marketing</td>\n",
       "    </tr>\n",
       "  </tbody>\n",
       "</table>\n",
       "</div>"
      ],
      "text/plain": [
       "           ID             Name     Age                      Email  Join Date  \\\n",
       "0  0111111101    Chinedu Okoro      29    chinedu.okoro@gmail.com 2023-01-15   \n",
       "1  0111111102        Ngozi Eze      34      ngozi.eze@hotmail.com        NaT   \n",
       "2  0111111103       Emeka Uche     NaN       emeka.uche@yahoo.com 2022-12-05   \n",
       "3  0111111104   Adeola Balogun      27          adeola@@gmail.com        NaT   \n",
       "4  0111111105  Ifeyinwa Okafor  thirty  ifeyinwa.okafor@gmail.com 2023-03-10   \n",
       "\n",
       "    Salary     Department  \n",
       "0  $50,000    Engineering  \n",
       "1    55000   Engineering   \n",
       "2    60000          Sales  \n",
       "3  $45,000             HR  \n",
       "4    48000      Marketing  "
      ]
     },
     "execution_count": 32,
     "metadata": {},
     "output_type": "execute_result"
    }
   ],
   "source": [
    "df['Join Date']=pd.to_datetime(df['Join Date'], errors='coerce',yearfirst=False) \n",
    "df.head()"
   ]
  }
 ],
 "metadata": {
  "kernelspec": {
   "display_name": "Python 3",
   "language": "python",
   "name": "python3"
  },
  "language_info": {
   "codemirror_mode": {
    "name": "ipython",
    "version": 3
   },
   "file_extension": ".py",
   "mimetype": "text/x-python",
   "name": "python",
   "nbconvert_exporter": "python",
   "pygments_lexer": "ipython3",
   "version": "3.13.7"
  }
 },
 "nbformat": 4,
 "nbformat_minor": 5
}
