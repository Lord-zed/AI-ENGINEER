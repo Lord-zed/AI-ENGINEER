{
 "cells": [
  {
   "cell_type": "code",
   "execution_count": 1,
   "id": "2186b8dd",
   "metadata": {},
   "outputs": [],
   "source": [
    "import pandas as pd\n",
    "import os\n"
   ]
  },
  {
   "cell_type": "code",
   "execution_count": null,
   "id": "6cdd0e6c",
   "metadata": {},
   "outputs": [],
   "source": [
    "#url = \"https://raw.githubusercontent.com/username/repository/branch/path/to/yourfile.csv\"\n",
    "#df = pd.read_csv(url)\n",
    "sales=pd.read_csv('sales_data.xls')"
   ]
  },
  {
   "cell_type": "markdown",
   "id": "e6adec48",
   "metadata": {},
   "source": [
    "# Exploratory Data Analysis"
   ]
  },
  {
   "cell_type": "code",
   "execution_count": 5,
   "id": "90d22831",
   "metadata": {},
   "outputs": [
    {
     "data": {
      "text/html": [
       "<div>\n",
       "<style scoped>\n",
       "    .dataframe tbody tr th:only-of-type {\n",
       "        vertical-align: middle;\n",
       "    }\n",
       "\n",
       "    .dataframe tbody tr th {\n",
       "        vertical-align: top;\n",
       "    }\n",
       "\n",
       "    .dataframe thead th {\n",
       "        text-align: right;\n",
       "    }\n",
       "</style>\n",
       "<table border=\"1\" class=\"dataframe\">\n",
       "  <thead>\n",
       "    <tr style=\"text-align: right;\">\n",
       "      <th></th>\n",
       "      <th>customer_id</th>\n",
       "      <th>device_id</th>\n",
       "      <th>item_id</th>\n",
       "      <th>line_item_id</th>\n",
       "      <th>order_id</th>\n",
       "      <th>event_id</th>\n",
       "      <th>event_timestamp</th>\n",
       "      <th>quantity</th>\n",
       "      <th>currency</th>\n",
       "      <th>checked_out_at</th>\n",
       "      <th>status</th>\n",
       "      <th>location</th>\n",
       "    </tr>\n",
       "  </thead>\n",
       "  <tbody>\n",
       "    <tr>\n",
       "      <th>0</th>\n",
       "      <td>cda7bec0-7cbf-4145-baf9-e049bab94504</td>\n",
       "      <td>33b485de-7338-4997-b1d0-b988ba17b245</td>\n",
       "      <td>4</td>\n",
       "      <td>3201</td>\n",
       "      <td>9e950ce3-2e12-479c-a051-493c1a497d49</td>\n",
       "      <td>14786</td>\n",
       "      <td>2024-03-26 22:05:58.863661</td>\n",
       "      <td>2</td>\n",
       "      <td>NGN</td>\n",
       "      <td>2024-03-30 04:19:10.406794</td>\n",
       "      <td>success</td>\n",
       "      <td>Saint Helena</td>\n",
       "    </tr>\n",
       "    <tr>\n",
       "      <th>1</th>\n",
       "      <td>cda7bec0-7cbf-4145-baf9-e049bab94504</td>\n",
       "      <td>33b485de-7338-4997-b1d0-b988ba17b245</td>\n",
       "      <td>5</td>\n",
       "      <td>3202</td>\n",
       "      <td>9e950ce3-2e12-479c-a051-493c1a497d49</td>\n",
       "      <td>14786</td>\n",
       "      <td>2024-03-26 22:05:58.863661</td>\n",
       "      <td>4</td>\n",
       "      <td>NGN</td>\n",
       "      <td>2024-03-30 04:19:10.406794</td>\n",
       "      <td>success</td>\n",
       "      <td>Saint Helena</td>\n",
       "    </tr>\n",
       "    <tr>\n",
       "      <th>2</th>\n",
       "      <td>cda7bec0-7cbf-4145-baf9-e049bab94504</td>\n",
       "      <td>33b485de-7338-4997-b1d0-b988ba17b245</td>\n",
       "      <td>9</td>\n",
       "      <td>3203</td>\n",
       "      <td>9e950ce3-2e12-479c-a051-493c1a497d49</td>\n",
       "      <td>14786</td>\n",
       "      <td>2024-03-26 22:05:58.863661</td>\n",
       "      <td>5</td>\n",
       "      <td>NGN</td>\n",
       "      <td>2024-03-30 04:19:10.406794</td>\n",
       "      <td>success</td>\n",
       "      <td>Saint Helena</td>\n",
       "    </tr>\n",
       "  </tbody>\n",
       "</table>\n",
       "</div>"
      ],
      "text/plain": [
       "                            customer_id                             device_id  \\\n",
       "0  cda7bec0-7cbf-4145-baf9-e049bab94504  33b485de-7338-4997-b1d0-b988ba17b245   \n",
       "1  cda7bec0-7cbf-4145-baf9-e049bab94504  33b485de-7338-4997-b1d0-b988ba17b245   \n",
       "2  cda7bec0-7cbf-4145-baf9-e049bab94504  33b485de-7338-4997-b1d0-b988ba17b245   \n",
       "\n",
       "   item_id  line_item_id                              order_id  event_id  \\\n",
       "0        4          3201  9e950ce3-2e12-479c-a051-493c1a497d49     14786   \n",
       "1        5          3202  9e950ce3-2e12-479c-a051-493c1a497d49     14786   \n",
       "2        9          3203  9e950ce3-2e12-479c-a051-493c1a497d49     14786   \n",
       "\n",
       "              event_timestamp  quantity currency              checked_out_at  \\\n",
       "0  2024-03-26 22:05:58.863661         2      NGN  2024-03-30 04:19:10.406794   \n",
       "1  2024-03-26 22:05:58.863661         4      NGN  2024-03-30 04:19:10.406794   \n",
       "2  2024-03-26 22:05:58.863661         5      NGN  2024-03-30 04:19:10.406794   \n",
       "\n",
       "    status      location  \n",
       "0  success  Saint Helena  \n",
       "1  success  Saint Helena  \n",
       "2  success  Saint Helena  "
      ]
     },
     "execution_count": 5,
     "metadata": {},
     "output_type": "execute_result"
    }
   ],
   "source": [
    "sales.head(3)"
   ]
  },
  {
   "cell_type": "code",
   "execution_count": 7,
   "id": "7d2da06a",
   "metadata": {},
   "outputs": [
    {
     "data": {
      "text/plain": [
       "customer_id        0\n",
       "device_id          0\n",
       "item_id            0\n",
       "line_item_id       0\n",
       "order_id           0\n",
       "event_id           0\n",
       "event_timestamp    0\n",
       "quantity           0\n",
       "currency           0\n",
       "checked_out_at     0\n",
       "status             0\n",
       "location           0\n",
       "dtype: int64"
      ]
     },
     "execution_count": 7,
     "metadata": {},
     "output_type": "execute_result"
    }
   ],
   "source": [
    "sales.isna().sum()"
   ]
  },
  {
   "cell_type": "code",
   "execution_count": 8,
   "id": "c5298f6e",
   "metadata": {},
   "outputs": [
    {
     "data": {
      "text/plain": [
       "(578320, 12)"
      ]
     },
     "execution_count": 8,
     "metadata": {},
     "output_type": "execute_result"
    }
   ],
   "source": [
    "sales.shape"
   ]
  },
  {
   "cell_type": "code",
   "execution_count": null,
   "id": "ba14ef73",
   "metadata": {},
   "outputs": [
    {
     "data": {
      "text/plain": [
       "<pandas.core.indexing._LocIndexer at 0x224174e95e0>"
      ]
     },
     "execution_count": 9,
     "metadata": {},
     "output_type": "execute_result"
    }
   ],
   "source": [
    "# using loc and iloc\n",
    "sales.loc[[0,2,4,6]]  # works with both integres and strings\n",
    "sales.iloc[[0,2,4,6]] # works with only integers\n"
   ]
  },
  {
   "cell_type": "code",
   "execution_count": 10,
   "id": "1f754875",
   "metadata": {},
   "outputs": [
    {
     "data": {
      "text/html": [
       "<div>\n",
       "<style scoped>\n",
       "    .dataframe tbody tr th:only-of-type {\n",
       "        vertical-align: middle;\n",
       "    }\n",
       "\n",
       "    .dataframe tbody tr th {\n",
       "        vertical-align: top;\n",
       "    }\n",
       "\n",
       "    .dataframe thead th {\n",
       "        text-align: right;\n",
       "    }\n",
       "</style>\n",
       "<table border=\"1\" class=\"dataframe\">\n",
       "  <thead>\n",
       "    <tr style=\"text-align: right;\">\n",
       "      <th></th>\n",
       "      <th>customer_id</th>\n",
       "      <th>device_id</th>\n",
       "      <th>item_id</th>\n",
       "    </tr>\n",
       "  </thead>\n",
       "  <tbody>\n",
       "    <tr>\n",
       "      <th>0</th>\n",
       "      <td>cda7bec0-7cbf-4145-baf9-e049bab94504</td>\n",
       "      <td>33b485de-7338-4997-b1d0-b988ba17b245</td>\n",
       "      <td>4</td>\n",
       "    </tr>\n",
       "    <tr>\n",
       "      <th>2</th>\n",
       "      <td>cda7bec0-7cbf-4145-baf9-e049bab94504</td>\n",
       "      <td>33b485de-7338-4997-b1d0-b988ba17b245</td>\n",
       "      <td>9</td>\n",
       "    </tr>\n",
       "    <tr>\n",
       "      <th>4</th>\n",
       "      <td>cda7bec0-7cbf-4145-baf9-e049bab94504</td>\n",
       "      <td>33b485de-7338-4997-b1d0-b988ba17b245</td>\n",
       "      <td>6</td>\n",
       "    </tr>\n",
       "    <tr>\n",
       "      <th>6</th>\n",
       "      <td>cda7bec0-7cbf-4145-baf9-e049bab94504</td>\n",
       "      <td>33b485de-7338-4997-b1d0-b988ba17b245</td>\n",
       "      <td>4</td>\n",
       "    </tr>\n",
       "  </tbody>\n",
       "</table>\n",
       "</div>"
      ],
      "text/plain": [
       "                            customer_id                             device_id  \\\n",
       "0  cda7bec0-7cbf-4145-baf9-e049bab94504  33b485de-7338-4997-b1d0-b988ba17b245   \n",
       "2  cda7bec0-7cbf-4145-baf9-e049bab94504  33b485de-7338-4997-b1d0-b988ba17b245   \n",
       "4  cda7bec0-7cbf-4145-baf9-e049bab94504  33b485de-7338-4997-b1d0-b988ba17b245   \n",
       "6  cda7bec0-7cbf-4145-baf9-e049bab94504  33b485de-7338-4997-b1d0-b988ba17b245   \n",
       "\n",
       "   item_id  \n",
       "0        4  \n",
       "2        9  \n",
       "4        6  \n",
       "6        4  "
      ]
     },
     "execution_count": 10,
     "metadata": {},
     "output_type": "execute_result"
    }
   ],
   "source": [
    "# indexing column using loc. this is having first argument for the row and second argument column using column names or strings\n",
    "sales.loc[[0,2,4,6], ['customer_id','device_id','item_id']]"
   ]
  },
  {
   "cell_type": "code",
   "execution_count": 28,
   "id": "1d3467d0",
   "metadata": {},
   "outputs": [
    {
     "data": {
      "text/html": [
       "<div>\n",
       "<style scoped>\n",
       "    .dataframe tbody tr th:only-of-type {\n",
       "        vertical-align: middle;\n",
       "    }\n",
       "\n",
       "    .dataframe tbody tr th {\n",
       "        vertical-align: top;\n",
       "    }\n",
       "\n",
       "    .dataframe thead th {\n",
       "        text-align: right;\n",
       "    }\n",
       "</style>\n",
       "<table border=\"1\" class=\"dataframe\">\n",
       "  <thead>\n",
       "    <tr style=\"text-align: right;\">\n",
       "      <th></th>\n",
       "      <th>customer_id</th>\n",
       "      <th>device_id</th>\n",
       "      <th>item_id</th>\n",
       "      <th>status</th>\n",
       "    </tr>\n",
       "    <tr>\n",
       "      <th>location</th>\n",
       "      <th></th>\n",
       "      <th></th>\n",
       "      <th></th>\n",
       "      <th></th>\n",
       "    </tr>\n",
       "  </thead>\n",
       "  <tbody>\n",
       "    <tr>\n",
       "      <th>Saint Helena</th>\n",
       "      <td>cda7bec0-7cbf-4145-baf9-e049bab94504</td>\n",
       "      <td>33b485de-7338-4997-b1d0-b988ba17b245</td>\n",
       "      <td>4</td>\n",
       "      <td>success</td>\n",
       "    </tr>\n",
       "    <tr>\n",
       "      <th>Saint Helena</th>\n",
       "      <td>cda7bec0-7cbf-4145-baf9-e049bab94504</td>\n",
       "      <td>33b485de-7338-4997-b1d0-b988ba17b245</td>\n",
       "      <td>9</td>\n",
       "      <td>success</td>\n",
       "    </tr>\n",
       "    <tr>\n",
       "      <th>Saint Helena</th>\n",
       "      <td>cda7bec0-7cbf-4145-baf9-e049bab94504</td>\n",
       "      <td>33b485de-7338-4997-b1d0-b988ba17b245</td>\n",
       "      <td>6</td>\n",
       "      <td>success</td>\n",
       "    </tr>\n",
       "    <tr>\n",
       "      <th>Saint Helena</th>\n",
       "      <td>cda7bec0-7cbf-4145-baf9-e049bab94504</td>\n",
       "      <td>33b485de-7338-4997-b1d0-b988ba17b245</td>\n",
       "      <td>4</td>\n",
       "      <td>success</td>\n",
       "    </tr>\n",
       "  </tbody>\n",
       "</table>\n",
       "</div>"
      ],
      "text/plain": [
       "                                       customer_id  \\\n",
       "location                                             \n",
       "Saint Helena  cda7bec0-7cbf-4145-baf9-e049bab94504   \n",
       "Saint Helena  cda7bec0-7cbf-4145-baf9-e049bab94504   \n",
       "Saint Helena  cda7bec0-7cbf-4145-baf9-e049bab94504   \n",
       "Saint Helena  cda7bec0-7cbf-4145-baf9-e049bab94504   \n",
       "\n",
       "                                         device_id  item_id   status  \n",
       "location                                                              \n",
       "Saint Helena  33b485de-7338-4997-b1d0-b988ba17b245        4  success  \n",
       "Saint Helena  33b485de-7338-4997-b1d0-b988ba17b245        9  success  \n",
       "Saint Helena  33b485de-7338-4997-b1d0-b988ba17b245        6  success  \n",
       "Saint Helena  33b485de-7338-4997-b1d0-b988ba17b245        4  success  "
      ]
     },
     "execution_count": 28,
     "metadata": {},
     "output_type": "execute_result"
    }
   ],
   "source": [
    "# indexing columns by having first argument for the row and the second argument for the column but taking the index number\n",
    "sales.iloc[[0,2,4,6],[0,1,2,10]]"
   ]
  },
  {
   "cell_type": "code",
   "execution_count": null,
   "id": "d9799e9b",
   "metadata": {},
   "outputs": [],
   "source": [
    "# Using iloc for integer or index numbers\n",
    "#sales.iloc[0:4,0:4]\n",
    "# sales.iloc[0:-1,1:4]"
   ]
  },
  {
   "cell_type": "code",
   "execution_count": null,
   "id": "54bc6336",
   "metadata": {},
   "outputs": [],
   "source": [
    "# lets work with index...using loc and iloc...\n",
    "sales.set_index(\"location\", inplace = True)"
   ]
  },
  {
   "cell_type": "code",
   "execution_count": null,
   "id": "c6c6616e",
   "metadata": {},
   "outputs": [],
   "source": [
    "sales.head(3)"
   ]
  },
  {
   "cell_type": "code",
   "execution_count": 18,
   "id": "8de5307b",
   "metadata": {},
   "outputs": [
    {
     "data": {
      "text/plain": [
       "Index(['Saint Helena', 'Saint Helena', 'Saint Helena', 'Saint Helena',\n",
       "       'Saint Helena', 'Saint Helena', 'Saint Helena', 'Saint Helena',\n",
       "       'Saint Helena', 'Saint Helena',\n",
       "       ...\n",
       "       'Christmas Island', 'Christmas Island', 'Christmas Island',\n",
       "       'Christmas Island', 'Christmas Island', 'Christmas Island',\n",
       "       'Christmas Island', 'Christmas Island', 'Christmas Island',\n",
       "       'Christmas Island'],\n",
       "      dtype='object', name='location', length=578320)"
      ]
     },
     "execution_count": 18,
     "metadata": {},
     "output_type": "execute_result"
    }
   ],
   "source": [
    "sales.index"
   ]
  },
  {
   "cell_type": "code",
   "execution_count": 31,
   "id": "2d100637",
   "metadata": {},
   "outputs": [
    {
     "data": {
      "text/plain": [
       "Index(['Afghanistan', 'Albania', 'Algeria', 'American Samoa', 'Andorra',\n",
       "       'Angola', 'Anguilla', 'Antarctica (the territory South of 60 deg S)',\n",
       "       'Antigua and Barbuda', 'Argentina',\n",
       "       ...\n",
       "       'Uruguay', 'Uzbekistan', 'Vanuatu', 'Venezuela', 'Vietnam',\n",
       "       'Wallis and Futuna', 'Western Sahara', 'Yemen', 'Zambia', 'Zimbabwe'],\n",
       "      dtype='object', name='location', length=243)"
      ]
     },
     "execution_count": 31,
     "metadata": {},
     "output_type": "execute_result"
    }
   ],
   "source": [
    "# list af all the locations or countries where all the customers purchase from...\n",
    "unique_index = sales.index.unique().sort_values()\n",
    "unique_index"
   ]
  },
  {
   "cell_type": "code",
   "execution_count": 33,
   "id": "b6c76011",
   "metadata": {},
   "outputs": [
    {
     "data": {
      "text/plain": [
       "location\n",
       "Korea        6997\n",
       "Argentina    4507\n",
       "Mauritius    4414\n",
       "Jersey       4130\n",
       "Panama       3936\n",
       "             ... \n",
       "Chad         1082\n",
       "Malaysia     1037\n",
       "Austria       921\n",
       "Italy         783\n",
       "Uruguay       734\n",
       "Name: count, Length: 243, dtype: int64"
      ]
     },
     "execution_count": 33,
     "metadata": {},
     "output_type": "execute_result"
    }
   ],
   "source": [
    "# top 10 countries or locations where most patronage are recieved...\n",
    "sales.index.value_counts()"
   ]
  },
  {
   "cell_type": "code",
   "execution_count": null,
   "id": "9ef28fb1",
   "metadata": {},
   "outputs": [],
   "source": [
    "sales.index.value_counts().head(10).plot(kind = 'bar')"
   ]
  },
  {
   "cell_type": "code",
   "execution_count": null,
   "id": "f973ead2",
   "metadata": {},
   "outputs": [],
   "source": [
    "# top 10 countries where most patronage are recieved....\n",
    "sales.index.value_counts().head(100).plot(kind = 'bar',figsize = (20,20))"
   ]
  },
  {
   "cell_type": "code",
   "execution_count": 35,
   "id": "e921dc33",
   "metadata": {},
   "outputs": [
    {
     "data": {
      "text/plain": [
       "243"
      ]
     },
     "execution_count": 35,
     "metadata": {},
     "output_type": "execute_result"
    }
   ],
   "source": [
    "unique_index.nunique()"
   ]
  },
  {
   "cell_type": "code",
   "execution_count": null,
   "id": "4315a891",
   "metadata": {},
   "outputs": [],
   "source": [
    "sales.columns"
   ]
  },
  {
   "cell_type": "code",
   "execution_count": null,
   "id": "7d72f8a3",
   "metadata": {},
   "outputs": [],
   "source": [
    "len(sales.columns)"
   ]
  },
  {
   "cell_type": "code",
   "execution_count": null,
   "id": "393b3dca",
   "metadata": {},
   "outputs": [],
   "source": [
    "sales.loc[\"Brazil\"] # I selected any of the unique values in the index..."
   ]
  },
  {
   "cell_type": "code",
   "execution_count": null,
   "id": "2ea40a2d",
   "metadata": {},
   "outputs": [],
   "source": [
    "# Filtering\n",
    "sales[sales[\"customer_id\"] == \"56d7d069-2f58-4b35-9559-9405c45cae33\"]"
   ]
  },
  {
   "cell_type": "code",
   "execution_count": 42,
   "id": "b1087f26",
   "metadata": {},
   "outputs": [
    {
     "data": {
      "text/plain": [
       "4594"
      ]
     },
     "execution_count": 42,
     "metadata": {},
     "output_type": "execute_result"
    }
   ],
   "source": [
    "# Total nmunbers of customers\n",
    "sales[\"customer_id\"].nunique()"
   ]
  },
  {
   "cell_type": "code",
   "execution_count": null,
   "id": "4f9e9830",
   "metadata": {},
   "outputs": [],
   "source": [
    "# Top 20 custommers with the highest purchases....\n",
    "sales[\"customer_id\"].value_counts().sort_values(ascending = False).head(20).plot(kind=\"bar\")"
   ]
  },
  {
   "cell_type": "code",
   "execution_count": 44,
   "id": "6275dd67",
   "metadata": {},
   "outputs": [],
   "source": [
    "# lets pick one of these customers and see their behaviour\n",
    "mask = (sales[\"customer_id\"] == \"ebcb2343-be1b-421e-83eb-6f79a321d999\")"
   ]
  },
  {
   "cell_type": "code",
   "execution_count": null,
   "id": "1bc349b5",
   "metadata": {},
   "outputs": [],
   "source": [
    "sales[mask].head()"
   ]
  },
  {
   "cell_type": "code",
   "execution_count": 46,
   "id": "e0d1a330",
   "metadata": {},
   "outputs": [
    {
     "data": {
      "text/html": [
       "<div>\n",
       "<style scoped>\n",
       "    .dataframe tbody tr th:only-of-type {\n",
       "        vertical-align: middle;\n",
       "    }\n",
       "\n",
       "    .dataframe tbody tr th {\n",
       "        vertical-align: top;\n",
       "    }\n",
       "\n",
       "    .dataframe thead th {\n",
       "        text-align: right;\n",
       "    }\n",
       "</style>\n",
       "<table border=\"1\" class=\"dataframe\">\n",
       "  <thead>\n",
       "    <tr style=\"text-align: right;\">\n",
       "      <th></th>\n",
       "      <th>customer_id</th>\n",
       "      <th>device_id</th>\n",
       "      <th>item_id</th>\n",
       "      <th>line_item_id</th>\n",
       "      <th>order_id</th>\n",
       "      <th>event_id</th>\n",
       "      <th>event_timestamp</th>\n",
       "      <th>quantity</th>\n",
       "      <th>currency</th>\n",
       "    </tr>\n",
       "    <tr>\n",
       "      <th>location</th>\n",
       "      <th></th>\n",
       "      <th></th>\n",
       "      <th></th>\n",
       "      <th></th>\n",
       "      <th></th>\n",
       "      <th></th>\n",
       "      <th></th>\n",
       "      <th></th>\n",
       "      <th></th>\n",
       "    </tr>\n",
       "  </thead>\n",
       "  <tbody>\n",
       "    <tr>\n",
       "      <th>Wallis and Futuna</th>\n",
       "      <td>ebcb2343-be1b-421e-83eb-6f79a321d999</td>\n",
       "      <td>aa3a57b3-6636-4b91-8fa8-56b0524de6c2</td>\n",
       "      <td>5</td>\n",
       "      <td>26108</td>\n",
       "      <td>5984596b-0ed5-4571-8e79-b261e6f138ad</td>\n",
       "      <td>121373</td>\n",
       "      <td>2024-03-27 12:43:53.991103</td>\n",
       "      <td>5</td>\n",
       "      <td>NGN</td>\n",
       "    </tr>\n",
       "    <tr>\n",
       "      <th>Wallis and Futuna</th>\n",
       "      <td>ebcb2343-be1b-421e-83eb-6f79a321d999</td>\n",
       "      <td>aa3a57b3-6636-4b91-8fa8-56b0524de6c2</td>\n",
       "      <td>11</td>\n",
       "      <td>26109</td>\n",
       "      <td>5984596b-0ed5-4571-8e79-b261e6f138ad</td>\n",
       "      <td>121373</td>\n",
       "      <td>2024-03-27 12:43:53.991103</td>\n",
       "      <td>1</td>\n",
       "      <td>NGN</td>\n",
       "    </tr>\n",
       "  </tbody>\n",
       "</table>\n",
       "</div>"
      ],
      "text/plain": [
       "                                            customer_id  \\\n",
       "location                                                  \n",
       "Wallis and Futuna  ebcb2343-be1b-421e-83eb-6f79a321d999   \n",
       "Wallis and Futuna  ebcb2343-be1b-421e-83eb-6f79a321d999   \n",
       "\n",
       "                                              device_id  item_id  \\\n",
       "location                                                           \n",
       "Wallis and Futuna  aa3a57b3-6636-4b91-8fa8-56b0524de6c2        5   \n",
       "Wallis and Futuna  aa3a57b3-6636-4b91-8fa8-56b0524de6c2       11   \n",
       "\n",
       "                   line_item_id                              order_id  \\\n",
       "location                                                                \n",
       "Wallis and Futuna         26108  5984596b-0ed5-4571-8e79-b261e6f138ad   \n",
       "Wallis and Futuna         26109  5984596b-0ed5-4571-8e79-b261e6f138ad   \n",
       "\n",
       "                   event_id             event_timestamp  quantity currency  \n",
       "location                                                                    \n",
       "Wallis and Futuna    121373  2024-03-27 12:43:53.991103         5      NGN  \n",
       "Wallis and Futuna    121373  2024-03-27 12:43:53.991103         1      NGN  "
      ]
     },
     "execution_count": 46,
     "metadata": {},
     "output_type": "execute_result"
    }
   ],
   "source": [
    "sales.loc[mask,\"customer_id\":\"currency\"].head(2) # give me mask , but from colunm customer_id to currency"
   ]
  },
  {
   "cell_type": "code",
   "execution_count": 66,
   "id": "e823a827",
   "metadata": {},
   "outputs": [
    {
     "data": {
      "text/plain": [
       "3"
      ]
     },
     "execution_count": 66,
     "metadata": {},
     "output_type": "execute_result"
    }
   ],
   "source": [
    "sales[\"currency\"].nunique()\n",
    "#sales[\"currency\"].unique()"
   ]
  },
  {
   "cell_type": "code",
   "execution_count": 49,
   "id": "eee5e6ab",
   "metadata": {},
   "outputs": [
    {
     "data": {
      "text/plain": [
       "currency\n",
       "USD    198037\n",
       "GBP    191403\n",
       "NGN    188880\n",
       "Name: count, dtype: int64"
      ]
     },
     "execution_count": 49,
     "metadata": {},
     "output_type": "execute_result"
    }
   ],
   "source": [
    "currency_and_number_times_used = sales[\"currency\"].value_counts()\n",
    "currency_and_number_times_used"
   ]
  },
  {
   "cell_type": "code",
   "execution_count": null,
   "id": "4a49eb2b",
   "metadata": {},
   "outputs": [],
   "source": [
    "currency_and_number_times_used.plot(kind =\"bar\" )"
   ]
  },
  {
   "cell_type": "code",
   "execution_count": 70,
   "id": "de2012ab",
   "metadata": {},
   "outputs": [],
   "source": [
    "# USING MULTIPLE FILTER\n",
    "mask2 = (sales[\"customer_id\"] == \"ebcb2343-be1b-421e-83eb-6f79a321d999\") & (sales[\"status\"] == \"success\")"
   ]
  },
  {
   "cell_type": "code",
   "execution_count": null,
   "id": "c564c9a2",
   "metadata": {},
   "outputs": [],
   "source": [
    "sales[mask2]"
   ]
  },
  {
   "cell_type": "code",
   "execution_count": 55,
   "id": "92b53264",
   "metadata": {},
   "outputs": [],
   "source": [
    "# lets see the numbers of sucessful transaction carried out by this customer\n",
    "this_customer = sales.loc[mask]"
   ]
  },
  {
   "cell_type": "code",
   "execution_count": 67,
   "id": "95c40fdb",
   "metadata": {},
   "outputs": [
    {
     "data": {
      "text/plain": [
       "status\n",
       "success    360\n",
       "Name: count, dtype: int64"
      ]
     },
     "execution_count": 67,
     "metadata": {},
     "output_type": "execute_result"
    }
   ],
   "source": [
    "this_customer[\"status\"].value_counts()\n",
    "# The output showsthat the particular customer has not experienced failed transaction  at all."
   ]
  },
  {
   "cell_type": "code",
   "execution_count": 71,
   "id": "ed8dfda0",
   "metadata": {},
   "outputs": [
    {
     "data": {
      "text/plain": [
       "status\n",
       "failed       196383\n",
       "success      192594\n",
       "cancelled    189343\n",
       "Name: count, dtype: int64"
      ]
     },
     "execution_count": 71,
     "metadata": {},
     "output_type": "execute_result"
    }
   ],
   "source": [
    "# LEts find out the numbers of failed transaction as compared to others...\n",
    "transaction_status = sales[\"status\"].value_counts()\n",
    "transaction_status.head()"
   ]
  },
  {
   "cell_type": "code",
   "execution_count": null,
   "id": "a52fdaaf",
   "metadata": {},
   "outputs": [],
   "source": [
    "transaction_status.plot(kind = \"bar\")"
   ]
  },
  {
   "cell_type": "code",
   "execution_count": 72,
   "id": "fedd03a0",
   "metadata": {},
   "outputs": [
    {
     "data": {
      "text/plain": [
       "location\n",
       "Saint Helena    NGN\n",
       "Saint Helena    NGN\n",
       "Saint Helena    NGN\n",
       "Saint Helena    NGN\n",
       "Saint Helena    NGN\n",
       "Djibouti        NGN\n",
       "Djibouti        NGN\n",
       "Djibouti        NGN\n",
       "Djibouti        NGN\n",
       "Ecuador         USD\n",
       "Ecuador         USD\n",
       "Ecuador         USD\n",
       "Ecuador         USD\n",
       "Ecuador         USD\n",
       "Mali            NGN\n",
       "Name: currency, dtype: object"
      ]
     },
     "execution_count": 72,
     "metadata": {},
     "output_type": "execute_result"
    }
   ],
   "source": [
    "currency_by_status = sales.groupby(\"status\")[\"currency\"]\n",
    "currency_by_status.head()"
   ]
  },
  {
   "cell_type": "code",
   "execution_count": 73,
   "id": "35c04fd8",
   "metadata": {},
   "outputs": [
    {
     "data": {
      "text/html": [
       "<div>\n",
       "<style scoped>\n",
       "    .dataframe tbody tr th:only-of-type {\n",
       "        vertical-align: middle;\n",
       "    }\n",
       "\n",
       "    .dataframe tbody tr th {\n",
       "        vertical-align: top;\n",
       "    }\n",
       "\n",
       "    .dataframe thead th {\n",
       "        text-align: right;\n",
       "    }\n",
       "</style>\n",
       "<table border=\"1\" class=\"dataframe\">\n",
       "  <thead>\n",
       "    <tr style=\"text-align: right;\">\n",
       "      <th></th>\n",
       "      <th>customer_id</th>\n",
       "      <th>device_id</th>\n",
       "      <th>item_id</th>\n",
       "      <th>line_item_id</th>\n",
       "      <th>order_id</th>\n",
       "      <th>event_id</th>\n",
       "      <th>event_timestamp</th>\n",
       "      <th>quantity</th>\n",
       "      <th>currency</th>\n",
       "      <th>checked_out_at</th>\n",
       "      <th>status</th>\n",
       "    </tr>\n",
       "    <tr>\n",
       "      <th>location</th>\n",
       "      <th></th>\n",
       "      <th></th>\n",
       "      <th></th>\n",
       "      <th></th>\n",
       "      <th></th>\n",
       "      <th></th>\n",
       "      <th></th>\n",
       "      <th></th>\n",
       "      <th></th>\n",
       "      <th></th>\n",
       "      <th></th>\n",
       "    </tr>\n",
       "  </thead>\n",
       "  <tbody>\n",
       "    <tr>\n",
       "      <th>Korea</th>\n",
       "      <td>3b0ae8c1-68c6-40c8-a13a-e2bffb5ffdf9</td>\n",
       "      <td>01cf516e-66e6-45f2-a6d6-b6f5f5232778</td>\n",
       "      <td>14</td>\n",
       "      <td>3914</td>\n",
       "      <td>b253052f-6f62-4b1f-bce2-ab2324a2a27c</td>\n",
       "      <td>18219</td>\n",
       "      <td>2024-03-19 10:01:39.523573</td>\n",
       "      <td>5</td>\n",
       "      <td>USD</td>\n",
       "      <td>2024-03-30 04:06:10.636247</td>\n",
       "      <td>cancelled</td>\n",
       "    </tr>\n",
       "    <tr>\n",
       "      <th>Korea</th>\n",
       "      <td>3b0ae8c1-68c6-40c8-a13a-e2bffb5ffdf9</td>\n",
       "      <td>01cf516e-66e6-45f2-a6d6-b6f5f5232778</td>\n",
       "      <td>8</td>\n",
       "      <td>3915</td>\n",
       "      <td>b253052f-6f62-4b1f-bce2-ab2324a2a27c</td>\n",
       "      <td>18219</td>\n",
       "      <td>2024-03-19 10:01:39.523573</td>\n",
       "      <td>2</td>\n",
       "      <td>USD</td>\n",
       "      <td>2024-03-30 04:06:10.636247</td>\n",
       "      <td>cancelled</td>\n",
       "    </tr>\n",
       "  </tbody>\n",
       "</table>\n",
       "</div>"
      ],
      "text/plain": [
       "                                   customer_id  \\\n",
       "location                                         \n",
       "Korea     3b0ae8c1-68c6-40c8-a13a-e2bffb5ffdf9   \n",
       "Korea     3b0ae8c1-68c6-40c8-a13a-e2bffb5ffdf9   \n",
       "\n",
       "                                     device_id  item_id  line_item_id  \\\n",
       "location                                                                \n",
       "Korea     01cf516e-66e6-45f2-a6d6-b6f5f5232778       14          3914   \n",
       "Korea     01cf516e-66e6-45f2-a6d6-b6f5f5232778        8          3915   \n",
       "\n",
       "                                      order_id  event_id  \\\n",
       "location                                                   \n",
       "Korea     b253052f-6f62-4b1f-bce2-ab2324a2a27c     18219   \n",
       "Korea     b253052f-6f62-4b1f-bce2-ab2324a2a27c     18219   \n",
       "\n",
       "                     event_timestamp  quantity currency  \\\n",
       "location                                                  \n",
       "Korea     2024-03-19 10:01:39.523573         5      USD   \n",
       "Korea     2024-03-19 10:01:39.523573         2      USD   \n",
       "\n",
       "                      checked_out_at     status  \n",
       "location                                         \n",
       "Korea     2024-03-30 04:06:10.636247  cancelled  \n",
       "Korea     2024-03-30 04:06:10.636247  cancelled  "
      ]
     },
     "execution_count": 73,
     "metadata": {},
     "output_type": "execute_result"
    }
   ],
   "source": [
    "# FILTERING FOR KOREA\n",
    "Korea = sales.loc[\"Korea\"]\n",
    "Korea.head(2)"
   ]
  },
  {
   "cell_type": "code",
   "execution_count": 63,
   "id": "7b43a3ed",
   "metadata": {},
   "outputs": [],
   "source": [
    "# Lets find out the status of transaction in Korea\n",
    "\n",
    "failed_transc = Korea[Korea[\"status\"] == \"failed\"]\n",
    "successful_transc = Korea[Korea[\"status\"] == \"success\"]\n",
    "cancelled_transc = Korea[Korea[\"status\"] == \"cancelled\"]"
   ]
  }
 ],
 "metadata": {
  "kernelspec": {
   "display_name": "Python 3",
   "language": "python",
   "name": "python3"
  },
  "language_info": {
   "codemirror_mode": {
    "name": "ipython",
    "version": 3
   },
   "file_extension": ".py",
   "mimetype": "text/x-python",
   "name": "python",
   "nbconvert_exporter": "python",
   "pygments_lexer": "ipython3",
   "version": "3.13.7"
  }
 },
 "nbformat": 4,
 "nbformat_minor": 5
}
