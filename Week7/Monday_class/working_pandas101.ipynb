{
 "cells": [
  {
   "cell_type": "code",
   "execution_count": 1,
   "id": "e0179a98",
   "metadata": {},
   "outputs": [],
   "source": [
    "import pandas as pd\n",
    "import os"
   ]
  },
  {
   "cell_type": "code",
   "execution_count": null,
   "id": "41099229",
   "metadata": {},
   "outputs": [],
   "source": [
    "# loc and iloc are called indexers\n",
    "# lets learn how they work and how they differ from each other\n",
    "sales=pd.read_excel('Sales Data.xlsx')\n",
    "sales.head()\n"
   ]
  },
  {
   "cell_type": "markdown",
   "id": "428a7891",
   "metadata": {},
   "source": [
    "# Exploratory Data Analysis"
   ]
  },
  {
   "cell_type": "code",
   "execution_count": 14,
   "id": "a7de5068",
   "metadata": {},
   "outputs": [
    {
     "data": {
      "text/plain": [
       "(3791, 6)"
      ]
     },
     "execution_count": 14,
     "metadata": {},
     "output_type": "execute_result"
    }
   ],
   "source": [
    "sales.isna()\n",
    "sales.describe()\n",
    "sales.shape"
   ]
  }
 ],
 "metadata": {
  "kernelspec": {
   "display_name": "Python 3",
   "language": "python",
   "name": "python3"
  },
  "language_info": {
   "codemirror_mode": {
    "name": "ipython",
    "version": 3
   },
   "file_extension": ".py",
   "mimetype": "text/x-python",
   "name": "python",
   "nbconvert_exporter": "python",
   "pygments_lexer": "ipython3",
   "version": "3.13.7"
  }
 },
 "nbformat": 4,
 "nbformat_minor": 5
}
